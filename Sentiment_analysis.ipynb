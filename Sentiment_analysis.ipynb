{
  "cells": [
    {
      "cell_type": "code",
      "execution_count": 1,
      "id": "4b8a8c96",
      "metadata": {
        "id": "4b8a8c96"
      },
      "outputs": [],
      "source": [
        "import pandas as pd\n",
        "import numpy as np\n",
        "import matplotlib.pyplot as plt\n",
        "import sklearn\n",
        "import seaborn as sns"
      ]
    },
    {
      "cell_type": "code",
      "execution_count": 2,
      "id": "7d920647",
      "metadata": {
        "colab": {
          "base_uri": "https://localhost:8080/"
        },
        "id": "7d920647",
        "outputId": "cc7516cd-15b4-489f-a1bf-2d3f1a2b4735"
      },
      "outputs": [
        {
          "name": "stdout",
          "output_type": "stream",
          "text": [
            "/bin/bash: gdown: command not found\n",
            "/bin/bash: gdown: command not found\n",
            "/bin/bash: gdown: command not found\n",
            "/bin/bash: gdown: command not found\n"
          ]
        }
      ],
      "source": [
        "!gdown https://drive.google.com/uc?id=1VKuCi2vNFZLhmyy2CdU0Lp8-Ab3re81N \n",
        "!gdown https://drive.google.com/uc?id=1JaF3TKLcveF2-88mzqF9EgP8928JhpCB\n",
        "!gdown https://drive.google.com/uc?id=13ORjoqdKbALvDyVjPIq23HWleQhccafJ\n",
        "!gdown https://drive.google.com/uc?id=1oijYQho6s63CjHppuJT7ERaRb81Javkt"
      ]
    },
    {
      "cell_type": "code",
      "execution_count": 3,
      "id": "5c3deb66",
      "metadata": {
        "colab": {
          "base_uri": "https://localhost:8080/"
        },
        "id": "5c3deb66",
        "outputId": "ee6d1ba2-1b05-4e8f-8ede-146f71809fff"
      },
      "outputs": [
        {
          "name": "stdout",
          "output_type": "stream",
          "text": [
            "unzip:  cannot find or open RAW_interactions.csv.zip, RAW_interactions.csv.zip.zip or RAW_interactions.csv.zip.ZIP.\n",
            "unzip:  cannot find or open RAW_recipes.csv.zip, RAW_recipes.csv.zip.zip or RAW_recipes.csv.zip.ZIP.\n",
            "unzip:  cannot find or open interactions_train.csv.zip, interactions_train.csv.zip.zip or interactions_train.csv.zip.ZIP.\n"
          ]
        }
      ],
      "source": [
        "! echo y | unzip RAW_interactions.csv.zip \n",
        "! echo y | unzip RAW_recipes.csv.zip\n",
        "! echo y | unzip interactions_train.csv.zip"
      ]
    },
    {
      "cell_type": "code",
      "execution_count": 4,
      "id": "54903004",
      "metadata": {
        "id": "54903004"
      },
      "outputs": [
        {
          "ename": "FileNotFoundError",
          "evalue": "[Errno 2] No such file or directory: 'RAW_interactions.csv'",
          "output_type": "error",
          "traceback": [
            "\u001b[0;31m---------------------------------------------------------------------------\u001b[0m",
            "\u001b[0;31mFileNotFoundError\u001b[0m                         Traceback (most recent call last)",
            "\u001b[0;32m<ipython-input-4-775c0fc6f103>\u001b[0m in \u001b[0;36m<module>\u001b[0;34m\u001b[0m\n\u001b[0;32m----> 1\u001b[0;31m \u001b[0mcomments\u001b[0m \u001b[0;34m=\u001b[0m \u001b[0mpd\u001b[0m\u001b[0;34m.\u001b[0m\u001b[0mread_csv\u001b[0m\u001b[0;34m(\u001b[0m\u001b[0;34m'RAW_interactions.csv'\u001b[0m\u001b[0;34m)\u001b[0m\u001b[0;34m\u001b[0m\u001b[0;34m\u001b[0m\u001b[0m\n\u001b[0m\u001b[1;32m      2\u001b[0m \u001b[0mrecipes\u001b[0m \u001b[0;34m=\u001b[0m \u001b[0mpd\u001b[0m\u001b[0;34m.\u001b[0m\u001b[0mread_csv\u001b[0m\u001b[0;34m(\u001b[0m\u001b[0;34m'RAW_recipes.csv'\u001b[0m\u001b[0;34m)\u001b[0m\u001b[0;34m\u001b[0m\u001b[0;34m\u001b[0m\u001b[0m\n",
            "\u001b[0;32m~/anaconda3/lib/python3.7/site-packages/pandas/io/parsers.py\u001b[0m in \u001b[0;36mread_csv\u001b[0;34m(filepath_or_buffer, sep, delimiter, header, names, index_col, usecols, squeeze, prefix, mangle_dupe_cols, dtype, engine, converters, true_values, false_values, skipinitialspace, skiprows, skipfooter, nrows, na_values, keep_default_na, na_filter, verbose, skip_blank_lines, parse_dates, infer_datetime_format, keep_date_col, date_parser, dayfirst, cache_dates, iterator, chunksize, compression, thousands, decimal, lineterminator, quotechar, quoting, doublequote, escapechar, comment, encoding, dialect, error_bad_lines, warn_bad_lines, delim_whitespace, low_memory, memory_map, float_precision, storage_options)\u001b[0m\n\u001b[1;32m    608\u001b[0m     \u001b[0mkwds\u001b[0m\u001b[0;34m.\u001b[0m\u001b[0mupdate\u001b[0m\u001b[0;34m(\u001b[0m\u001b[0mkwds_defaults\u001b[0m\u001b[0;34m)\u001b[0m\u001b[0;34m\u001b[0m\u001b[0;34m\u001b[0m\u001b[0m\n\u001b[1;32m    609\u001b[0m \u001b[0;34m\u001b[0m\u001b[0m\n\u001b[0;32m--> 610\u001b[0;31m     \u001b[0;32mreturn\u001b[0m \u001b[0m_read\u001b[0m\u001b[0;34m(\u001b[0m\u001b[0mfilepath_or_buffer\u001b[0m\u001b[0;34m,\u001b[0m \u001b[0mkwds\u001b[0m\u001b[0;34m)\u001b[0m\u001b[0;34m\u001b[0m\u001b[0;34m\u001b[0m\u001b[0m\n\u001b[0m\u001b[1;32m    611\u001b[0m \u001b[0;34m\u001b[0m\u001b[0m\n\u001b[1;32m    612\u001b[0m \u001b[0;34m\u001b[0m\u001b[0m\n",
            "\u001b[0;32m~/anaconda3/lib/python3.7/site-packages/pandas/io/parsers.py\u001b[0m in \u001b[0;36m_read\u001b[0;34m(filepath_or_buffer, kwds)\u001b[0m\n\u001b[1;32m    460\u001b[0m \u001b[0;34m\u001b[0m\u001b[0m\n\u001b[1;32m    461\u001b[0m     \u001b[0;31m# Create the parser.\u001b[0m\u001b[0;34m\u001b[0m\u001b[0;34m\u001b[0m\u001b[0;34m\u001b[0m\u001b[0m\n\u001b[0;32m--> 462\u001b[0;31m     \u001b[0mparser\u001b[0m \u001b[0;34m=\u001b[0m \u001b[0mTextFileReader\u001b[0m\u001b[0;34m(\u001b[0m\u001b[0mfilepath_or_buffer\u001b[0m\u001b[0;34m,\u001b[0m \u001b[0;34m**\u001b[0m\u001b[0mkwds\u001b[0m\u001b[0;34m)\u001b[0m\u001b[0;34m\u001b[0m\u001b[0;34m\u001b[0m\u001b[0m\n\u001b[0m\u001b[1;32m    463\u001b[0m \u001b[0;34m\u001b[0m\u001b[0m\n\u001b[1;32m    464\u001b[0m     \u001b[0;32mif\u001b[0m \u001b[0mchunksize\u001b[0m \u001b[0;32mor\u001b[0m \u001b[0miterator\u001b[0m\u001b[0;34m:\u001b[0m\u001b[0;34m\u001b[0m\u001b[0;34m\u001b[0m\u001b[0m\n",
            "\u001b[0;32m~/anaconda3/lib/python3.7/site-packages/pandas/io/parsers.py\u001b[0m in \u001b[0;36m__init__\u001b[0;34m(self, f, engine, **kwds)\u001b[0m\n\u001b[1;32m    817\u001b[0m             \u001b[0mself\u001b[0m\u001b[0;34m.\u001b[0m\u001b[0moptions\u001b[0m\u001b[0;34m[\u001b[0m\u001b[0;34m\"has_index_names\"\u001b[0m\u001b[0;34m]\u001b[0m \u001b[0;34m=\u001b[0m \u001b[0mkwds\u001b[0m\u001b[0;34m[\u001b[0m\u001b[0;34m\"has_index_names\"\u001b[0m\u001b[0;34m]\u001b[0m\u001b[0;34m\u001b[0m\u001b[0;34m\u001b[0m\u001b[0m\n\u001b[1;32m    818\u001b[0m \u001b[0;34m\u001b[0m\u001b[0m\n\u001b[0;32m--> 819\u001b[0;31m         \u001b[0mself\u001b[0m\u001b[0;34m.\u001b[0m\u001b[0m_engine\u001b[0m \u001b[0;34m=\u001b[0m \u001b[0mself\u001b[0m\u001b[0;34m.\u001b[0m\u001b[0m_make_engine\u001b[0m\u001b[0;34m(\u001b[0m\u001b[0mself\u001b[0m\u001b[0;34m.\u001b[0m\u001b[0mengine\u001b[0m\u001b[0;34m)\u001b[0m\u001b[0;34m\u001b[0m\u001b[0;34m\u001b[0m\u001b[0m\n\u001b[0m\u001b[1;32m    820\u001b[0m \u001b[0;34m\u001b[0m\u001b[0m\n\u001b[1;32m    821\u001b[0m     \u001b[0;32mdef\u001b[0m \u001b[0mclose\u001b[0m\u001b[0;34m(\u001b[0m\u001b[0mself\u001b[0m\u001b[0;34m)\u001b[0m\u001b[0;34m:\u001b[0m\u001b[0;34m\u001b[0m\u001b[0;34m\u001b[0m\u001b[0m\n",
            "\u001b[0;32m~/anaconda3/lib/python3.7/site-packages/pandas/io/parsers.py\u001b[0m in \u001b[0;36m_make_engine\u001b[0;34m(self, engine)\u001b[0m\n\u001b[1;32m   1048\u001b[0m             )\n\u001b[1;32m   1049\u001b[0m         \u001b[0;31m# error: Too many arguments for \"ParserBase\"\u001b[0m\u001b[0;34m\u001b[0m\u001b[0;34m\u001b[0m\u001b[0;34m\u001b[0m\u001b[0m\n\u001b[0;32m-> 1050\u001b[0;31m         \u001b[0;32mreturn\u001b[0m \u001b[0mmapping\u001b[0m\u001b[0;34m[\u001b[0m\u001b[0mengine\u001b[0m\u001b[0;34m]\u001b[0m\u001b[0;34m(\u001b[0m\u001b[0mself\u001b[0m\u001b[0;34m.\u001b[0m\u001b[0mf\u001b[0m\u001b[0;34m,\u001b[0m \u001b[0;34m**\u001b[0m\u001b[0mself\u001b[0m\u001b[0;34m.\u001b[0m\u001b[0moptions\u001b[0m\u001b[0;34m)\u001b[0m  \u001b[0;31m# type: ignore[call-arg]\u001b[0m\u001b[0;34m\u001b[0m\u001b[0;34m\u001b[0m\u001b[0m\n\u001b[0m\u001b[1;32m   1051\u001b[0m \u001b[0;34m\u001b[0m\u001b[0m\n\u001b[1;32m   1052\u001b[0m     \u001b[0;32mdef\u001b[0m \u001b[0m_failover_to_python\u001b[0m\u001b[0;34m(\u001b[0m\u001b[0mself\u001b[0m\u001b[0;34m)\u001b[0m\u001b[0;34m:\u001b[0m\u001b[0;34m\u001b[0m\u001b[0;34m\u001b[0m\u001b[0m\n",
            "\u001b[0;32m~/anaconda3/lib/python3.7/site-packages/pandas/io/parsers.py\u001b[0m in \u001b[0;36m__init__\u001b[0;34m(self, src, **kwds)\u001b[0m\n\u001b[1;32m   1865\u001b[0m \u001b[0;34m\u001b[0m\u001b[0m\n\u001b[1;32m   1866\u001b[0m         \u001b[0;31m# open handles\u001b[0m\u001b[0;34m\u001b[0m\u001b[0;34m\u001b[0m\u001b[0;34m\u001b[0m\u001b[0m\n\u001b[0;32m-> 1867\u001b[0;31m         \u001b[0mself\u001b[0m\u001b[0;34m.\u001b[0m\u001b[0m_open_handles\u001b[0m\u001b[0;34m(\u001b[0m\u001b[0msrc\u001b[0m\u001b[0;34m,\u001b[0m \u001b[0mkwds\u001b[0m\u001b[0;34m)\u001b[0m\u001b[0;34m\u001b[0m\u001b[0;34m\u001b[0m\u001b[0m\n\u001b[0m\u001b[1;32m   1868\u001b[0m         \u001b[0;32massert\u001b[0m \u001b[0mself\u001b[0m\u001b[0;34m.\u001b[0m\u001b[0mhandles\u001b[0m \u001b[0;32mis\u001b[0m \u001b[0;32mnot\u001b[0m \u001b[0;32mNone\u001b[0m\u001b[0;34m\u001b[0m\u001b[0;34m\u001b[0m\u001b[0m\n\u001b[1;32m   1869\u001b[0m         \u001b[0;32mfor\u001b[0m \u001b[0mkey\u001b[0m \u001b[0;32min\u001b[0m \u001b[0;34m(\u001b[0m\u001b[0;34m\"storage_options\"\u001b[0m\u001b[0;34m,\u001b[0m \u001b[0;34m\"encoding\"\u001b[0m\u001b[0;34m,\u001b[0m \u001b[0;34m\"memory_map\"\u001b[0m\u001b[0;34m,\u001b[0m \u001b[0;34m\"compression\"\u001b[0m\u001b[0;34m)\u001b[0m\u001b[0;34m:\u001b[0m\u001b[0;34m\u001b[0m\u001b[0;34m\u001b[0m\u001b[0m\n",
            "\u001b[0;32m~/anaconda3/lib/python3.7/site-packages/pandas/io/parsers.py\u001b[0m in \u001b[0;36m_open_handles\u001b[0;34m(self, src, kwds)\u001b[0m\n\u001b[1;32m   1366\u001b[0m             \u001b[0mcompression\u001b[0m\u001b[0;34m=\u001b[0m\u001b[0mkwds\u001b[0m\u001b[0;34m.\u001b[0m\u001b[0mget\u001b[0m\u001b[0;34m(\u001b[0m\u001b[0;34m\"compression\"\u001b[0m\u001b[0;34m,\u001b[0m \u001b[0;32mNone\u001b[0m\u001b[0;34m)\u001b[0m\u001b[0;34m,\u001b[0m\u001b[0;34m\u001b[0m\u001b[0;34m\u001b[0m\u001b[0m\n\u001b[1;32m   1367\u001b[0m             \u001b[0mmemory_map\u001b[0m\u001b[0;34m=\u001b[0m\u001b[0mkwds\u001b[0m\u001b[0;34m.\u001b[0m\u001b[0mget\u001b[0m\u001b[0;34m(\u001b[0m\u001b[0;34m\"memory_map\"\u001b[0m\u001b[0;34m,\u001b[0m \u001b[0;32mFalse\u001b[0m\u001b[0;34m)\u001b[0m\u001b[0;34m,\u001b[0m\u001b[0;34m\u001b[0m\u001b[0;34m\u001b[0m\u001b[0m\n\u001b[0;32m-> 1368\u001b[0;31m             \u001b[0mstorage_options\u001b[0m\u001b[0;34m=\u001b[0m\u001b[0mkwds\u001b[0m\u001b[0;34m.\u001b[0m\u001b[0mget\u001b[0m\u001b[0;34m(\u001b[0m\u001b[0;34m\"storage_options\"\u001b[0m\u001b[0;34m,\u001b[0m \u001b[0;32mNone\u001b[0m\u001b[0;34m)\u001b[0m\u001b[0;34m,\u001b[0m\u001b[0;34m\u001b[0m\u001b[0;34m\u001b[0m\u001b[0m\n\u001b[0m\u001b[1;32m   1369\u001b[0m         )\n\u001b[1;32m   1370\u001b[0m \u001b[0;34m\u001b[0m\u001b[0m\n",
            "\u001b[0;32m~/anaconda3/lib/python3.7/site-packages/pandas/io/common.py\u001b[0m in \u001b[0;36mget_handle\u001b[0;34m(path_or_buf, mode, encoding, compression, memory_map, is_text, errors, storage_options)\u001b[0m\n\u001b[1;32m    645\u001b[0m                 \u001b[0mencoding\u001b[0m\u001b[0;34m=\u001b[0m\u001b[0mioargs\u001b[0m\u001b[0;34m.\u001b[0m\u001b[0mencoding\u001b[0m\u001b[0;34m,\u001b[0m\u001b[0;34m\u001b[0m\u001b[0;34m\u001b[0m\u001b[0m\n\u001b[1;32m    646\u001b[0m                 \u001b[0merrors\u001b[0m\u001b[0;34m=\u001b[0m\u001b[0merrors\u001b[0m\u001b[0;34m,\u001b[0m\u001b[0;34m\u001b[0m\u001b[0;34m\u001b[0m\u001b[0m\n\u001b[0;32m--> 647\u001b[0;31m                 \u001b[0mnewline\u001b[0m\u001b[0;34m=\u001b[0m\u001b[0;34m\"\"\u001b[0m\u001b[0;34m,\u001b[0m\u001b[0;34m\u001b[0m\u001b[0;34m\u001b[0m\u001b[0m\n\u001b[0m\u001b[1;32m    648\u001b[0m             )\n\u001b[1;32m    649\u001b[0m         \u001b[0;32melse\u001b[0m\u001b[0;34m:\u001b[0m\u001b[0;34m\u001b[0m\u001b[0;34m\u001b[0m\u001b[0m\n",
            "\u001b[0;31mFileNotFoundError\u001b[0m: [Errno 2] No such file or directory: 'RAW_interactions.csv'"
          ]
        }
      ],
      "source": [
        "comments = pd.read_csv('RAW_interactions.csv')\n",
        "recipes = pd.read_csv('RAW_recipes.csv')"
      ]
    },
    {
      "cell_type": "code",
      "execution_count": null,
      "id": "aJNlp7bgBe1J",
      "metadata": {
        "id": "aJNlp7bgBe1J"
      },
      "outputs": [],
      "source": [
        "comments['sentiment']= comments['rating']>=3"
      ]
    },
    {
      "cell_type": "markdown",
      "id": "jZG8h_L04qId",
      "metadata": {
        "id": "jZG8h_L04qId"
      },
      "source": [
        "### Remarques:\n",
        "\n",
        "\n",
        "De nombreuses recettes ont une note de 0 sans porter de jugement négatif ou positif sur les recettes. Essayons de \"sauver\" certaines données en récupérant les recette ayant une note nulle mais dont la review contient des éléments de vocabulaire positif."
      ]
    },
    {
      "cell_type": "code",
      "execution_count": null,
      "id": "jb2e3mg9tQmF",
      "metadata": {
        "colab": {
          "base_uri": "https://localhost:8080/",
          "height": 419
        },
        "id": "jb2e3mg9tQmF",
        "outputId": "48df641a-5b6f-40d4-e729-6c9c68963523"
      },
      "outputs": [
        {
          "data": {
            "text/html": [
              "\n",
              "  <div id=\"df-c0901218-a65c-45d4-81d3-2b5aa7c8f695\">\n",
              "    <div class=\"colab-df-container\">\n",
              "      <div>\n",
              "<style scoped>\n",
              "    .dataframe tbody tr th:only-of-type {\n",
              "        vertical-align: middle;\n",
              "    }\n",
              "\n",
              "    .dataframe tbody tr th {\n",
              "        vertical-align: top;\n",
              "    }\n",
              "\n",
              "    .dataframe thead th {\n",
              "        text-align: right;\n",
              "    }\n",
              "</style>\n",
              "<table border=\"1\" class=\"dataframe\">\n",
              "  <thead>\n",
              "    <tr style=\"text-align: right;\">\n",
              "      <th></th>\n",
              "      <th>user_id</th>\n",
              "      <th>recipe_id</th>\n",
              "      <th>date</th>\n",
              "      <th>rating</th>\n",
              "      <th>review</th>\n",
              "      <th>sentiment</th>\n",
              "    </tr>\n",
              "  </thead>\n",
              "  <tbody>\n",
              "    <tr>\n",
              "      <th>6</th>\n",
              "      <td>124416</td>\n",
              "      <td>120345</td>\n",
              "      <td>2011-08-06</td>\n",
              "      <td>0</td>\n",
              "      <td>Just an observation, so I will not rate.  I fo...</td>\n",
              "      <td>False</td>\n",
              "    </tr>\n",
              "    <tr>\n",
              "      <th>12</th>\n",
              "      <td>468945</td>\n",
              "      <td>134728</td>\n",
              "      <td>2008-02-20</td>\n",
              "      <td>0</td>\n",
              "      <td>Made my own buttermilk w/ vinegar and milk.  U...</td>\n",
              "      <td>False</td>\n",
              "    </tr>\n",
              "    <tr>\n",
              "      <th>23</th>\n",
              "      <td>681408</td>\n",
              "      <td>225241</td>\n",
              "      <td>2008-03-14</td>\n",
              "      <td>0</td>\n",
              "      <td>This is a very good recipe.  We also want to c...</td>\n",
              "      <td>False</td>\n",
              "    </tr>\n",
              "    <tr>\n",
              "      <th>39</th>\n",
              "      <td>2002068522</td>\n",
              "      <td>29093</td>\n",
              "      <td>2018-03-26</td>\n",
              "      <td>0</td>\n",
              "      <td>i made it and it was amazing</td>\n",
              "      <td>False</td>\n",
              "    </tr>\n",
              "    <tr>\n",
              "      <th>56</th>\n",
              "      <td>980899</td>\n",
              "      <td>79222</td>\n",
              "      <td>2010-10-18</td>\n",
              "      <td>0</td>\n",
              "      <td>I used half cream and half 1% milk, added anot...</td>\n",
              "      <td>False</td>\n",
              "    </tr>\n",
              "    <tr>\n",
              "      <th>...</th>\n",
              "      <td>...</td>\n",
              "      <td>...</td>\n",
              "      <td>...</td>\n",
              "      <td>...</td>\n",
              "      <td>...</td>\n",
              "      <td>...</td>\n",
              "    </tr>\n",
              "    <tr>\n",
              "      <th>1132318</th>\n",
              "      <td>1197076</td>\n",
              "      <td>190261</td>\n",
              "      <td>2010-03-08</td>\n",
              "      <td>0</td>\n",
              "      <td>Delicious ! I tweeked the recipe a bit&gt;&gt;substi...</td>\n",
              "      <td>False</td>\n",
              "    </tr>\n",
              "    <tr>\n",
              "      <th>1132323</th>\n",
              "      <td>2405600</td>\n",
              "      <td>290157</td>\n",
              "      <td>2014-11-10</td>\n",
              "      <td>0</td>\n",
              "      <td>Just added this mix to a homemade beef &amp;amp; s...</td>\n",
              "      <td>False</td>\n",
              "    </tr>\n",
              "    <tr>\n",
              "      <th>1132325</th>\n",
              "      <td>2000650711</td>\n",
              "      <td>290157</td>\n",
              "      <td>2017-04-10</td>\n",
              "      <td>0</td>\n",
              "      <td>Would this make a good hamburger patty seasoning?</td>\n",
              "      <td>False</td>\n",
              "    </tr>\n",
              "    <tr>\n",
              "      <th>1132361</th>\n",
              "      <td>102526</td>\n",
              "      <td>54493</td>\n",
              "      <td>2007-04-26</td>\n",
              "      <td>0</td>\n",
              "      <td>I am not going to rate this because I did have...</td>\n",
              "      <td>False</td>\n",
              "    </tr>\n",
              "    <tr>\n",
              "      <th>1132362</th>\n",
              "      <td>116593</td>\n",
              "      <td>72730</td>\n",
              "      <td>2003-12-09</td>\n",
              "      <td>0</td>\n",
              "      <td>Another approach is to start making sauce with...</td>\n",
              "      <td>False</td>\n",
              "    </tr>\n",
              "  </tbody>\n",
              "</table>\n",
              "<p>60847 rows × 6 columns</p>\n",
              "</div>\n",
              "      <button class=\"colab-df-convert\" onclick=\"convertToInteractive('df-c0901218-a65c-45d4-81d3-2b5aa7c8f695')\"\n",
              "              title=\"Convert this dataframe to an interactive table.\"\n",
              "              style=\"display:none;\">\n",
              "        \n",
              "  <svg xmlns=\"http://www.w3.org/2000/svg\" height=\"24px\"viewBox=\"0 0 24 24\"\n",
              "       width=\"24px\">\n",
              "    <path d=\"M0 0h24v24H0V0z\" fill=\"none\"/>\n",
              "    <path d=\"M18.56 5.44l.94 2.06.94-2.06 2.06-.94-2.06-.94-.94-2.06-.94 2.06-2.06.94zm-11 1L8.5 8.5l.94-2.06 2.06-.94-2.06-.94L8.5 2.5l-.94 2.06-2.06.94zm10 10l.94 2.06.94-2.06 2.06-.94-2.06-.94-.94-2.06-.94 2.06-2.06.94z\"/><path d=\"M17.41 7.96l-1.37-1.37c-.4-.4-.92-.59-1.43-.59-.52 0-1.04.2-1.43.59L10.3 9.45l-7.72 7.72c-.78.78-.78 2.05 0 2.83L4 21.41c.39.39.9.59 1.41.59.51 0 1.02-.2 1.41-.59l7.78-7.78 2.81-2.81c.8-.78.8-2.07 0-2.86zM5.41 20L4 18.59l7.72-7.72 1.47 1.35L5.41 20z\"/>\n",
              "  </svg>\n",
              "      </button>\n",
              "      \n",
              "  <style>\n",
              "    .colab-df-container {\n",
              "      display:flex;\n",
              "      flex-wrap:wrap;\n",
              "      gap: 12px;\n",
              "    }\n",
              "\n",
              "    .colab-df-convert {\n",
              "      background-color: #E8F0FE;\n",
              "      border: none;\n",
              "      border-radius: 50%;\n",
              "      cursor: pointer;\n",
              "      display: none;\n",
              "      fill: #1967D2;\n",
              "      height: 32px;\n",
              "      padding: 0 0 0 0;\n",
              "      width: 32px;\n",
              "    }\n",
              "\n",
              "    .colab-df-convert:hover {\n",
              "      background-color: #E2EBFA;\n",
              "      box-shadow: 0px 1px 2px rgba(60, 64, 67, 0.3), 0px 1px 3px 1px rgba(60, 64, 67, 0.15);\n",
              "      fill: #174EA6;\n",
              "    }\n",
              "\n",
              "    [theme=dark] .colab-df-convert {\n",
              "      background-color: #3B4455;\n",
              "      fill: #D2E3FC;\n",
              "    }\n",
              "\n",
              "    [theme=dark] .colab-df-convert:hover {\n",
              "      background-color: #434B5C;\n",
              "      box-shadow: 0px 1px 3px 1px rgba(0, 0, 0, 0.15);\n",
              "      filter: drop-shadow(0px 1px 2px rgba(0, 0, 0, 0.3));\n",
              "      fill: #FFFFFF;\n",
              "    }\n",
              "  </style>\n",
              "\n",
              "      <script>\n",
              "        const buttonEl =\n",
              "          document.querySelector('#df-c0901218-a65c-45d4-81d3-2b5aa7c8f695 button.colab-df-convert');\n",
              "        buttonEl.style.display =\n",
              "          google.colab.kernel.accessAllowed ? 'block' : 'none';\n",
              "\n",
              "        async function convertToInteractive(key) {\n",
              "          const element = document.querySelector('#df-c0901218-a65c-45d4-81d3-2b5aa7c8f695');\n",
              "          const dataTable =\n",
              "            await google.colab.kernel.invokeFunction('convertToInteractive',\n",
              "                                                     [key], {});\n",
              "          if (!dataTable) return;\n",
              "\n",
              "          const docLinkHtml = 'Like what you see? Visit the ' +\n",
              "            '<a target=\"_blank\" href=https://colab.research.google.com/notebooks/data_table.ipynb>data table notebook</a>'\n",
              "            + ' to learn more about interactive tables.';\n",
              "          element.innerHTML = '';\n",
              "          dataTable['output_type'] = 'display_data';\n",
              "          await google.colab.output.renderOutput(dataTable, element);\n",
              "          const docLink = document.createElement('div');\n",
              "          docLink.innerHTML = docLinkHtml;\n",
              "          element.appendChild(docLink);\n",
              "        }\n",
              "      </script>\n",
              "    </div>\n",
              "  </div>\n",
              "  "
            ],
            "text/plain": [
              "            user_id  recipe_id        date  rating  \\\n",
              "6            124416     120345  2011-08-06       0   \n",
              "12           468945     134728  2008-02-20       0   \n",
              "23           681408     225241  2008-03-14       0   \n",
              "39       2002068522      29093  2018-03-26       0   \n",
              "56           980899      79222  2010-10-18       0   \n",
              "...             ...        ...         ...     ...   \n",
              "1132318     1197076     190261  2010-03-08       0   \n",
              "1132323     2405600     290157  2014-11-10       0   \n",
              "1132325  2000650711     290157  2017-04-10       0   \n",
              "1132361      102526      54493  2007-04-26       0   \n",
              "1132362      116593      72730  2003-12-09       0   \n",
              "\n",
              "                                                    review  sentiment  \n",
              "6        Just an observation, so I will not rate.  I fo...      False  \n",
              "12       Made my own buttermilk w/ vinegar and milk.  U...      False  \n",
              "23       This is a very good recipe.  We also want to c...      False  \n",
              "39                            i made it and it was amazing      False  \n",
              "56       I used half cream and half 1% milk, added anot...      False  \n",
              "...                                                    ...        ...  \n",
              "1132318  Delicious ! I tweeked the recipe a bit>>substi...      False  \n",
              "1132323  Just added this mix to a homemade beef &amp; s...      False  \n",
              "1132325  Would this make a good hamburger patty seasoning?      False  \n",
              "1132361  I am not going to rate this because I did have...      False  \n",
              "1132362  Another approach is to start making sauce with...      False  \n",
              "\n",
              "[60847 rows x 6 columns]"
            ]
          },
          "execution_count": 84,
          "metadata": {},
          "output_type": "execute_result"
        }
      ],
      "source": [
        "comments[comments['rating']==0]"
      ]
    },
    {
      "cell_type": "code",
      "execution_count": null,
      "id": "OGaOWQLIvnEv",
      "metadata": {
        "id": "OGaOWQLIvnEv"
      },
      "outputs": [],
      "source": [
        "good = ['great','marvelous','delicious','love','awesome','amazing','yummy','unbelievable','fabulous']"
      ]
    },
    {
      "cell_type": "code",
      "execution_count": null,
      "id": "vuqhczsZwblB",
      "metadata": {
        "id": "vuqhczsZwblB"
      },
      "outputs": [],
      "source": [
        "comments['review']= comments['review'].str.lower()"
      ]
    },
    {
      "cell_type": "code",
      "execution_count": null,
      "id": "n13a58CpzCkk",
      "metadata": {
        "id": "n13a58CpzCkk"
      },
      "outputs": [],
      "source": [
        "mask = (comments['rating'] == 0) & (comments['review'].str.contains('|'.join(good)))"
      ]
    },
    {
      "cell_type": "code",
      "execution_count": null,
      "id": "LWrRxjsq2qe-",
      "metadata": {
        "colab": {
          "base_uri": "https://localhost:8080/"
        },
        "id": "LWrRxjsq2qe-",
        "outputId": "969dc582-065b-4f36-e9c7-0554efb2a437"
      },
      "outputs": [
        {
          "name": "stderr",
          "output_type": "stream",
          "text": [
            "/usr/local/lib/python3.7/dist-packages/ipykernel_launcher.py:1: SettingWithCopyWarning: \n",
            "A value is trying to be set on a copy of a slice from a DataFrame\n",
            "\n",
            "See the caveats in the documentation: https://pandas.pydata.org/pandas-docs/stable/user_guide/indexing.html#returning-a-view-versus-a-copy\n",
            "  \"\"\"Entry point for launching an IPython kernel.\n"
          ]
        }
      ],
      "source": [
        "comments['sentiment'][mask]= True"
      ]
    },
    {
      "cell_type": "code",
      "execution_count": null,
      "id": "wniyy9oR2ztr",
      "metadata": {
        "colab": {
          "base_uri": "https://localhost:8080/",
          "height": 419
        },
        "id": "wniyy9oR2ztr",
        "outputId": "b3bda513-562f-4c10-c07f-c44efbfcb019"
      },
      "outputs": [
        {
          "data": {
            "text/html": [
              "\n",
              "  <div id=\"df-468a3d95-5b28-43bc-b24c-f64ea87e4b0a\">\n",
              "    <div class=\"colab-df-container\">\n",
              "      <div>\n",
              "<style scoped>\n",
              "    .dataframe tbody tr th:only-of-type {\n",
              "        vertical-align: middle;\n",
              "    }\n",
              "\n",
              "    .dataframe tbody tr th {\n",
              "        vertical-align: top;\n",
              "    }\n",
              "\n",
              "    .dataframe thead th {\n",
              "        text-align: right;\n",
              "    }\n",
              "</style>\n",
              "<table border=\"1\" class=\"dataframe\">\n",
              "  <thead>\n",
              "    <tr style=\"text-align: right;\">\n",
              "      <th></th>\n",
              "      <th>user_id</th>\n",
              "      <th>recipe_id</th>\n",
              "      <th>date</th>\n",
              "      <th>rating</th>\n",
              "      <th>review</th>\n",
              "      <th>sentiment</th>\n",
              "    </tr>\n",
              "  </thead>\n",
              "  <tbody>\n",
              "    <tr>\n",
              "      <th>6</th>\n",
              "      <td>124416</td>\n",
              "      <td>120345</td>\n",
              "      <td>2011-08-06</td>\n",
              "      <td>0</td>\n",
              "      <td>just an observation, so i will not rate.  i fo...</td>\n",
              "      <td>True</td>\n",
              "    </tr>\n",
              "    <tr>\n",
              "      <th>12</th>\n",
              "      <td>468945</td>\n",
              "      <td>134728</td>\n",
              "      <td>2008-02-20</td>\n",
              "      <td>0</td>\n",
              "      <td>made my own buttermilk w/ vinegar and milk.  u...</td>\n",
              "      <td>False</td>\n",
              "    </tr>\n",
              "    <tr>\n",
              "      <th>23</th>\n",
              "      <td>681408</td>\n",
              "      <td>225241</td>\n",
              "      <td>2008-03-14</td>\n",
              "      <td>0</td>\n",
              "      <td>this is a very good recipe.  we also want to c...</td>\n",
              "      <td>False</td>\n",
              "    </tr>\n",
              "    <tr>\n",
              "      <th>39</th>\n",
              "      <td>2002068522</td>\n",
              "      <td>29093</td>\n",
              "      <td>2018-03-26</td>\n",
              "      <td>0</td>\n",
              "      <td>i made it and it was amazing</td>\n",
              "      <td>True</td>\n",
              "    </tr>\n",
              "    <tr>\n",
              "      <th>56</th>\n",
              "      <td>980899</td>\n",
              "      <td>79222</td>\n",
              "      <td>2010-10-18</td>\n",
              "      <td>0</td>\n",
              "      <td>i used half cream and half 1% milk, added anot...</td>\n",
              "      <td>True</td>\n",
              "    </tr>\n",
              "    <tr>\n",
              "      <th>...</th>\n",
              "      <td>...</td>\n",
              "      <td>...</td>\n",
              "      <td>...</td>\n",
              "      <td>...</td>\n",
              "      <td>...</td>\n",
              "      <td>...</td>\n",
              "    </tr>\n",
              "    <tr>\n",
              "      <th>1132318</th>\n",
              "      <td>1197076</td>\n",
              "      <td>190261</td>\n",
              "      <td>2010-03-08</td>\n",
              "      <td>0</td>\n",
              "      <td>delicious ! i tweeked the recipe a bit&gt;&gt;substi...</td>\n",
              "      <td>True</td>\n",
              "    </tr>\n",
              "    <tr>\n",
              "      <th>1132323</th>\n",
              "      <td>2405600</td>\n",
              "      <td>290157</td>\n",
              "      <td>2014-11-10</td>\n",
              "      <td>0</td>\n",
              "      <td>just added this mix to a homemade beef &amp;amp; s...</td>\n",
              "      <td>False</td>\n",
              "    </tr>\n",
              "    <tr>\n",
              "      <th>1132325</th>\n",
              "      <td>2000650711</td>\n",
              "      <td>290157</td>\n",
              "      <td>2017-04-10</td>\n",
              "      <td>0</td>\n",
              "      <td>would this make a good hamburger patty seasoning?</td>\n",
              "      <td>False</td>\n",
              "    </tr>\n",
              "    <tr>\n",
              "      <th>1132361</th>\n",
              "      <td>102526</td>\n",
              "      <td>54493</td>\n",
              "      <td>2007-04-26</td>\n",
              "      <td>0</td>\n",
              "      <td>i am not going to rate this because i did have...</td>\n",
              "      <td>False</td>\n",
              "    </tr>\n",
              "    <tr>\n",
              "      <th>1132362</th>\n",
              "      <td>116593</td>\n",
              "      <td>72730</td>\n",
              "      <td>2003-12-09</td>\n",
              "      <td>0</td>\n",
              "      <td>another approach is to start making sauce with...</td>\n",
              "      <td>False</td>\n",
              "    </tr>\n",
              "  </tbody>\n",
              "</table>\n",
              "<p>60847 rows × 6 columns</p>\n",
              "</div>\n",
              "      <button class=\"colab-df-convert\" onclick=\"convertToInteractive('df-468a3d95-5b28-43bc-b24c-f64ea87e4b0a')\"\n",
              "              title=\"Convert this dataframe to an interactive table.\"\n",
              "              style=\"display:none;\">\n",
              "        \n",
              "  <svg xmlns=\"http://www.w3.org/2000/svg\" height=\"24px\"viewBox=\"0 0 24 24\"\n",
              "       width=\"24px\">\n",
              "    <path d=\"M0 0h24v24H0V0z\" fill=\"none\"/>\n",
              "    <path d=\"M18.56 5.44l.94 2.06.94-2.06 2.06-.94-2.06-.94-.94-2.06-.94 2.06-2.06.94zm-11 1L8.5 8.5l.94-2.06 2.06-.94-2.06-.94L8.5 2.5l-.94 2.06-2.06.94zm10 10l.94 2.06.94-2.06 2.06-.94-2.06-.94-.94-2.06-.94 2.06-2.06.94z\"/><path d=\"M17.41 7.96l-1.37-1.37c-.4-.4-.92-.59-1.43-.59-.52 0-1.04.2-1.43.59L10.3 9.45l-7.72 7.72c-.78.78-.78 2.05 0 2.83L4 21.41c.39.39.9.59 1.41.59.51 0 1.02-.2 1.41-.59l7.78-7.78 2.81-2.81c.8-.78.8-2.07 0-2.86zM5.41 20L4 18.59l7.72-7.72 1.47 1.35L5.41 20z\"/>\n",
              "  </svg>\n",
              "      </button>\n",
              "      \n",
              "  <style>\n",
              "    .colab-df-container {\n",
              "      display:flex;\n",
              "      flex-wrap:wrap;\n",
              "      gap: 12px;\n",
              "    }\n",
              "\n",
              "    .colab-df-convert {\n",
              "      background-color: #E8F0FE;\n",
              "      border: none;\n",
              "      border-radius: 50%;\n",
              "      cursor: pointer;\n",
              "      display: none;\n",
              "      fill: #1967D2;\n",
              "      height: 32px;\n",
              "      padding: 0 0 0 0;\n",
              "      width: 32px;\n",
              "    }\n",
              "\n",
              "    .colab-df-convert:hover {\n",
              "      background-color: #E2EBFA;\n",
              "      box-shadow: 0px 1px 2px rgba(60, 64, 67, 0.3), 0px 1px 3px 1px rgba(60, 64, 67, 0.15);\n",
              "      fill: #174EA6;\n",
              "    }\n",
              "\n",
              "    [theme=dark] .colab-df-convert {\n",
              "      background-color: #3B4455;\n",
              "      fill: #D2E3FC;\n",
              "    }\n",
              "\n",
              "    [theme=dark] .colab-df-convert:hover {\n",
              "      background-color: #434B5C;\n",
              "      box-shadow: 0px 1px 3px 1px rgba(0, 0, 0, 0.15);\n",
              "      filter: drop-shadow(0px 1px 2px rgba(0, 0, 0, 0.3));\n",
              "      fill: #FFFFFF;\n",
              "    }\n",
              "  </style>\n",
              "\n",
              "      <script>\n",
              "        const buttonEl =\n",
              "          document.querySelector('#df-468a3d95-5b28-43bc-b24c-f64ea87e4b0a button.colab-df-convert');\n",
              "        buttonEl.style.display =\n",
              "          google.colab.kernel.accessAllowed ? 'block' : 'none';\n",
              "\n",
              "        async function convertToInteractive(key) {\n",
              "          const element = document.querySelector('#df-468a3d95-5b28-43bc-b24c-f64ea87e4b0a');\n",
              "          const dataTable =\n",
              "            await google.colab.kernel.invokeFunction('convertToInteractive',\n",
              "                                                     [key], {});\n",
              "          if (!dataTable) return;\n",
              "\n",
              "          const docLinkHtml = 'Like what you see? Visit the ' +\n",
              "            '<a target=\"_blank\" href=https://colab.research.google.com/notebooks/data_table.ipynb>data table notebook</a>'\n",
              "            + ' to learn more about interactive tables.';\n",
              "          element.innerHTML = '';\n",
              "          dataTable['output_type'] = 'display_data';\n",
              "          await google.colab.output.renderOutput(dataTable, element);\n",
              "          const docLink = document.createElement('div');\n",
              "          docLink.innerHTML = docLinkHtml;\n",
              "          element.appendChild(docLink);\n",
              "        }\n",
              "      </script>\n",
              "    </div>\n",
              "  </div>\n",
              "  "
            ],
            "text/plain": [
              "            user_id  recipe_id        date  rating  \\\n",
              "6            124416     120345  2011-08-06       0   \n",
              "12           468945     134728  2008-02-20       0   \n",
              "23           681408     225241  2008-03-14       0   \n",
              "39       2002068522      29093  2018-03-26       0   \n",
              "56           980899      79222  2010-10-18       0   \n",
              "...             ...        ...         ...     ...   \n",
              "1132318     1197076     190261  2010-03-08       0   \n",
              "1132323     2405600     290157  2014-11-10       0   \n",
              "1132325  2000650711     290157  2017-04-10       0   \n",
              "1132361      102526      54493  2007-04-26       0   \n",
              "1132362      116593      72730  2003-12-09       0   \n",
              "\n",
              "                                                    review  sentiment  \n",
              "6        just an observation, so i will not rate.  i fo...       True  \n",
              "12       made my own buttermilk w/ vinegar and milk.  u...      False  \n",
              "23       this is a very good recipe.  we also want to c...      False  \n",
              "39                            i made it and it was amazing       True  \n",
              "56       i used half cream and half 1% milk, added anot...       True  \n",
              "...                                                    ...        ...  \n",
              "1132318  delicious ! i tweeked the recipe a bit>>substi...       True  \n",
              "1132323  just added this mix to a homemade beef &amp; s...      False  \n",
              "1132325  would this make a good hamburger patty seasoning?      False  \n",
              "1132361  i am not going to rate this because i did have...      False  \n",
              "1132362  another approach is to start making sauce with...      False  \n",
              "\n",
              "[60847 rows x 6 columns]"
            ]
          },
          "execution_count": 89,
          "metadata": {},
          "output_type": "execute_result"
        }
      ],
      "source": [
        "comments[comments['rating']==0]"
      ]
    },
    {
      "cell_type": "code",
      "execution_count": null,
      "id": "p7CQj5FVxQ0i",
      "metadata": {
        "id": "p7CQj5FVxQ0i"
      },
      "outputs": [],
      "source": [
        "mask2 = (comments['rating']==0) & (comments['sentiment']==False)"
      ]
    },
    {
      "cell_type": "code",
      "execution_count": null,
      "id": "8sgj23yU3YLA",
      "metadata": {
        "colab": {
          "base_uri": "https://localhost:8080/",
          "height": 419
        },
        "id": "8sgj23yU3YLA",
        "outputId": "4d85add7-39d3-4d65-e0d2-d9f4ef95bcc4"
      },
      "outputs": [
        {
          "data": {
            "text/html": [
              "\n",
              "  <div id=\"df-8e0e5456-42f6-4a1d-8b10-fe041e7a1f77\">\n",
              "    <div class=\"colab-df-container\">\n",
              "      <div>\n",
              "<style scoped>\n",
              "    .dataframe tbody tr th:only-of-type {\n",
              "        vertical-align: middle;\n",
              "    }\n",
              "\n",
              "    .dataframe tbody tr th {\n",
              "        vertical-align: top;\n",
              "    }\n",
              "\n",
              "    .dataframe thead th {\n",
              "        text-align: right;\n",
              "    }\n",
              "</style>\n",
              "<table border=\"1\" class=\"dataframe\">\n",
              "  <thead>\n",
              "    <tr style=\"text-align: right;\">\n",
              "      <th></th>\n",
              "      <th>user_id</th>\n",
              "      <th>recipe_id</th>\n",
              "      <th>date</th>\n",
              "      <th>rating</th>\n",
              "      <th>review</th>\n",
              "      <th>sentiment</th>\n",
              "    </tr>\n",
              "  </thead>\n",
              "  <tbody>\n",
              "    <tr>\n",
              "      <th>12</th>\n",
              "      <td>468945</td>\n",
              "      <td>134728</td>\n",
              "      <td>2008-02-20</td>\n",
              "      <td>0</td>\n",
              "      <td>made my own buttermilk w/ vinegar and milk.  u...</td>\n",
              "      <td>False</td>\n",
              "    </tr>\n",
              "    <tr>\n",
              "      <th>23</th>\n",
              "      <td>681408</td>\n",
              "      <td>225241</td>\n",
              "      <td>2008-03-14</td>\n",
              "      <td>0</td>\n",
              "      <td>this is a very good recipe.  we also want to c...</td>\n",
              "      <td>False</td>\n",
              "    </tr>\n",
              "    <tr>\n",
              "      <th>67</th>\n",
              "      <td>2002097693</td>\n",
              "      <td>79222</td>\n",
              "      <td>2018-04-05</td>\n",
              "      <td>0</td>\n",
              "      <td>do you have cook the potatoes beforehand?</td>\n",
              "      <td>False</td>\n",
              "    </tr>\n",
              "    <tr>\n",
              "      <th>145</th>\n",
              "      <td>44642</td>\n",
              "      <td>190875</td>\n",
              "      <td>2006-10-19</td>\n",
              "      <td>0</td>\n",
              "      <td>just posting, so i will know i tryed this. nev...</td>\n",
              "      <td>False</td>\n",
              "    </tr>\n",
              "    <tr>\n",
              "      <th>184</th>\n",
              "      <td>2001338551</td>\n",
              "      <td>195977</td>\n",
              "      <td>2017-04-04</td>\n",
              "      <td>0</td>\n",
              "      <td>have made this cake often. have added 1 1/2 c ...</td>\n",
              "      <td>False</td>\n",
              "    </tr>\n",
              "    <tr>\n",
              "      <th>...</th>\n",
              "      <td>...</td>\n",
              "      <td>...</td>\n",
              "      <td>...</td>\n",
              "      <td>...</td>\n",
              "      <td>...</td>\n",
              "      <td>...</td>\n",
              "    </tr>\n",
              "    <tr>\n",
              "      <th>1132282</th>\n",
              "      <td>176615</td>\n",
              "      <td>118119</td>\n",
              "      <td>2006-10-27</td>\n",
              "      <td>0</td>\n",
              "      <td>we've tried lots of peanut butter pasta recipe...</td>\n",
              "      <td>False</td>\n",
              "    </tr>\n",
              "    <tr>\n",
              "      <th>1132323</th>\n",
              "      <td>2405600</td>\n",
              "      <td>290157</td>\n",
              "      <td>2014-11-10</td>\n",
              "      <td>0</td>\n",
              "      <td>just added this mix to a homemade beef &amp;amp; s...</td>\n",
              "      <td>False</td>\n",
              "    </tr>\n",
              "    <tr>\n",
              "      <th>1132325</th>\n",
              "      <td>2000650711</td>\n",
              "      <td>290157</td>\n",
              "      <td>2017-04-10</td>\n",
              "      <td>0</td>\n",
              "      <td>would this make a good hamburger patty seasoning?</td>\n",
              "      <td>False</td>\n",
              "    </tr>\n",
              "    <tr>\n",
              "      <th>1132361</th>\n",
              "      <td>102526</td>\n",
              "      <td>54493</td>\n",
              "      <td>2007-04-26</td>\n",
              "      <td>0</td>\n",
              "      <td>i am not going to rate this because i did have...</td>\n",
              "      <td>False</td>\n",
              "    </tr>\n",
              "    <tr>\n",
              "      <th>1132362</th>\n",
              "      <td>116593</td>\n",
              "      <td>72730</td>\n",
              "      <td>2003-12-09</td>\n",
              "      <td>0</td>\n",
              "      <td>another approach is to start making sauce with...</td>\n",
              "      <td>False</td>\n",
              "    </tr>\n",
              "  </tbody>\n",
              "</table>\n",
              "<p>34912 rows × 6 columns</p>\n",
              "</div>\n",
              "      <button class=\"colab-df-convert\" onclick=\"convertToInteractive('df-8e0e5456-42f6-4a1d-8b10-fe041e7a1f77')\"\n",
              "              title=\"Convert this dataframe to an interactive table.\"\n",
              "              style=\"display:none;\">\n",
              "        \n",
              "  <svg xmlns=\"http://www.w3.org/2000/svg\" height=\"24px\"viewBox=\"0 0 24 24\"\n",
              "       width=\"24px\">\n",
              "    <path d=\"M0 0h24v24H0V0z\" fill=\"none\"/>\n",
              "    <path d=\"M18.56 5.44l.94 2.06.94-2.06 2.06-.94-2.06-.94-.94-2.06-.94 2.06-2.06.94zm-11 1L8.5 8.5l.94-2.06 2.06-.94-2.06-.94L8.5 2.5l-.94 2.06-2.06.94zm10 10l.94 2.06.94-2.06 2.06-.94-2.06-.94-.94-2.06-.94 2.06-2.06.94z\"/><path d=\"M17.41 7.96l-1.37-1.37c-.4-.4-.92-.59-1.43-.59-.52 0-1.04.2-1.43.59L10.3 9.45l-7.72 7.72c-.78.78-.78 2.05 0 2.83L4 21.41c.39.39.9.59 1.41.59.51 0 1.02-.2 1.41-.59l7.78-7.78 2.81-2.81c.8-.78.8-2.07 0-2.86zM5.41 20L4 18.59l7.72-7.72 1.47 1.35L5.41 20z\"/>\n",
              "  </svg>\n",
              "      </button>\n",
              "      \n",
              "  <style>\n",
              "    .colab-df-container {\n",
              "      display:flex;\n",
              "      flex-wrap:wrap;\n",
              "      gap: 12px;\n",
              "    }\n",
              "\n",
              "    .colab-df-convert {\n",
              "      background-color: #E8F0FE;\n",
              "      border: none;\n",
              "      border-radius: 50%;\n",
              "      cursor: pointer;\n",
              "      display: none;\n",
              "      fill: #1967D2;\n",
              "      height: 32px;\n",
              "      padding: 0 0 0 0;\n",
              "      width: 32px;\n",
              "    }\n",
              "\n",
              "    .colab-df-convert:hover {\n",
              "      background-color: #E2EBFA;\n",
              "      box-shadow: 0px 1px 2px rgba(60, 64, 67, 0.3), 0px 1px 3px 1px rgba(60, 64, 67, 0.15);\n",
              "      fill: #174EA6;\n",
              "    }\n",
              "\n",
              "    [theme=dark] .colab-df-convert {\n",
              "      background-color: #3B4455;\n",
              "      fill: #D2E3FC;\n",
              "    }\n",
              "\n",
              "    [theme=dark] .colab-df-convert:hover {\n",
              "      background-color: #434B5C;\n",
              "      box-shadow: 0px 1px 3px 1px rgba(0, 0, 0, 0.15);\n",
              "      filter: drop-shadow(0px 1px 2px rgba(0, 0, 0, 0.3));\n",
              "      fill: #FFFFFF;\n",
              "    }\n",
              "  </style>\n",
              "\n",
              "      <script>\n",
              "        const buttonEl =\n",
              "          document.querySelector('#df-8e0e5456-42f6-4a1d-8b10-fe041e7a1f77 button.colab-df-convert');\n",
              "        buttonEl.style.display =\n",
              "          google.colab.kernel.accessAllowed ? 'block' : 'none';\n",
              "\n",
              "        async function convertToInteractive(key) {\n",
              "          const element = document.querySelector('#df-8e0e5456-42f6-4a1d-8b10-fe041e7a1f77');\n",
              "          const dataTable =\n",
              "            await google.colab.kernel.invokeFunction('convertToInteractive',\n",
              "                                                     [key], {});\n",
              "          if (!dataTable) return;\n",
              "\n",
              "          const docLinkHtml = 'Like what you see? Visit the ' +\n",
              "            '<a target=\"_blank\" href=https://colab.research.google.com/notebooks/data_table.ipynb>data table notebook</a>'\n",
              "            + ' to learn more about interactive tables.';\n",
              "          element.innerHTML = '';\n",
              "          dataTable['output_type'] = 'display_data';\n",
              "          await google.colab.output.renderOutput(dataTable, element);\n",
              "          const docLink = document.createElement('div');\n",
              "          docLink.innerHTML = docLinkHtml;\n",
              "          element.appendChild(docLink);\n",
              "        }\n",
              "      </script>\n",
              "    </div>\n",
              "  </div>\n",
              "  "
            ],
            "text/plain": [
              "            user_id  recipe_id        date  rating  \\\n",
              "12           468945     134728  2008-02-20       0   \n",
              "23           681408     225241  2008-03-14       0   \n",
              "67       2002097693      79222  2018-04-05       0   \n",
              "145           44642     190875  2006-10-19       0   \n",
              "184      2001338551     195977  2017-04-04       0   \n",
              "...             ...        ...         ...     ...   \n",
              "1132282      176615     118119  2006-10-27       0   \n",
              "1132323     2405600     290157  2014-11-10       0   \n",
              "1132325  2000650711     290157  2017-04-10       0   \n",
              "1132361      102526      54493  2007-04-26       0   \n",
              "1132362      116593      72730  2003-12-09       0   \n",
              "\n",
              "                                                    review  sentiment  \n",
              "12       made my own buttermilk w/ vinegar and milk.  u...      False  \n",
              "23       this is a very good recipe.  we also want to c...      False  \n",
              "67               do you have cook the potatoes beforehand?      False  \n",
              "145      just posting, so i will know i tryed this. nev...      False  \n",
              "184      have made this cake often. have added 1 1/2 c ...      False  \n",
              "...                                                    ...        ...  \n",
              "1132282  we've tried lots of peanut butter pasta recipe...      False  \n",
              "1132323  just added this mix to a homemade beef &amp; s...      False  \n",
              "1132325  would this make a good hamburger patty seasoning?      False  \n",
              "1132361  i am not going to rate this because i did have...      False  \n",
              "1132362  another approach is to start making sauce with...      False  \n",
              "\n",
              "[34912 rows x 6 columns]"
            ]
          },
          "execution_count": 91,
          "metadata": {},
          "output_type": "execute_result"
        }
      ],
      "source": [
        "comments[mask2]"
      ]
    },
    {
      "cell_type": "markdown",
      "id": "hfXZS0mO5Ft8",
      "metadata": {
        "id": "hfXZS0mO5Ft8"
      },
      "source": [
        "#### Remarques:\n",
        "\n",
        "On constate qu'on \"sauve\" 25 935 commentaires notés à 0 qui pourtant contiennent un mot de vocabulaire positif."
      ]
    },
    {
      "cell_type": "code",
      "execution_count": null,
      "id": "Ib-GlIGx78Du",
      "metadata": {
        "id": "Ib-GlIGx78Du"
      },
      "outputs": [],
      "source": [
        "comments.dropna(inplace= True)"
      ]
    },
    {
      "cell_type": "code",
      "execution_count": null,
      "id": "F_FJj3DUEzr-",
      "metadata": {
        "colab": {
          "base_uri": "https://localhost:8080/",
          "height": 419
        },
        "id": "F_FJj3DUEzr-",
        "outputId": "587041e1-6546-4028-e20e-5dca02374d62"
      },
      "outputs": [
        {
          "data": {
            "text/html": [
              "\n",
              "  <div id=\"df-6ea917b0-783d-459a-bc09-1c54fdb3ca5f\">\n",
              "    <div class=\"colab-df-container\">\n",
              "      <div>\n",
              "<style scoped>\n",
              "    .dataframe tbody tr th:only-of-type {\n",
              "        vertical-align: middle;\n",
              "    }\n",
              "\n",
              "    .dataframe tbody tr th {\n",
              "        vertical-align: top;\n",
              "    }\n",
              "\n",
              "    .dataframe thead th {\n",
              "        text-align: right;\n",
              "    }\n",
              "</style>\n",
              "<table border=\"1\" class=\"dataframe\">\n",
              "  <thead>\n",
              "    <tr style=\"text-align: right;\">\n",
              "      <th></th>\n",
              "      <th>user_id</th>\n",
              "      <th>recipe_id</th>\n",
              "      <th>date</th>\n",
              "      <th>rating</th>\n",
              "      <th>review</th>\n",
              "      <th>sentiment</th>\n",
              "    </tr>\n",
              "  </thead>\n",
              "  <tbody>\n",
              "    <tr>\n",
              "      <th>0</th>\n",
              "      <td>38094</td>\n",
              "      <td>40893</td>\n",
              "      <td>2003-02-17</td>\n",
              "      <td>4</td>\n",
              "      <td>great with a salad. cooked on top of stove for...</td>\n",
              "      <td>True</td>\n",
              "    </tr>\n",
              "    <tr>\n",
              "      <th>1</th>\n",
              "      <td>1293707</td>\n",
              "      <td>40893</td>\n",
              "      <td>2011-12-21</td>\n",
              "      <td>5</td>\n",
              "      <td>so simple, so delicious! great for chilly fall...</td>\n",
              "      <td>True</td>\n",
              "    </tr>\n",
              "    <tr>\n",
              "      <th>2</th>\n",
              "      <td>8937</td>\n",
              "      <td>44394</td>\n",
              "      <td>2002-12-01</td>\n",
              "      <td>4</td>\n",
              "      <td>this worked very well and is easy.  i used not...</td>\n",
              "      <td>True</td>\n",
              "    </tr>\n",
              "    <tr>\n",
              "      <th>3</th>\n",
              "      <td>126440</td>\n",
              "      <td>85009</td>\n",
              "      <td>2010-02-27</td>\n",
              "      <td>5</td>\n",
              "      <td>i made the mexican topping and took it to bunk...</td>\n",
              "      <td>True</td>\n",
              "    </tr>\n",
              "    <tr>\n",
              "      <th>4</th>\n",
              "      <td>57222</td>\n",
              "      <td>85009</td>\n",
              "      <td>2011-10-01</td>\n",
              "      <td>5</td>\n",
              "      <td>made the cheddar bacon topping, adding a sprin...</td>\n",
              "      <td>True</td>\n",
              "    </tr>\n",
              "    <tr>\n",
              "      <th>...</th>\n",
              "      <td>...</td>\n",
              "      <td>...</td>\n",
              "      <td>...</td>\n",
              "      <td>...</td>\n",
              "      <td>...</td>\n",
              "      <td>...</td>\n",
              "    </tr>\n",
              "    <tr>\n",
              "      <th>1132362</th>\n",
              "      <td>116593</td>\n",
              "      <td>72730</td>\n",
              "      <td>2003-12-09</td>\n",
              "      <td>0</td>\n",
              "      <td>another approach is to start making sauce with...</td>\n",
              "      <td>False</td>\n",
              "    </tr>\n",
              "    <tr>\n",
              "      <th>1132363</th>\n",
              "      <td>583662</td>\n",
              "      <td>386618</td>\n",
              "      <td>2009-09-29</td>\n",
              "      <td>5</td>\n",
              "      <td>these were so delicious!  my husband and i tru...</td>\n",
              "      <td>True</td>\n",
              "    </tr>\n",
              "    <tr>\n",
              "      <th>1132364</th>\n",
              "      <td>157126</td>\n",
              "      <td>78003</td>\n",
              "      <td>2008-06-23</td>\n",
              "      <td>5</td>\n",
              "      <td>wow!  sometimes i don't take the time to rate ...</td>\n",
              "      <td>True</td>\n",
              "    </tr>\n",
              "    <tr>\n",
              "      <th>1132365</th>\n",
              "      <td>53932</td>\n",
              "      <td>78003</td>\n",
              "      <td>2009-01-11</td>\n",
              "      <td>4</td>\n",
              "      <td>very good!  i used regular port as well.  the ...</td>\n",
              "      <td>True</td>\n",
              "    </tr>\n",
              "    <tr>\n",
              "      <th>1132366</th>\n",
              "      <td>2001868099</td>\n",
              "      <td>78003</td>\n",
              "      <td>2017-12-18</td>\n",
              "      <td>5</td>\n",
              "      <td>i am so glad i googled and found this here. th...</td>\n",
              "      <td>True</td>\n",
              "    </tr>\n",
              "  </tbody>\n",
              "</table>\n",
              "<p>1132198 rows × 6 columns</p>\n",
              "</div>\n",
              "      <button class=\"colab-df-convert\" onclick=\"convertToInteractive('df-6ea917b0-783d-459a-bc09-1c54fdb3ca5f')\"\n",
              "              title=\"Convert this dataframe to an interactive table.\"\n",
              "              style=\"display:none;\">\n",
              "        \n",
              "  <svg xmlns=\"http://www.w3.org/2000/svg\" height=\"24px\"viewBox=\"0 0 24 24\"\n",
              "       width=\"24px\">\n",
              "    <path d=\"M0 0h24v24H0V0z\" fill=\"none\"/>\n",
              "    <path d=\"M18.56 5.44l.94 2.06.94-2.06 2.06-.94-2.06-.94-.94-2.06-.94 2.06-2.06.94zm-11 1L8.5 8.5l.94-2.06 2.06-.94-2.06-.94L8.5 2.5l-.94 2.06-2.06.94zm10 10l.94 2.06.94-2.06 2.06-.94-2.06-.94-.94-2.06-.94 2.06-2.06.94z\"/><path d=\"M17.41 7.96l-1.37-1.37c-.4-.4-.92-.59-1.43-.59-.52 0-1.04.2-1.43.59L10.3 9.45l-7.72 7.72c-.78.78-.78 2.05 0 2.83L4 21.41c.39.39.9.59 1.41.59.51 0 1.02-.2 1.41-.59l7.78-7.78 2.81-2.81c.8-.78.8-2.07 0-2.86zM5.41 20L4 18.59l7.72-7.72 1.47 1.35L5.41 20z\"/>\n",
              "  </svg>\n",
              "      </button>\n",
              "      \n",
              "  <style>\n",
              "    .colab-df-container {\n",
              "      display:flex;\n",
              "      flex-wrap:wrap;\n",
              "      gap: 12px;\n",
              "    }\n",
              "\n",
              "    .colab-df-convert {\n",
              "      background-color: #E8F0FE;\n",
              "      border: none;\n",
              "      border-radius: 50%;\n",
              "      cursor: pointer;\n",
              "      display: none;\n",
              "      fill: #1967D2;\n",
              "      height: 32px;\n",
              "      padding: 0 0 0 0;\n",
              "      width: 32px;\n",
              "    }\n",
              "\n",
              "    .colab-df-convert:hover {\n",
              "      background-color: #E2EBFA;\n",
              "      box-shadow: 0px 1px 2px rgba(60, 64, 67, 0.3), 0px 1px 3px 1px rgba(60, 64, 67, 0.15);\n",
              "      fill: #174EA6;\n",
              "    }\n",
              "\n",
              "    [theme=dark] .colab-df-convert {\n",
              "      background-color: #3B4455;\n",
              "      fill: #D2E3FC;\n",
              "    }\n",
              "\n",
              "    [theme=dark] .colab-df-convert:hover {\n",
              "      background-color: #434B5C;\n",
              "      box-shadow: 0px 1px 3px 1px rgba(0, 0, 0, 0.15);\n",
              "      filter: drop-shadow(0px 1px 2px rgba(0, 0, 0, 0.3));\n",
              "      fill: #FFFFFF;\n",
              "    }\n",
              "  </style>\n",
              "\n",
              "      <script>\n",
              "        const buttonEl =\n",
              "          document.querySelector('#df-6ea917b0-783d-459a-bc09-1c54fdb3ca5f button.colab-df-convert');\n",
              "        buttonEl.style.display =\n",
              "          google.colab.kernel.accessAllowed ? 'block' : 'none';\n",
              "\n",
              "        async function convertToInteractive(key) {\n",
              "          const element = document.querySelector('#df-6ea917b0-783d-459a-bc09-1c54fdb3ca5f');\n",
              "          const dataTable =\n",
              "            await google.colab.kernel.invokeFunction('convertToInteractive',\n",
              "                                                     [key], {});\n",
              "          if (!dataTable) return;\n",
              "\n",
              "          const docLinkHtml = 'Like what you see? Visit the ' +\n",
              "            '<a target=\"_blank\" href=https://colab.research.google.com/notebooks/data_table.ipynb>data table notebook</a>'\n",
              "            + ' to learn more about interactive tables.';\n",
              "          element.innerHTML = '';\n",
              "          dataTable['output_type'] = 'display_data';\n",
              "          await google.colab.output.renderOutput(dataTable, element);\n",
              "          const docLink = document.createElement('div');\n",
              "          docLink.innerHTML = docLinkHtml;\n",
              "          element.appendChild(docLink);\n",
              "        }\n",
              "      </script>\n",
              "    </div>\n",
              "  </div>\n",
              "  "
            ],
            "text/plain": [
              "            user_id  recipe_id        date  rating  \\\n",
              "0             38094      40893  2003-02-17       4   \n",
              "1           1293707      40893  2011-12-21       5   \n",
              "2              8937      44394  2002-12-01       4   \n",
              "3            126440      85009  2010-02-27       5   \n",
              "4             57222      85009  2011-10-01       5   \n",
              "...             ...        ...         ...     ...   \n",
              "1132362      116593      72730  2003-12-09       0   \n",
              "1132363      583662     386618  2009-09-29       5   \n",
              "1132364      157126      78003  2008-06-23       5   \n",
              "1132365       53932      78003  2009-01-11       4   \n",
              "1132366  2001868099      78003  2017-12-18       5   \n",
              "\n",
              "                                                    review  sentiment  \n",
              "0        great with a salad. cooked on top of stove for...       True  \n",
              "1        so simple, so delicious! great for chilly fall...       True  \n",
              "2        this worked very well and is easy.  i used not...       True  \n",
              "3        i made the mexican topping and took it to bunk...       True  \n",
              "4        made the cheddar bacon topping, adding a sprin...       True  \n",
              "...                                                    ...        ...  \n",
              "1132362  another approach is to start making sauce with...      False  \n",
              "1132363  these were so delicious!  my husband and i tru...       True  \n",
              "1132364  wow!  sometimes i don't take the time to rate ...       True  \n",
              "1132365  very good!  i used regular port as well.  the ...       True  \n",
              "1132366  i am so glad i googled and found this here. th...       True  \n",
              "\n",
              "[1132198 rows x 6 columns]"
            ]
          },
          "execution_count": 93,
          "metadata": {},
          "output_type": "execute_result"
        }
      ],
      "source": [
        "comments"
      ]
    },
    {
      "cell_type": "markdown",
      "id": "1BiNZnS29adv",
      "metadata": {
        "id": "1BiNZnS29adv"
      },
      "source": [
        "Formatons nos données pour entrainer un modèle à prédire si un commentaire est positif ou négatif à partir du label sentiment:"
      ]
    },
    {
      "cell_type": "code",
      "execution_count": null,
      "id": "dZAnb3cD791M",
      "metadata": {
        "id": "dZAnb3cD791M"
      },
      "outputs": [],
      "source": [
        "y = comments['sentiment'][:30000]\n",
        "x = comments['review'][:30000]"
      ]
    },
    {
      "cell_type": "code",
      "execution_count": null,
      "id": "_Oi8g3259n9B",
      "metadata": {
        "colab": {
          "base_uri": "https://localhost:8080/"
        },
        "id": "_Oi8g3259n9B",
        "outputId": "403c0266-94e2-4ef0-a6b7-5a5a852a2404"
      },
      "outputs": [
        {
          "data": {
            "text/plain": [
              "0        True\n",
              "1        True\n",
              "2        True\n",
              "3        True\n",
              "4        True\n",
              "         ... \n",
              "30001    True\n",
              "30002    True\n",
              "30003    True\n",
              "30004    True\n",
              "30005    True\n",
              "Name: sentiment, Length: 30000, dtype: bool"
            ]
          },
          "execution_count": 95,
          "metadata": {},
          "output_type": "execute_result"
        }
      ],
      "source": [
        "y"
      ]
    },
    {
      "cell_type": "markdown",
      "id": "OP7OsrQI9sbK",
      "metadata": {
        "id": "OP7OsrQI9sbK"
      },
      "source": [
        "Partageons nos données en un ensemble d'apprentissage et un ensemble de test:"
      ]
    },
    {
      "cell_type": "code",
      "execution_count": null,
      "id": "hwHPSFQ3Bvho",
      "metadata": {
        "id": "hwHPSFQ3Bvho"
      },
      "outputs": [],
      "source": [
        "from sklearn.model_selection import train_test_split\n",
        "\n",
        "X_train, X_test, y_train, y_test = train_test_split(x, y, test_size=0.15, random_state=42)"
      ]
    },
    {
      "cell_type": "code",
      "execution_count": null,
      "id": "-HGnMxZe9qVN",
      "metadata": {
        "colab": {
          "base_uri": "https://localhost:8080/"
        },
        "id": "-HGnMxZe9qVN",
        "outputId": "947c1c93-d1db-4a20-de0d-2675c328c097"
      },
      "outputs": [
        {
          "name": "stdout",
          "output_type": "stream",
          "text": [
            "Model score: 0.99\n"
          ]
        }
      ],
      "source": [
        "from sklearn.ensemble import RandomForestClassifier\n",
        "from sklearn.feature_extraction.text import CountVectorizer\n",
        "from sklearn.feature_extraction.text import TfidfTransformer\n",
        "from sklearn.pipeline import make_pipeline\n",
        "\n",
        "model = make_pipeline(\n",
        "        CountVectorizer(max_df= 0.5, ngram_range= (1, 2)),\n",
        "        TfidfTransformer(),\n",
        "        RandomForestClassifier()\n",
        ")\n",
        "\n",
        "model.fit(X_train, y_train)\n",
        "print(f\"Model score: {model.score(x, y):.2f}\")"
      ]
    },
    {
      "cell_type": "code",
      "execution_count": 5,
      "id": "dzn9Lg_j_JGu",
      "metadata": {
        "id": "dzn9Lg_j_JGu"
      },
      "outputs": [
        {
          "ename": "NameError",
          "evalue": "name 'model' is not defined",
          "output_type": "error",
          "traceback": [
            "\u001b[0;31m---------------------------------------------------------------------------\u001b[0m",
            "\u001b[0;31mNameError\u001b[0m                                 Traceback (most recent call last)",
            "\u001b[0;32m<ipython-input-5-5302c1362523>\u001b[0m in \u001b[0;36m<module>\u001b[0;34m\u001b[0m\n\u001b[0;32m----> 1\u001b[0;31m \u001b[0mpreds\u001b[0m \u001b[0;34m=\u001b[0m\u001b[0mmodel\u001b[0m\u001b[0;34m.\u001b[0m\u001b[0mpredict\u001b[0m\u001b[0;34m(\u001b[0m\u001b[0mX_test\u001b[0m\u001b[0;34m)\u001b[0m\u001b[0;34m\u001b[0m\u001b[0;34m\u001b[0m\u001b[0m\n\u001b[0m",
            "\u001b[0;31mNameError\u001b[0m: name 'model' is not defined"
          ]
        }
      ],
      "source": [
        "preds =model.predict(X_test)"
      ]
    },
    {
      "cell_type": "code",
      "execution_count": null,
      "id": "3rjueJc8QpMT",
      "metadata": {
        "id": "3rjueJc8QpMT"
      },
      "outputs": [],
      "source": [
        "unique, counts = np.unique(preds, return_counts=True)"
      ]
    },
    {
      "cell_type": "code",
      "execution_count": null,
      "id": "S6qWs8L2Q3V6",
      "metadata": {
        "id": "S6qWs8L2Q3V6"
      },
      "outputs": [],
      "source": [
        "unique2, counts2 = np.unique(y_test, return_counts=True)"
      ]
    },
    {
      "cell_type": "code",
      "execution_count": null,
      "id": "G_XhJ1-HRS12",
      "metadata": {
        "colab": {
          "base_uri": "https://localhost:8080/"
        },
        "id": "G_XhJ1-HRS12",
        "outputId": "0e5f5142-1f3e-41d1-fea4-50d25b0403a5"
      },
      "outputs": [
        {
          "data": {
            "text/plain": [
              "array([   8, 4492])"
            ]
          },
          "execution_count": 101,
          "metadata": {},
          "output_type": "execute_result"
        }
      ],
      "source": [
        "counts"
      ]
    },
    {
      "cell_type": "code",
      "execution_count": null,
      "id": "HrX8GRciSZpO",
      "metadata": {
        "colab": {
          "base_uri": "https://localhost:8080/"
        },
        "id": "HrX8GRciSZpO",
        "outputId": "fb1a1612-8614-4ee2-dc16-5ddd99063d1b"
      },
      "outputs": [
        {
          "data": {
            "text/plain": [
              "array([ 240, 4260])"
            ]
          },
          "execution_count": 102,
          "metadata": {},
          "output_type": "execute_result"
        }
      ],
      "source": [
        "counts2"
      ]
    },
    {
      "cell_type": "markdown",
      "id": "jCJzAyRJUvvt",
      "metadata": {
        "id": "jCJzAyRJUvvt"
      },
      "source": [
        "modèle rincé, classe déséquilibrées, faut score avec un F2 score"
      ]
    },
    {
      "cell_type": "code",
      "execution_count": null,
      "id": "Imjsmjx1U0pw",
      "metadata": {
        "id": "Imjsmjx1U0pw"
      },
      "outputs": [],
      "source": []
    }
  ],
  "metadata": {
    "accelerator": "GPU",
    "colab": {
      "name": "Sentiment analysis.ipynb",
      "provenance": []
    },
    "gpuClass": "standard",
    "kernelspec": {
      "display_name": "Python 3.7.7 ('base')",
      "language": "python",
      "name": "python3"
    },
    "language_info": {
      "codemirror_mode": {
        "name": "ipython",
        "version": 3
      },
      "file_extension": ".py",
      "mimetype": "text/x-python",
      "name": "python",
      "nbconvert_exporter": "python",
      "pygments_lexer": "ipython3",
      "version": "3.7.7"
    },
    "vscode": {
      "interpreter": {
        "hash": "e7888fc54d5cae7b48dedee64714d1b08eaa21c909d91617f1e43b3758946f96"
      }
    }
  },
  "nbformat": 4,
  "nbformat_minor": 5
}
