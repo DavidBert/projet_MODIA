{
 "cells": [
  {
   "cell_type": "markdown",
   "metadata": {},
   "source": [
    "### Imports"
   ]
  },
  {
   "cell_type": "code",
   "execution_count": 1,
   "metadata": {},
   "outputs": [],
   "source": [
    "import pandas as pd\n",
    "import numpy as np\n",
    "import matplotlib.pyplot as plt\n"
   ]
  },
  {
   "cell_type": "markdown",
   "metadata": {},
   "source": [
    "### Chargement des données"
   ]
  },
  {
   "cell_type": "code",
   "execution_count": 2,
   "metadata": {},
   "outputs": [],
   "source": [
    "interactions_test = pd.read_csv('data/interactions_test.csv')\n",
    "interactions_train = pd.read_csv('data/interactions_train.csv')\n",
    "RAW_interactions = pd.read_csv('data/RAW_interactions.csv')\n",
    "RAW_recipes = pd.read_csv('data/RAW_recipes.csv')"
   ]
  },
  {
   "cell_type": "markdown",
   "metadata": {},
   "source": [
    "### Exploration des données"
   ]
  },
  {
   "cell_type": "markdown",
   "metadata": {},
   "source": [
    "#### Affichage du contenu des fichiers"
   ]
  },
  {
   "cell_type": "code",
   "execution_count": 3,
   "metadata": {},
   "outputs": [
    {
     "name": "stdout",
     "output_type": "stream",
     "text": [
      "interactions_train (698901, 6)  | keys : ['user_id', 'recipe_id', 'date', 'rating', 'u', 'i']\n",
      "   user_id  recipe_id        date  rating      u       i\n",
      "0     2046       4684  2000-02-25     5.0  22095   44367\n",
      "1     2046        517  2000-02-25     5.0  22095   87844\n",
      "2     1773       7435  2000-03-13     5.0  24732  138181\n",
      "3     1773        278  2000-03-13     4.0  24732   93054\n",
      "4     2046       3431  2000-04-07     5.0  22095  101723\n"
     ]
    }
   ],
   "source": [
    "print(f\"interactions_train {interactions_train.shape}  | keys : {interactions_train.keys().to_list()}\")\n",
    "print(interactions_train.head(5))"
   ]
  },
  {
   "cell_type": "code",
   "execution_count": 4,
   "metadata": {},
   "outputs": [
    {
     "name": "stdout",
     "output_type": "stream",
     "text": [
      "interactions_test  (12455, 6)   | keys : ['user_id', 'recipe_id', 'date', 'rating', 'u', 'i']\n",
      "   user_id  recipe_id        date  rating   u       i\n",
      "0     8937      44551  2005-12-23     4.0   2  173538\n",
      "1    56680     126118  2006-10-07     4.0  16  177847\n",
      "2   349752     219596  2008-04-12     0.0  26   89896\n",
      "3   628951      82783  2007-11-13     2.0  45  172637\n",
      "4    92816     435013  2013-07-31     3.0  52  177935\n"
     ]
    }
   ],
   "source": [
    "print(f\"interactions_test  {interactions_test.shape}   | keys : {interactions_test.keys().to_list()}\")\n",
    "print(interactions_test.head(5))"
   ]
  },
  {
   "cell_type": "code",
   "execution_count": 5,
   "metadata": {},
   "outputs": [
    {
     "name": "stdout",
     "output_type": "stream",
     "text": [
      "RAW_interactions   (1132367, 5) | keys : ['user_id', 'recipe_id', 'date', 'rating', 'review']\n",
      "   user_id  recipe_id        date  rating  \\\n",
      "0    38094      40893  2003-02-17       4   \n",
      "1  1293707      40893  2011-12-21       5   \n",
      "2     8937      44394  2002-12-01       4   \n",
      "3   126440      85009  2010-02-27       5   \n",
      "4    57222      85009  2011-10-01       5   \n",
      "\n",
      "                                              review  \n",
      "0  Great with a salad. Cooked on top of stove for...  \n",
      "1  So simple, so delicious! Great for chilly fall...  \n",
      "2  This worked very well and is EASY.  I used not...  \n",
      "3  I made the Mexican topping and took it to bunk...  \n",
      "4  Made the cheddar bacon topping, adding a sprin...  \n"
     ]
    }
   ],
   "source": [
    "print(f\"RAW_interactions   {RAW_interactions.shape} | keys : {RAW_interactions.keys().to_list()}\")\n",
    "print(RAW_interactions.head(5))"
   ]
  },
  {
   "cell_type": "code",
   "execution_count": 7,
   "metadata": {},
   "outputs": [
    {
     "name": "stdout",
     "output_type": "stream",
     "text": [
      "RAW_recipes        (231637, 12) | keys : ['name', 'id', 'minutes', 'contributor_id', 'submitted', 'tags', 'nutrition', 'n_steps', 'steps', 'description', 'ingredients', 'n_ingredients']\n",
      "                                         name      id  minutes  \\\n",
      "0  arriba   baked winter squash mexican style  137739       55   \n",
      "\n",
      "   contributor_id   submitted  \\\n",
      "0           47892  2005-09-16   \n",
      "\n",
      "                                                tags  \\\n",
      "0  ['60-minutes-or-less', 'time-to-make', 'course...   \n",
      "\n",
      "                               nutrition  n_steps  \\\n",
      "0  [51.5, 0.0, 13.0, 0.0, 2.0, 0.0, 4.0]       11   \n",
      "\n",
      "                                               steps  \\\n",
      "0  ['make a choice and proceed with recipe', 'dep...   \n",
      "\n",
      "                                         description  \\\n",
      "0  autumn is my favorite time of year to cook! th...   \n",
      "\n",
      "                                         ingredients  n_ingredients  \n",
      "0  ['winter squash', 'mexican seasoning', 'mixed ...              7  \n"
     ]
    }
   ],
   "source": [
    "print(f\"RAW_recipes        {RAW_recipes.shape} | keys : {RAW_recipes.keys().to_list()}\")\n",
    "print(RAW_recipes.head(1))"
   ]
  },
  {
   "cell_type": "markdown",
   "metadata": {},
   "source": [
    "#### Exploration des notes"
   ]
  },
  {
   "cell_type": "code",
   "execution_count": 21,
   "metadata": {},
   "outputs": [
    {
     "data": {
      "image/png": "[encoded data removed]",
      "text/plain": [
       "<Figure size 1080x360 with 2 Axes>"
      ]
     },
     "metadata": {
      "needs_background": "light"
     },
     "output_type": "display_data"
    }
   ],
   "source": [
    "plt.figure(figsize=(15, 5))\n",
    "plt.subplot(1,2,1)\n",
    "plt.hist(interactions_train.rating)\n",
    "plt.title(\"train\")\n",
    "plt.subplot(1,2,2)\n",
    "plt.hist(interactions_test.rating)\n",
    "plt.title(\"test\")\n",
    "plt.show()"
   ]
  },
  {
   "cell_type": "code",
   "execution_count": null,
   "metadata": {},
   "outputs": [],
   "source": []
  }
 ],
 "metadata": {
  "kernelspec": {
   "display_name": "Python 3.9.13 ('pytorch_env')",
   "language": "python",
   "name": "python3"
  },
  "language_info": {
   "codemirror_mode": {
    "name": "ipython",
    "version": 3
   },
   "file_extension": ".py",
   "mimetype": "text/x-python",
   "name": "python",
   "nbconvert_exporter": "python",
   "pygments_lexer": "ipython3",
   "version": "3.9.13"
  },
  "orig_nbformat": 4,
  "vscode": {
   "interpreter": {
    "hash": "122d37c2dd6e26ed694a8b30e18b9679d9f2ffb5da4b0b860dcfb8c30ecf54fa"
   }
  }
 },
 "nbformat": 4,
 "nbformat_minor": 2
}
