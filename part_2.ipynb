{
 "cells": [
  {
   "cell_type": "markdown",
   "metadata": {},
   "source": [
    "### Imports"
   ]
  },
  {
   "cell_type": "code",
   "execution_count": 1,
   "metadata": {},
   "outputs": [],
   "source": [
    "import pandas as pd\n",
    "import numpy as np\n",
    "import matplotlib.pyplot as plt\n"
   ]
  },
  {
   "cell_type": "markdown",
   "metadata": {},
   "source": [
    "### Chargement des données"
   ]
  },
  {
   "cell_type": "code",
   "execution_count": 2,
   "metadata": {},
   "outputs": [],
   "source": [
    "interactions_test = pd.read_csv('data/interactions_test.csv')\n",
    "interactions_train = pd.read_csv('data/interactions_train.csv')\n",
    "RAW_interactions = pd.read_csv('data/RAW_interactions.csv')\n",
    "RAW_recipes = pd.read_csv('data/RAW_recipes.csv')"
   ]
  },
  {
   "cell_type": "markdown",
   "metadata": {},
   "source": [
    "### Exploration des données"
   ]
  },
  {
   "cell_type": "markdown",
   "metadata": {},
   "source": [
    "#### Affichage du contenu des fichiers"
   ]
  },
  {
   "cell_type": "code",
   "execution_count": 3,
   "metadata": {},
   "outputs": [
    {
     "name": "stdout",
     "output_type": "stream",
     "text": [
      "interactions_train (698901, 6)  | keys : ['user_id', 'recipe_id', 'date', 'rating', 'u', 'i']\n",
      "   user_id  recipe_id        date  rating      u       i\n",
      "0     2046       4684  2000-02-25     5.0  22095   44367\n",
      "1     2046        517  2000-02-25     5.0  22095   87844\n",
      "2     1773       7435  2000-03-13     5.0  24732  138181\n",
      "3     1773        278  2000-03-13     4.0  24732   93054\n",
      "4     2046       3431  2000-04-07     5.0  22095  101723\n"
     ]
    }
   ],
   "source": [
    "print(f\"interactions_train {interactions_train.shape}  | keys : {interactions_train.keys().to_list()}\")\n",
    "print(interactions_train.head(5))"
   ]
  },
  {
   "cell_type": "code",
   "execution_count": 4,
   "metadata": {},
   "outputs": [
    {
     "name": "stdout",
     "output_type": "stream",
     "text": [
      "interactions_test  (12455, 6)   | keys : ['user_id', 'recipe_id', 'date', 'rating', 'u', 'i']\n",
      "   user_id  recipe_id        date  rating   u       i\n",
      "0     8937      44551  2005-12-23     4.0   2  173538\n",
      "1    56680     126118  2006-10-07     4.0  16  177847\n",
      "2   349752     219596  2008-04-12     0.0  26   89896\n",
      "3   628951      82783  2007-11-13     2.0  45  172637\n",
      "4    92816     435013  2013-07-31     3.0  52  177935\n"
     ]
    }
   ],
   "source": [
    "print(f\"interactions_test  {interactions_test.shape}   | keys : {interactions_test.keys().to_list()}\")\n",
    "print(interactions_test.head(5))"
   ]
  },
  {
   "cell_type": "code",
   "execution_count": 5,
   "metadata": {},
   "outputs": [
    {
     "name": "stdout",
     "output_type": "stream",
     "text": [
      "RAW_interactions   (1132367, 5) | keys : ['user_id', 'recipe_id', 'date', 'rating', 'review']\n",
      "   user_id  recipe_id        date  rating  \\\n",
      "0    38094      40893  2003-02-17       4   \n",
      "1  1293707      40893  2011-12-21       5   \n",
      "2     8937      44394  2002-12-01       4   \n",
      "3   126440      85009  2010-02-27       5   \n",
      "4    57222      85009  2011-10-01       5   \n",
      "\n",
      "                                              review  \n",
      "0  Great with a salad. Cooked on top of stove for...  \n",
      "1  So simple, so delicious! Great for chilly fall...  \n",
      "2  This worked very well and is EASY.  I used not...  \n",
      "3  I made the Mexican topping and took it to bunk...  \n",
      "4  Made the cheddar bacon topping, adding a sprin...  \n"
     ]
    }
   ],
   "source": [
    "print(f\"RAW_interactions   {RAW_interactions.shape} | keys : {RAW_interactions.keys().to_list()}\")\n",
    "print(RAW_interactions.head(5))"
   ]
  },
  {
   "cell_type": "code",
   "execution_count": 6,
   "metadata": {},
   "outputs": [
    {
     "name": "stdout",
     "output_type": "stream",
     "text": [
      "RAW_recipes        (231637, 12) | keys : ['name', 'id', 'minutes', 'contributor_id', 'submitted', 'tags', 'nutrition', 'n_steps', 'steps', 'description', 'ingredients', 'n_ingredients']\n",
      "                                         name      id  minutes  \\\n",
      "0  arriba   baked winter squash mexican style  137739       55   \n",
      "\n",
      "   contributor_id   submitted  \\\n",
      "0           47892  2005-09-16   \n",
      "\n",
      "                                                tags  \\\n",
      "0  ['60-minutes-or-less', 'time-to-make', 'course...   \n",
      "\n",
      "                               nutrition  n_steps  \\\n",
      "0  [51.5, 0.0, 13.0, 0.0, 2.0, 0.0, 4.0]       11   \n",
      "\n",
      "                                               steps  \\\n",
      "0  ['make a choice and proceed with recipe', 'dep...   \n",
      "\n",
      "                                         description  \\\n",
      "0  autumn is my favorite time of year to cook! th...   \n",
      "\n",
      "                                         ingredients  n_ingredients  \n",
      "0  ['winter squash', 'mexican seasoning', 'mixed ...              7  \n"
     ]
    }
   ],
   "source": [
    "print(f\"RAW_recipes        {RAW_recipes.shape} | keys : {RAW_recipes.keys().to_list()}\")\n",
    "print(RAW_recipes.head(1))"
   ]
  },
  {
   "cell_type": "markdown",
   "metadata": {},
   "source": [
    "#### Exploration des notes"
   ]
  },
  {
   "cell_type": "code",
   "execution_count": 7,
   "metadata": {},
   "outputs": [
    {
     "data": {
      "image/png": "[encoded data removed]",
      "text/plain": [
       "<Figure size 1080x360 with 2 Axes>"
      ]
     },
     "metadata": {
      "needs_background": "light"
     },
     "output_type": "display_data"
    }
   ],
   "source": [
    "plt.figure(figsize=(15, 5))\n",
    "plt.subplot(1,2,1)\n",
    "plt.hist(interactions_train.rating)\n",
    "plt.title(\"train\")\n",
    "plt.subplot(1,2,2)\n",
    "plt.hist(interactions_test.rating)\n",
    "plt.title(\"test\")\n",
    "plt.show()"
   ]
  },
  {
   "cell_type": "markdown",
   "metadata": {},
   "source": [
    "Isolation des notes nulles"
   ]
  },
  {
   "cell_type": "code",
   "execution_count": 8,
   "metadata": {},
   "outputs": [
    {
     "data": {
      "text/plain": [
       "6          Just an observation, so I will not rate.  I fo...\n",
       "12         Made my own buttermilk w/ vinegar and milk.  U...\n",
       "23         This is a very good recipe.  We also want to c...\n",
       "39                              i made it and it was amazing\n",
       "56         I used half cream and half 1% milk, added anot...\n",
       "                                 ...                        \n",
       "1132318    Delicious ! I tweeked the recipe a bit>>substi...\n",
       "1132323    Just added this mix to a homemade beef &amp; s...\n",
       "1132325    Would this make a good hamburger patty seasoning?\n",
       "1132361    I am not going to rate this because I did have...\n",
       "1132362    Another approach is to start making sauce with...\n",
       "Name: review, Length: 60847, dtype: object"
      ]
     },
     "execution_count": 8,
     "metadata": {},
     "output_type": "execute_result"
    }
   ],
   "source": [
    "RAW_interactions.loc[RAW_interactions.rating ==0][\"review\"]"
   ]
  },
  {
   "cell_type": "markdown",
   "metadata": {},
   "source": [
    "Les notes nulles correspondent dans la plupart des cas à des commentaires positifs, on les supprime donc."
   ]
  },
  {
   "cell_type": "markdown",
   "metadata": {},
   "source": [
    "### Elimination des notes nulles et création du label \"positif\""
   ]
  },
  {
   "cell_type": "code",
   "execution_count": 9,
   "metadata": {},
   "outputs": [],
   "source": [
    "RAW_interactions_clean = RAW_interactions.drop(RAW_interactions[RAW_interactions.rating == 0].index).fillna('')"
   ]
  },
  {
   "cell_type": "code",
   "execution_count": 10,
   "metadata": {},
   "outputs": [],
   "source": [
    "RAW_interactions_clean[\"positive\"] = RAW_interactions_clean.rating.apply(lambda x: x > 3)"
   ]
  },
  {
   "cell_type": "markdown",
   "metadata": {},
   "source": [
    "### Train test split"
   ]
  },
  {
   "cell_type": "code",
   "execution_count": 11,
   "metadata": {},
   "outputs": [],
   "source": [
    "from sklearn.model_selection import train_test_split\n",
    "\n",
    "max_data = 500\n",
    "\n",
    "train_clean, test_clean = train_test_split(RAW_interactions_clean.iloc[:max_data], test_size=0.2)"
   ]
  },
  {
   "cell_type": "markdown",
   "metadata": {},
   "source": [
    "## TFIDF basique"
   ]
  },
  {
   "cell_type": "markdown",
   "metadata": {},
   "source": [
    "### Calcul de la matrice TFIDF et de la distance entre les avis"
   ]
  },
  {
   "cell_type": "code",
   "execution_count": 28,
   "metadata": {},
   "outputs": [],
   "source": [
    "from sklearn.feature_extraction.text import TfidfVectorizer\n",
    "tfidf = TfidfVectorizer(stop_words='english', max_features = 100)\n",
    "tfidf_matrix = tfidf.fit_transform(train_clean['review'])"
   ]
  },
  {
   "cell_type": "code",
   "execution_count": 29,
   "metadata": {},
   "outputs": [],
   "source": [
    "from sklearn.metrics.pairwise import cosine_distances\n",
    "cosine_sim = cosine_distances(tfidf_matrix, tfidf_matrix)"
   ]
  },
  {
   "cell_type": "markdown",
   "metadata": {},
   "source": [
    "### Calcul des avis proches et affichage de leur note"
   ]
  },
  {
   "cell_type": "code",
   "execution_count": 32,
   "metadata": {},
   "outputs": [],
   "source": [
    "def get_closest(idx, sim_matrix, num_neighbors=5):\n",
    "  print(f'original: ({train_clean.iloc[idx][\"rating\"]}/5) {train_clean.iloc[idx][\"review\"]}\\n')\n",
    "  closest = sim_matrix[idx].argsort()[1:num_neighbors+1]\n",
    "  for i in range(0,num_neighbors):\n",
    "    print(f'{i+1}/ ({train_clean.iloc[closest[i]][\"rating\"]}/5) {train_clean.iloc[closest[i]][\"review\"]}\\n')"
   ]
  },
  {
   "cell_type": "code",
   "execution_count": 33,
   "metadata": {},
   "outputs": [
    {
     "name": "stdout",
     "output_type": "stream",
     "text": [
      "original: (3/5) I'm sorry I couldn't give this a higher rating ... I appreciated the fact that this could be made so that it's virtually nonfat.  But I thought there was too much gelatin in it -- in fact, when I tried to pour the base mixture into the ice cream freezer, it had already solidified into a gelatinous, mass.  (I used Trader Joe's plain nonfat yogurt).  I'll keep looking for my platonic ideal of vanilla frozen yogurt -- but thanks for posting this!\n",
      "\n",
      "1/ (5/5) i have had no problem with the gelatin, as another user has posted.  I have only had good results, the most fluffy, light, dreamy, creamy frozen yogurt I have ever made. DEFINITELY the best vanilla frozen yogurt I have had.\n",
      "\n",
      "2/ (5/5) I halved this (except the vanilla- oops!) for my Cuisinart icecream maker as a couple others did-- great stuff!  We are excited to try it tomorrow after it's ripened too because the super-frozen parts left in the bowl were the best we thought.  We didn't find we needed to chill the mixture after adding the yogurt and vanilla because the yogurt came straight from the fridge.  I love that this is low fat and the gelatin insead of eggs which make me nervous to use uncooked.  Thanks Tom!\n",
      "\n",
      "3/ (5/5) Excellent! Light, fluffy, and creamy, not icy like homemade lowfat frozen desserts tend to be. I halved the recipe and used the Cusinart ice cream maker. So easy and so healthy, I'll be making this often. Highly suggest Stonyfield Farm or other plain organic yogurt as the flavor and quality is so much better, in my opinion, than regular commercial varieties. Thanks for sharing your recipe! UPDATE: I make this often and especially like using Stonyfield's vanilla yogurt and serving with fresh sliced strawberries or other berries. Also LOVE this with a drizzle of local honey. Yum. To die for!\n",
      "\n"
     ]
    }
   ],
   "source": [
    "get_closest(1, cosine_sim, num_neighbors=3)"
   ]
  },
  {
   "cell_type": "markdown",
   "metadata": {},
   "source": [
    "## TFIDF avec Stemming"
   ]
  },
  {
   "cell_type": "markdown",
   "metadata": {},
   "source": [
    "### Calcul de la matrice TFIDF"
   ]
  },
  {
   "cell_type": "code",
   "execution_count": 39,
   "metadata": {},
   "outputs": [
    {
     "name": "stderr",
     "output_type": "stream",
     "text": [
      "[nltk_data] Downloading package punkt to /home/n7student/nltk_data...\n",
      "[nltk_data]   Package punkt is already up-to-date!\n",
      "[nltk_data] Downloading package stopwords to\n",
      "[nltk_data]     /home/n7student/nltk_data...\n",
      "[nltk_data]   Package stopwords is already up-to-date!\n"
     ]
    }
   ],
   "source": [
    "from nltk import word_tokenize          \n",
    "from nltk.stem import SnowballStemmer\n",
    "import nltk\n",
    "from nltk.corpus import stopwords\n",
    "\n",
    "nltk.download('punkt')\n",
    "nltk.download('stopwords')\n",
    "# Download stopwords list\n",
    "\n",
    "stop_words = set(stopwords.words('english')) \n",
    "\n",
    "# Interface lemma tokenizer from nltk with sklearn\n",
    "class StemTokenizer:\n",
    "    ignore_tokens = [',', '.', ';', ':', '\"', '``', \"''\", '`']\n",
    "    def __init__(self):\n",
    "        self.stemmer = SnowballStemmer('english')\n",
    "    def __call__(self, doc):\n",
    "        return [self.stemmer.stem(t) for t in word_tokenize(doc) if t not in self.ignore_tokens]\n",
    "\n",
    "tokenizer=StemTokenizer()\n",
    "token_stop = tokenizer(' '.join(stop_words))"
   ]
  },
  {
   "cell_type": "code",
   "execution_count": 52,
   "metadata": {},
   "outputs": [],
   "source": [
    "# Create TF-idf model\n",
    "tfidf = TfidfVectorizer(stop_words=token_stop, tokenizer=tokenizer, max_features=100)\n",
    "\n",
    "#Construct the required TF-IDF matrix by fitting and transforming the data\n",
    "tfidf_matrix = tfidf.fit_transform(train_clean['review'])"
   ]
  },
  {
   "cell_type": "code",
   "execution_count": 120,
   "metadata": {},
   "outputs": [
    {
     "data": {
      "text/plain": [
       "array(['favorit', 'meatloaf', 'start', 'buy', 'half', 'lamb', 'everi',\n",
       "       'year', '&', '#', '039', 'sure', 'ground', 'lamb', 'went',\n",
       "       'search', 'yummi', 'thing', 'make', 'made', 'sever', 'time',\n",
       "       'alway', 'delight', 'share', 'super', 'easi', 'oh', 'tasti',\n",
       "       'thank', 'share'], dtype='<U8')"
      ]
     },
     "execution_count": 120,
     "metadata": {},
     "output_type": "execute_result"
    }
   ],
   "source": [
    "np.array([w for w in tokenizer(train_clean.iloc[0]['review']) if not w.lower() in token_stop])"
   ]
  },
  {
   "cell_type": "code",
   "execution_count": 123,
   "metadata": {},
   "outputs": [
    {
     "data": {
      "text/plain": [
       "['!',\n",
       " '#',\n",
       " '&',\n",
       " \"'m\",\n",
       " '(',\n",
       " ')',\n",
       " '*',\n",
       " '-',\n",
       " '...',\n",
       " '039',\n",
       " '1',\n",
       " '1/2',\n",
       " '2',\n",
       " '5',\n",
       " 'ad',\n",
       " 'add',\n",
       " 'also',\n",
       " 'bake',\n",
       " 'bean',\n",
       " 'bit',\n",
       " 'butter',\n",
       " 'cake',\n",
       " 'came',\n",
       " 'chang',\n",
       " 'chees',\n",
       " 'chicken',\n",
       " 'chocol',\n",
       " 'chop',\n",
       " 'cook',\n",
       " 'cooki',\n",
       " 'cream',\n",
       " 'crust',\n",
       " 'cup',\n",
       " 'cut',\n",
       " 'definit',\n",
       " 'delici',\n",
       " 'dinner',\n",
       " 'easi',\n",
       " 'enjoy',\n",
       " 'even',\n",
       " 'extra',\n",
       " 'flavor',\n",
       " 'follow',\n",
       " 'fresh',\n",
       " 'get',\n",
       " 'give',\n",
       " 'good',\n",
       " 'great',\n",
       " 'half',\n",
       " 'ingredi',\n",
       " 'instead',\n",
       " 'light',\n",
       " 'like',\n",
       " 'littl',\n",
       " 'lot',\n",
       " 'love',\n",
       " 'made',\n",
       " 'make',\n",
       " 'mix',\n",
       " 'much',\n",
       " 'next',\n",
       " 'nice',\n",
       " 'old',\n",
       " 'one',\n",
       " 'onion',\n",
       " 'pan',\n",
       " 'pepper',\n",
       " 'perfect',\n",
       " 'post',\n",
       " 'put',\n",
       " 'quick',\n",
       " 'realli',\n",
       " 'recip',\n",
       " 'review',\n",
       " 'sauc',\n",
       " 'serv',\n",
       " 'share',\n",
       " 'soup',\n",
       " 'star',\n",
       " 'sugar',\n",
       " 'sure',\n",
       " 'sweet',\n",
       " 'tast',\n",
       " 'tasti',\n",
       " 'thank',\n",
       " 'thing',\n",
       " 'think',\n",
       " 'time',\n",
       " 'tomato',\n",
       " 'top',\n",
       " 'tri',\n",
       " 'turn',\n",
       " 'use',\n",
       " 'vanilla',\n",
       " 'way',\n",
       " 'well',\n",
       " 'wonder',\n",
       " 'work',\n",
       " 'year',\n",
       " 'yogurt']"
      ]
     },
     "execution_count": 123,
     "metadata": {},
     "output_type": "execute_result"
    }
   ],
   "source": [
    "tfidf.get_feature_names()"
   ]
  },
  {
   "cell_type": "code",
   "execution_count": 110,
   "metadata": {},
   "outputs": [
    {
     "data": {
      "text/plain": [
       "array([[0.        , 0.26603185, 0.24429945, 0.        , 0.        ,\n",
       "        0.        , 0.        , 0.        , 0.        , 0.30965623,\n",
       "        0.        , 0.        , 0.        , 0.        , 0.        ,\n",
       "        0.        , 0.        , 0.        , 0.        , 0.        ,\n",
       "        0.        , 0.        , 0.        , 0.        , 0.        ,\n",
       "        0.        , 0.        , 0.        , 0.        , 0.        ,\n",
       "        0.        , 0.        , 0.        , 0.        , 0.        ,\n",
       "        0.        , 0.        , 0.19831375, 0.        , 0.        ,\n",
       "        0.        , 0.        , 0.        , 0.        , 0.        ,\n",
       "        0.        , 0.        , 0.        , 0.28629625, 0.        ,\n",
       "        0.        , 0.        , 0.        , 0.        , 0.        ,\n",
       "        0.        , 0.1412114 , 0.15107245, 0.        , 0.        ,\n",
       "        0.        , 0.        , 0.        , 0.        , 0.        ,\n",
       "        0.        , 0.        , 0.        , 0.        , 0.        ,\n",
       "        0.        , 0.        , 0.        , 0.        , 0.        ,\n",
       "        0.        , 0.49632221, 0.        , 0.        , 0.        ,\n",
       "        0.27127368, 0.        , 0.        , 0.26354503, 0.13717253,\n",
       "        0.28629625, 0.        , 0.19831375, 0.        , 0.        ,\n",
       "        0.        , 0.        , 0.        , 0.        , 0.        ,\n",
       "        0.        , 0.        , 0.        , 0.28303552, 0.        ]])"
      ]
     },
     "execution_count": 110,
     "metadata": {},
     "output_type": "execute_result"
    }
   ],
   "source": [
    "tfidf.transform([train_clean.iloc[0]['review']]).toarray()"
   ]
  },
  {
   "cell_type": "code",
   "execution_count": 83,
   "metadata": {},
   "outputs": [],
   "source": [
    "idx_imp_words = np.argsort(-tfidf_matrix.toarray(), axis=1)"
   ]
  },
  {
   "cell_type": "code",
   "execution_count": 93,
   "metadata": {},
   "outputs": [
    {
     "data": {
      "text/plain": [
       "array(['this', 'is', 'my', 'favorit', 'meatloaf', 'we', 'start', 'buy',\n",
       "       'half', 'a', 'lamb', 'everi', 'year', 'i', 'wasn', '&', '#', '039',\n",
       "       't', 'sure', 'what', 'to', 'do', 'with', 'the', 'ground', 'lamb',\n",
       "       'so', 'off', 'i', 'went', 'to', 'search', 'out', 'yummi', 'thing',\n",
       "       'to', 'make', 'i', 'have', 'made', 'this', 'sever', 'time', 'now',\n",
       "       'and', 'it', 'alway', 'is', 'a', 'delight', 'for', 'those', 'i',\n",
       "       'share', 'it', 'with', 'super', 'easi', 'but', 'oh', 'so', 'tasti',\n",
       "       'thank', 'you', 'for', 'share', 'this'], dtype='<U8')"
      ]
     },
     "execution_count": 93,
     "metadata": {},
     "output_type": "execute_result"
    }
   ],
   "source": [
    "np.array(tokenizer(train_clean.iloc[0]['review']))"
   ]
  },
  {
   "cell_type": "code",
   "execution_count": 124,
   "metadata": {},
   "outputs": [
    {
     "data": {
      "text/plain": [
       "array([0.26603185, 0.        , 0.        , 0.        , 0.        ,\n",
       "       0.        , 0.        , 0.        , 0.        , 0.        ,\n",
       "       0.        , 0.        , 0.41109055, 0.        , 0.        ,\n",
       "       0.        , 0.        , 0.46166504, 0.        , 0.        ,\n",
       "       0.        , 0.        , 0.        , 0.        , 0.39722564,\n",
       "       0.        , 0.        , 0.        , 0.        , 0.        ,\n",
       "       0.        , 0.        , 0.        , 0.        , 0.39425804,\n",
       "       0.        , 0.        , 0.        , 0.        , 0.        ,\n",
       "       0.        , 0.        , 0.        , 0.        , 0.        ,\n",
       "       0.        , 0.        , 0.        , 0.        , 0.        ,\n",
       "       0.        , 0.        , 0.        , 0.        , 0.        ,\n",
       "       0.        , 0.        , 0.        , 0.        , 0.        ,\n",
       "       0.        , 0.        , 0.        , 0.        , 0.        ,\n",
       "       0.        , 0.        , 0.        , 0.        , 0.        ,\n",
       "       0.        , 0.        , 0.        , 0.        , 0.        ,\n",
       "       0.        , 0.        , 0.        , 0.        , 0.        ,\n",
       "       0.        , 0.        , 0.        , 0.        , 0.        ,\n",
       "       0.        , 0.        , 0.        , 0.        , 0.        ,\n",
       "       0.        , 0.        , 0.        , 0.        , 0.        ,\n",
       "       0.        , 0.        , 0.        , 0.        , 0.        ,\n",
       "       0.        , 0.        , 0.29108291, 0.        , 0.        ,\n",
       "       0.        , 0.        , 0.        , 0.        , 0.        ,\n",
       "       0.        , 0.        , 0.        , 0.        , 0.        ,\n",
       "       0.14420529, 0.        , 0.34602339, 0.        , 0.        ,\n",
       "       0.        , 0.        , 0.        , 0.        , 0.        ,\n",
       "       0.        , 0.        , 0.        , 0.        , 0.        ,\n",
       "       0.        , 0.46847179, 0.30270071, 0.        , 0.        ,\n",
       "       0.        , 0.        , 0.        , 0.        , 0.        ,\n",
       "       0.        , 0.        , 0.        , 0.        , 0.        ,\n",
       "       0.        , 0.        , 0.        , 0.        , 0.        ,\n",
       "       0.        , 0.        , 0.        , 0.        , 0.        ,\n",
       "       0.        , 0.        , 0.        , 0.        , 0.        ,\n",
       "       0.        , 0.        , 0.        , 0.        , 0.        ,\n",
       "       0.        , 0.        , 0.        , 0.        , 0.        ,\n",
       "       0.        , 0.        , 0.        , 0.        , 0.        ,\n",
       "       0.        , 0.        , 0.        , 0.        , 0.        ,\n",
       "       0.        , 0.        , 0.        , 0.        , 0.        ,\n",
       "       0.        , 0.        , 0.29384732, 0.        , 0.        ,\n",
       "       0.        , 0.        , 0.        , 0.        , 0.        ,\n",
       "       0.        , 0.        , 0.        , 0.        , 0.        ,\n",
       "       0.        , 0.        , 0.        , 0.        , 0.        ,\n",
       "       0.        , 0.        , 0.        , 0.        , 0.        ,\n",
       "       0.        , 0.        , 0.18897546, 0.        , 0.        ,\n",
       "       0.49237754, 0.        , 0.        , 0.        , 0.        ,\n",
       "       0.48970619, 0.        , 0.        , 0.        , 0.        ,\n",
       "       0.44577963, 0.        , 0.        , 0.        , 0.        ,\n",
       "       0.        , 0.        , 0.        , 0.        , 0.        ,\n",
       "       0.        , 0.        , 0.32810839, 0.        , 0.        ,\n",
       "       0.        , 0.        , 0.        , 0.        , 0.        ,\n",
       "       0.        , 0.        , 0.        , 0.        , 0.        ,\n",
       "       0.        , 0.        , 0.        , 0.        , 0.        ,\n",
       "       0.        , 0.        , 0.        , 0.        , 0.        ,\n",
       "       0.        , 0.        , 0.        , 0.        , 0.        ,\n",
       "       0.        , 0.        , 0.        , 0.27803498, 0.        ,\n",
       "       0.        , 0.        , 0.        , 0.        , 0.        ,\n",
       "       0.        , 0.        , 0.        , 0.6561462 , 0.2480815 ,\n",
       "       0.        , 0.        , 0.        , 0.52623548, 0.        ,\n",
       "       0.        , 0.        , 0.40809902, 0.        , 0.        ,\n",
       "       0.25573893, 0.        , 0.29931486, 0.        , 0.        ,\n",
       "       0.        , 0.        , 0.        , 0.        , 0.        ,\n",
       "       0.        , 0.        , 0.        , 0.        , 0.        ,\n",
       "       0.        , 0.50513878, 0.        , 0.        , 0.        ,\n",
       "       0.        , 0.        , 0.        , 0.        , 0.        ,\n",
       "       0.        , 0.        , 0.        , 0.        , 0.        ,\n",
       "       0.        , 0.        , 0.3684307 , 0.        , 0.        ,\n",
       "       0.        , 0.18053185, 0.        , 0.        , 0.        ,\n",
       "       0.        , 0.        , 0.        , 0.        , 0.        ,\n",
       "       0.        , 0.        , 0.        , 0.        , 0.        ,\n",
       "       0.        , 0.        , 0.        , 0.        , 0.3097992 ,\n",
       "       0.        , 0.        , 0.        , 0.        , 0.        ,\n",
       "       0.        , 0.        , 0.        , 0.        , 0.        ,\n",
       "       0.        , 0.        , 0.        , 0.        , 0.        ,\n",
       "       0.        , 0.        , 0.        , 0.        , 0.        ,\n",
       "       0.        , 0.        , 0.        , 0.        , 0.        ,\n",
       "       0.        , 0.        , 0.        , 0.        , 0.        ,\n",
       "       0.        , 0.        , 0.        , 0.        , 0.        ,\n",
       "       0.        , 0.        , 0.        , 0.        , 0.        ,\n",
       "       0.        , 0.34370265, 0.        , 0.        , 0.        ,\n",
       "       0.        , 0.        , 0.        , 0.        , 0.        ,\n",
       "       0.        , 0.        , 0.        , 0.        , 0.        ])"
      ]
     },
     "execution_count": 124,
     "metadata": {},
     "output_type": "execute_result"
    }
   ],
   "source": [
    "tfidf_matrix.toarray()[:,1]"
   ]
  },
  {
   "cell_type": "code",
   "execution_count": 85,
   "metadata": {},
   "outputs": [
    {
     "data": {
      "text/plain": [
       "array([76,  9, 48, 85, 98, 80,  1, 83,  2, 37, 87, 57, 56, 84, 60, 69, 68,\n",
       "       67, 66, 65, 55, 64, 58, 63, 70, 62, 61, 59, 71,  0, 73, 97, 96, 95,\n",
       "       94, 93, 92, 91, 90, 89, 88, 86, 82, 81, 79, 78, 77, 54, 75, 74, 72,\n",
       "       53, 49, 51, 23, 22, 21, 20, 19, 18, 17, 16, 15, 24, 14, 12, 11, 10,\n",
       "        8,  7,  6,  5,  4,  3, 13, 52, 25, 27, 50, 47, 46, 45, 44, 43, 42,\n",
       "       41, 40, 26, 39, 36, 35, 34, 33, 32, 31, 30, 29, 28, 38, 99])"
      ]
     },
     "execution_count": 85,
     "metadata": {},
     "output_type": "execute_result"
    }
   ],
   "source": [
    "idx_imp_words[0]"
   ]
  },
  {
   "cell_type": "code",
   "execution_count": 81,
   "metadata": {},
   "outputs": [
    {
     "data": {
      "text/plain": [
       "68"
      ]
     },
     "execution_count": 81,
     "metadata": {},
     "output_type": "execute_result"
    }
   ],
   "source": [
    "len(tokenizer(train_clean['review'].values[0]))"
   ]
  },
  {
   "cell_type": "code",
   "execution_count": 79,
   "metadata": {},
   "outputs": [
    {
     "name": "stdout",
     "output_type": "stream",
     "text": [
      "[309 278 190 214 379]\n"
     ]
    },
    {
     "ename": "IndexError",
     "evalue": "index 309 is out of bounds for axis 0 with size 68",
     "output_type": "error",
     "traceback": [
      "\u001b[0;31m---------------------------------------------------------------------------\u001b[0m",
      "\u001b[0;31mIndexError\u001b[0m                                Traceback (most recent call last)",
      "\u001b[1;32m/home/n7student/Documents/S10/Atelier/food_recipes_predictions/part_2.ipynb Cell 34'\u001b[0m in \u001b[0;36m<cell line: 1>\u001b[0;34m()\u001b[0m\n\u001b[1;32m      <a href='vscode-notebook-cell:/home/n7student/Documents/S10/Atelier/food_recipes_predictions/part_2.ipynb#ch0000041?line=0'>1</a>\u001b[0m \u001b[39mfor\u001b[39;00m i \u001b[39min\u001b[39;00m \u001b[39mrange\u001b[39m(\u001b[39m5\u001b[39m):\u001b[39m#train_clean.shape[0]):\u001b[39;00m\n\u001b[1;32m      <a href='vscode-notebook-cell:/home/n7student/Documents/S10/Atelier/food_recipes_predictions/part_2.ipynb#ch0000041?line=1'>2</a>\u001b[0m     \u001b[39mprint\u001b[39m(idx_imp_words[i])\n\u001b[0;32m----> <a href='vscode-notebook-cell:/home/n7student/Documents/S10/Atelier/food_recipes_predictions/part_2.ipynb#ch0000041?line=2'>3</a>\u001b[0m     \u001b[39mprint\u001b[39m(np\u001b[39m.\u001b[39;49marray(tokenizer(train_clean[\u001b[39m'\u001b[39;49m\u001b[39mreview\u001b[39;49m\u001b[39m'\u001b[39;49m]\u001b[39m.\u001b[39;49mvalues[i]))[idx_imp_words[i]])\n",
      "\u001b[0;31mIndexError\u001b[0m: index 309 is out of bounds for axis 0 with size 68"
     ]
    }
   ],
   "source": [
    "for i in range(5):#train_clean.shape[0]):\n",
    "    print(idx_imp_words[i])\n",
    "    print(np.array(tokenizer(train_clean['review'].values[i]))[idx_imp_words[i]])"
   ]
  }
 ],
 "metadata": {
  "kernelspec": {
   "display_name": "Python 3.9.13 ('pytorch_env')",
   "language": "python",
   "name": "python3"
  },
  "language_info": {
   "codemirror_mode": {
    "name": "ipython",
    "version": 3
   },
   "file_extension": ".py",
   "mimetype": "text/x-python",
   "name": "python",
   "nbconvert_exporter": "python",
   "pygments_lexer": "ipython3",
   "version": "3.9.13"
  },
  "orig_nbformat": 4,
  "vscode": {
   "interpreter": {
    "hash": "122d37c2dd6e26ed694a8b30e18b9679d9f2ffb5da4b0b860dcfb8c30ecf54fa"
   }
  }
 },
 "nbformat": 4,
 "nbformat_minor": 2
}
