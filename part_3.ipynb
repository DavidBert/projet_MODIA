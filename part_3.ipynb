{
 "cells": [
  {
   "cell_type": "code",
   "execution_count": 1,
   "id": "aa33498c",
   "metadata": {},
   "outputs": [],
   "source": [
    "import pandas as pd\n",
    "import matplotlib.pyplot as plt"
   ]
  },
  {
   "cell_type": "code",
   "execution_count": 2,
   "id": "1361a217",
   "metadata": {},
   "outputs": [
    {
     "data": {
      "text/html": [
       "<div>\n",
       "<style scoped>\n",
       "    .dataframe tbody tr th:only-of-type {\n",
       "        vertical-align: middle;\n",
       "    }\n",
       "\n",
       "    .dataframe tbody tr th {\n",
       "        vertical-align: top;\n",
       "    }\n",
       "\n",
       "    .dataframe thead th {\n",
       "        text-align: right;\n",
       "    }\n",
       "</style>\n",
       "<table border=\"1\" class=\"dataframe\">\n",
       "  <thead>\n",
       "    <tr style=\"text-align: right;\">\n",
       "      <th></th>\n",
       "      <th>user_id</th>\n",
       "      <th>recipe_id</th>\n",
       "      <th>date</th>\n",
       "      <th>rating</th>\n",
       "      <th>review</th>\n",
       "    </tr>\n",
       "  </thead>\n",
       "  <tbody>\n",
       "    <tr>\n",
       "      <th>0</th>\n",
       "      <td>38094</td>\n",
       "      <td>40893</td>\n",
       "      <td>2003-02-17</td>\n",
       "      <td>4</td>\n",
       "      <td>Great with a salad. Cooked on top of stove for...</td>\n",
       "    </tr>\n",
       "    <tr>\n",
       "      <th>1</th>\n",
       "      <td>1293707</td>\n",
       "      <td>40893</td>\n",
       "      <td>2011-12-21</td>\n",
       "      <td>5</td>\n",
       "      <td>So simple, so delicious! Great for chilly fall...</td>\n",
       "    </tr>\n",
       "    <tr>\n",
       "      <th>2</th>\n",
       "      <td>8937</td>\n",
       "      <td>44394</td>\n",
       "      <td>2002-12-01</td>\n",
       "      <td>4</td>\n",
       "      <td>This worked very well and is EASY.  I used not...</td>\n",
       "    </tr>\n",
       "    <tr>\n",
       "      <th>3</th>\n",
       "      <td>126440</td>\n",
       "      <td>85009</td>\n",
       "      <td>2010-02-27</td>\n",
       "      <td>5</td>\n",
       "      <td>I made the Mexican topping and took it to bunk...</td>\n",
       "    </tr>\n",
       "    <tr>\n",
       "      <th>4</th>\n",
       "      <td>57222</td>\n",
       "      <td>85009</td>\n",
       "      <td>2011-10-01</td>\n",
       "      <td>5</td>\n",
       "      <td>Made the cheddar bacon topping, adding a sprin...</td>\n",
       "    </tr>\n",
       "  </tbody>\n",
       "</table>\n",
       "</div>"
      ],
      "text/plain": [
       "   user_id  recipe_id        date  rating  \\\n",
       "0    38094      40893  2003-02-17       4   \n",
       "1  1293707      40893  2011-12-21       5   \n",
       "2     8937      44394  2002-12-01       4   \n",
       "3   126440      85009  2010-02-27       5   \n",
       "4    57222      85009  2011-10-01       5   \n",
       "\n",
       "                                              review  \n",
       "0  Great with a salad. Cooked on top of stove for...  \n",
       "1  So simple, so delicious! Great for chilly fall...  \n",
       "2  This worked very well and is EASY.  I used not...  \n",
       "3  I made the Mexican topping and took it to bunk...  \n",
       "4  Made the cheddar bacon topping, adding a sprin...  "
      ]
     },
     "execution_count": 2,
     "metadata": {},
     "output_type": "execute_result"
    }
   ],
   "source": [
    "RAW_interactions = pd.read_csv('data/RAW_interactions.csv')\n",
    "RAW_recipes = pd.read_csv('data/RAW_recipes.csv')\n",
    "RAW_interactions.head(5)"
   ]
  },
  {
   "cell_type": "code",
   "execution_count": 3,
   "id": "769647c8",
   "metadata": {},
   "outputs": [
    {
     "name": "stdout",
     "output_type": "stream",
     "text": [
      "Nombre d'utilisateurs: 226570\n",
      "Nombre de recettes: 231637\n"
     ]
    }
   ],
   "source": [
    "print(f\"Nombre d'utilisateurs: {len(RAW_interactions.user_id.unique())}\")\n",
    "print(f\"Nombre de recettes: {len(RAW_interactions.recipe_id.unique())}\")"
   ]
  },
  {
   "cell_type": "markdown",
   "id": "3d535f23",
   "metadata": {},
   "source": [
    "## NCF"
   ]
  },
  {
   "cell_type": "code",
   "execution_count": 4,
   "id": "8e7bf0e8",
   "metadata": {},
   "outputs": [
    {
     "ename": "AssertionError",
     "evalue": "",
     "output_type": "error",
     "traceback": [
      "\u001b[0;31m---------------------------------------------------------------------------\u001b[0m",
      "\u001b[0;31mAssertionError\u001b[0m                            Traceback (most recent call last)",
      "\u001b[1;32m/home/n7student/Documents/ModIA/S10-N7/atelier_IA/projet/food_recipes_predictions/part_3.ipynb Cell 5'\u001b[0m in \u001b[0;36m<cell line: 13>\u001b[0;34m()\u001b[0m\n\u001b[1;32m     <a href='vscode-notebook-cell:/home/n7student/Documents/ModIA/S10-N7/atelier_IA/projet/food_recipes_predictions/part_3.ipynb#ch0000013?line=9'>10</a>\u001b[0m testset \u001b[39m=\u001b[39m RAW_interactions\u001b[39m.\u001b[39msample(frac\u001b[39m=\u001b[39m\u001b[39m0.1\u001b[39m, replace\u001b[39m=\u001b[39m\u001b[39mFalse\u001b[39;00m)\n\u001b[1;32m     <a href='vscode-notebook-cell:/home/n7student/Documents/ModIA/S10-N7/atelier_IA/projet/food_recipes_predictions/part_3.ipynb#ch0000013?line=10'>11</a>\u001b[0m trainset \u001b[39m=\u001b[39m RAW_interactions[\u001b[39m~\u001b[39mRAW_interactions\u001b[39m.\u001b[39mindex\u001b[39m.\u001b[39misin(testset\u001b[39m.\u001b[39mindex)]\n\u001b[0;32m---> <a href='vscode-notebook-cell:/home/n7student/Documents/ModIA/S10-N7/atelier_IA/projet/food_recipes_predictions/part_3.ipynb#ch0000013?line=12'>13</a>\u001b[0m \u001b[39massert\u001b[39;00m \u001b[39mset\u001b[39m(testset\u001b[39m.\u001b[39muser_id\u001b[39m.\u001b[39munique())\u001b[39m.\u001b[39missubset(trainset\u001b[39m.\u001b[39muser_id\u001b[39m.\u001b[39munique())\n\u001b[1;32m     <a href='vscode-notebook-cell:/home/n7student/Documents/ModIA/S10-N7/atelier_IA/projet/food_recipes_predictions/part_3.ipynb#ch0000013?line=13'>14</a>\u001b[0m \u001b[39massert\u001b[39;00m \u001b[39mset\u001b[39m(testset\u001b[39m.\u001b[39mrecipe_id\u001b[39m.\u001b[39munique())\u001b[39m.\u001b[39missubset(trainset\u001b[39m.\u001b[39mrecipe_id\u001b[39m.\u001b[39munique())\n",
      "\u001b[0;31mAssertionError\u001b[0m: "
     ]
    }
   ],
   "source": [
    "from tqdm import tqdm\n",
    "import torch\n",
    "import torch.nn as nn\n",
    "from statistics import mean\n",
    "from torch.utils.data import Dataset, DataLoader\n",
    "\n",
    "device = torch.device(\"cuda:0\" if torch.cuda.is_available() else \"cpu\")\n",
    "\n",
    "# #Creating a train and a test set\n",
    "testset = RAW_interactions.sample(frac=0.1, replace=False)\n",
    "trainset = RAW_interactions[~RAW_interactions.index.isin(testset.index)]\n",
    "\n",
    "# assert set(testset.user_id.unique()).issubset(trainset.user_id.unique())\n",
    "# assert set(testset.recipe_id.unique()).issubset(trainset.recipe_id.unique())"
   ]
  },
  {
   "cell_type": "code",
   "execution_count": 5,
   "id": "241685af",
   "metadata": {},
   "outputs": [],
   "source": [
    "user_list = list(trainset.user_id.unique()) + list(testset.user_id.unique())\n",
    "item_list = list(trainset.recipe_id.unique()) + list(testset.recipe_id.unique())\n",
    "user2id = {w: i for i, w in enumerate(user_list)} # {user1: 0, user2: 1, ...}\n",
    "item2id = {w: i for i, w in enumerate(item_list)} # {item1: 0, item2: 1, ...}\n",
    "\n",
    "class Ratings_Dataset(Dataset):\n",
    "    def __init__(self, df):\n",
    "        self.df = df.reset_index()\n",
    "\n",
    "    def __len__(self):\n",
    "        return len(self.df)\n",
    "  \n",
    "    def __getitem__(self, idx):\n",
    "        user = user2id[self.df['user_id'][idx]]\n",
    "        user = torch.tensor(user, dtype=torch.long)\n",
    "        item = item2id[self.df['recipe_id'][idx]]\n",
    "        item = torch.tensor(item, dtype=torch.long)\n",
    "        rating = torch.tensor(self.df['rating'][idx], dtype=torch.float)\n",
    "            \n",
    "        return user, item, rating\n",
    "\n",
    "\n",
    "trainloader = DataLoader(Ratings_Dataset(trainset), batch_size=512, shuffle=True ,num_workers=2)\n",
    "testloader = DataLoader(Ratings_Dataset(testset), batch_size=64, num_workers=2)"
   ]
  },
  {
   "cell_type": "markdown",
   "id": "07d8f489",
   "metadata": {},
   "source": [
    "### Entrainement du NCF"
   ]
  },
  {
   "cell_type": "code",
   "execution_count": 6,
   "id": "c5522970",
   "metadata": {},
   "outputs": [],
   "source": [
    "def train(model, optimizer, trainloader, epochs=30):\n",
    "    criterion = nn.MSELoss(reduction='mean')\n",
    "    t = tqdm(range(epochs))\n",
    "    for epoch in t:\n",
    "        corrects = 0\n",
    "        total = 0\n",
    "        train_loss = []\n",
    "        for users, items, r in trainloader:\n",
    "            users = users.to(device)\n",
    "            items = items.to(device)\n",
    "            r = r.to(device) / 5  # normalize ratings to [0, 1]\n",
    "            y_hat = model(users, items)\n",
    "            loss = criterion(y_hat, r.unsqueeze(1).float())\n",
    "            train_loss.append(loss.item())\n",
    "            total += r.size(0)\n",
    "            optimizer.zero_grad()\n",
    "            loss.backward()\n",
    "            optimizer.step()\n",
    "            t.set_description(f\"loss: {mean(train_loss):.4f}\")\n",
    "            \n",
    "            \n",
    "class NCF(nn.Module):\n",
    "\n",
    "    def __init__(self, n_users, n_items, n_factors=12):\n",
    "        super().__init__()\n",
    "        self.n_users = n_users\n",
    "        self.n_items = n_items\n",
    "        self.user_embeddings = torch.nn.Embedding(n_users, n_factors)\n",
    "        self.item_embeddings = torch.nn.Embedding(n_items, n_factors)\n",
    "        self.predictor = torch.nn.Sequential(\n",
    "            nn.Linear(in_features=n_factors*2, out_features=64),\n",
    "            nn.Linear(in_features=64, out_features=32),\n",
    "            nn.Linear(in_features=32, out_features=1),\n",
    "            nn.Sigmoid()\n",
    "        )\n",
    "        \n",
    "        \n",
    "    def forward(self, user, item):\n",
    "        u = self.user_embeddings(user)\n",
    "        i = self.item_embeddings(item)\n",
    "\n",
    "        # Concat the two embedding layers\n",
    "        z = torch.cat([u, i], dim=-1)\n",
    "        return self.predictor(z)"
   ]
  },
  {
   "cell_type": "code",
   "execution_count": 8,
   "id": "f7c67d14",
   "metadata": {},
   "outputs": [
    {
     "name": "stderr",
     "output_type": "stream",
     "text": [
      "loss: 0.0533: 100%|██████████| 5/5 [10:29<00:00, 125.99s/it]\n"
     ]
    }
   ],
   "source": [
    "n_user = len(user_list)\n",
    "n_items = len(item_list)\n",
    "model = NCF(n_user, n_items).to(device)\n",
    "optimizer = torch.optim.Adam(model.parameters(), lr=1e-3)\n",
    "train(model, optimizer, trainloader, epochs=5)"
   ]
  },
  {
   "cell_type": "markdown",
   "id": "c94735e7",
   "metadata": {},
   "source": [
    "### Test du NCF"
   ]
  },
  {
   "cell_type": "code",
   "execution_count": 9,
   "id": "80cbbcfb",
   "metadata": {},
   "outputs": [
    {
     "name": "stdout",
     "output_type": "stream",
     "text": [
      "MAE sur les données de test: 0.763\n"
     ]
    }
   ],
   "source": [
    "import math\n",
    "\n",
    "def test(model, testloader):\n",
    "\n",
    "    running_mae = 0\n",
    "    with torch.no_grad():\n",
    "        corrects = 0\n",
    "        total = 0\n",
    "        for users, items, r in testloader:\n",
    "            users = users.to(device)\n",
    "            items = items.to(device)\n",
    "            y = r.to(device) / 5\n",
    "            y_hat = model(users, items).flatten()\n",
    "            error = torch.abs(y_hat - y).sum().data\n",
    "        \n",
    "            running_mae += error\n",
    "            total += y.size(0)\n",
    "            \n",
    "    \n",
    "    mae = running_mae/total\n",
    "    return mae * 5\n",
    "    \n",
    "\n",
    "print(f\"MAE sur les données de test: {test(model, testloader):.3f}\")"
   ]
  },
  {
   "cell_type": "code",
   "execution_count": 10,
   "id": "09bdfcff",
   "metadata": {},
   "outputs": [
    {
     "data": {
      "image/png": "[encoded data removed]",
      "text/plain": [
       "<Figure size 1080x432 with 1 Axes>"
      ]
     },
     "metadata": {
      "needs_background": "light"
     },
     "output_type": "display_data"
    }
   ],
   "source": [
    "users, recipes, r = next(iter(testloader))\n",
    "users = users.to(device)\n",
    "recipes = recipes.to(device)\n",
    "r = r.to(device)\n",
    "\n",
    "y = model(users, recipes)*5\n",
    "\n",
    "plt.figure(figsize=(15,6))\n",
    "plt.scatter(range(10), r[:10].data)\n",
    "plt.scatter(range(10), y.flatten()[:10].data)\n",
    "plt.legend([\"true\", \"pred\"])\n",
    "plt.grid();"
   ]
  },
  {
   "cell_type": "markdown",
   "id": "5eea5d78",
   "metadata": {},
   "source": [
    "## Sauvegarde des variables"
   ]
  },
  {
   "cell_type": "markdown",
   "id": "d7811a0a",
   "metadata": {},
   "source": [
    "### Sauvegarde des poids du modèle"
   ]
  },
  {
   "cell_type": "code",
   "execution_count": 11,
   "id": "c58637fc",
   "metadata": {},
   "outputs": [],
   "source": [
    "torch.save(model.state_dict(), 'weights.pth')"
   ]
  },
  {
   "cell_type": "markdown",
   "id": "5a3e89d6",
   "metadata": {},
   "source": [
    "### Sauvegarde des mappings `user2id` et `item2id`"
   ]
  },
  {
   "cell_type": "code",
   "execution_count": 12,
   "id": "c8e0d92f",
   "metadata": {},
   "outputs": [],
   "source": [
    "import pickle\n",
    "pickle.dump([user2id, item2id], open('mapping.pkl', 'wb'))"
   ]
  },
  {
   "cell_type": "code",
   "execution_count": null,
   "id": "0794aa45",
   "metadata": {},
   "outputs": [],
   "source": [
    "# Ecriture du fichier de test\n",
    "# testset.drop(columns=[\"rating\"]).sample(10).to_csv(\"test_script.csv\", index=False)"
   ]
  }
 ],
 "metadata": {
  "kernelspec": {
   "display_name": "Python 3.9.7 ('pytorch')",
   "language": "python",
   "name": "python3"
  },
  "language_info": {
   "codemirror_mode": {
    "name": "ipython",
    "version": 3
   },
   "file_extension": ".py",
   "mimetype": "text/x-python",
   "name": "python",
   "nbconvert_exporter": "python",
   "pygments_lexer": "ipython3",
   "version": "3.9.7"
  },
  "vscode": {
   "interpreter": {
    "hash": "2e949c7522de111a73ed399a52639aa0f7d8b16a790e389783e5f539b68ee5a3"
   }
  }
 },
 "nbformat": 4,
 "nbformat_minor": 5
}
