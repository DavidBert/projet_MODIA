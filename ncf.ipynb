{
  "nbformat": 4,
  "nbformat_minor": 0,
  "metadata": {
    "colab": {
      "name": "Untitled1.ipynb",
      "provenance": [],
      "authorship_tag": "ABX9TyOnisWXSYnNSRSBNPJ0cvTW",
      "include_colab_link": true
    },
    "kernelspec": {
      "name": "python3",
      "display_name": "Python 3"
    },
    "language_info": {
      "name": "python"
    },
    "accelerator": "GPU",
    "gpuClass": "standard",
    "widgets": {
      "application/vnd.jupyter.widget-state+json": {
        "f079bdb0aa724979b7725b2b59863edd": {
          "model_module": "@jupyter-widgets/controls",
          "model_name": "HBoxModel",
          "model_module_version": "1.5.0",
          "state": {
            "_dom_classes": [],
            "_model_module": "@jupyter-widgets/controls",
            "_model_module_version": "1.5.0",
            "_model_name": "HBoxModel",
            "_view_count": null,
            "_view_module": "@jupyter-widgets/controls",
            "_view_module_version": "1.5.0",
            "_view_name": "HBoxView",
            "box_style": "",
            "children": [
              "IPY_MODEL_d77439d5acaf42b29e51ef810c253cf5",
              "IPY_MODEL_49766622ae78449297661e5f02386957",
              "IPY_MODEL_ee116b4ee37c4c02848b4124885b10c1"
            ],
            "layout": "IPY_MODEL_50e2e633183d4dad8564103dfc99c5a4"
          }
        },
        "d77439d5acaf42b29e51ef810c253cf5": {
          "model_module": "@jupyter-widgets/controls",
          "model_name": "HTMLModel",
          "model_module_version": "1.5.0",
          "state": {
            "_dom_classes": [],
            "_model_module": "@jupyter-widgets/controls",
            "_model_module_version": "1.5.0",
            "_model_name": "HTMLModel",
            "_view_count": null,
            "_view_module": "@jupyter-widgets/controls",
            "_view_module_version": "1.5.0",
            "_view_name": "HTMLView",
            "description": "",
            "description_tooltip": null,
            "layout": "IPY_MODEL_cc1068ee725b4e6e932a2208c1c26f04",
            "placeholder": "​",
            "style": "IPY_MODEL_6b613db14d8045ebacca6939c94e10d9",
            "value": "loss: 0.06333153140850556: 100%"
          }
        },
        "49766622ae78449297661e5f02386957": {
          "model_module": "@jupyter-widgets/controls",
          "model_name": "FloatProgressModel",
          "model_module_version": "1.5.0",
          "state": {
            "_dom_classes": [],
            "_model_module": "@jupyter-widgets/controls",
            "_model_module_version": "1.5.0",
            "_model_name": "FloatProgressModel",
            "_view_count": null,
            "_view_module": "@jupyter-widgets/controls",
            "_view_module_version": "1.5.0",
            "_view_name": "ProgressView",
            "bar_style": "success",
            "description": "",
            "description_tooltip": null,
            "layout": "IPY_MODEL_bee485cc763048b899e5f935db967c5a",
            "max": 5,
            "min": 0,
            "orientation": "horizontal",
            "style": "IPY_MODEL_a774dbc9fdb54cdf8a36981bd991dd9d",
            "value": 5
          }
        },
        "ee116b4ee37c4c02848b4124885b10c1": {
          "model_module": "@jupyter-widgets/controls",
          "model_name": "HTMLModel",
          "model_module_version": "1.5.0",
          "state": {
            "_dom_classes": [],
            "_model_module": "@jupyter-widgets/controls",
            "_model_module_version": "1.5.0",
            "_model_name": "HTMLModel",
            "_view_count": null,
            "_view_module": "@jupyter-widgets/controls",
            "_view_module_version": "1.5.0",
            "_view_name": "HTMLView",
            "description": "",
            "description_tooltip": null,
            "layout": "IPY_MODEL_886bfb436f444132b8226177ce2cef6a",
            "placeholder": "​",
            "style": "IPY_MODEL_47085d51f7ef4907925232ee901e9f19",
            "value": " 5/5 [00:12&lt;00:00,  2.74s/it]"
          }
        },
        "50e2e633183d4dad8564103dfc99c5a4": {
          "model_module": "@jupyter-widgets/base",
          "model_name": "LayoutModel",
          "model_module_version": "1.2.0",
          "state": {
            "_model_module": "@jupyter-widgets/base",
            "_model_module_version": "1.2.0",
            "_model_name": "LayoutModel",
            "_view_count": null,
            "_view_module": "@jupyter-widgets/base",
            "_view_module_version": "1.2.0",
            "_view_name": "LayoutView",
            "align_content": null,
            "align_items": null,
            "align_self": null,
            "border": null,
            "bottom": null,
            "display": null,
            "flex": null,
            "flex_flow": null,
            "grid_area": null,
            "grid_auto_columns": null,
            "grid_auto_flow": null,
            "grid_auto_rows": null,
            "grid_column": null,
            "grid_gap": null,
            "grid_row": null,
            "grid_template_areas": null,
            "grid_template_columns": null,
            "grid_template_rows": null,
            "height": null,
            "justify_content": null,
            "justify_items": null,
            "left": null,
            "margin": null,
            "max_height": null,
            "max_width": null,
            "min_height": null,
            "min_width": null,
            "object_fit": null,
            "object_position": null,
            "order": null,
            "overflow": null,
            "overflow_x": null,
            "overflow_y": null,
            "padding": null,
            "right": null,
            "top": null,
            "visibility": null,
            "width": null
          }
        },
        "cc1068ee725b4e6e932a2208c1c26f04": {
          "model_module": "@jupyter-widgets/base",
          "model_name": "LayoutModel",
          "model_module_version": "1.2.0",
          "state": {
            "_model_module": "@jupyter-widgets/base",
            "_model_module_version": "1.2.0",
            "_model_name": "LayoutModel",
            "_view_count": null,
            "_view_module": "@jupyter-widgets/base",
            "_view_module_version": "1.2.0",
            "_view_name": "LayoutView",
            "align_content": null,
            "align_items": null,
            "align_self": null,
            "border": null,
            "bottom": null,
            "display": null,
            "flex": null,
            "flex_flow": null,
            "grid_area": null,
            "grid_auto_columns": null,
            "grid_auto_flow": null,
            "grid_auto_rows": null,
            "grid_column": null,
            "grid_gap": null,
            "grid_row": null,
            "grid_template_areas": null,
            "grid_template_columns": null,
            "grid_template_rows": null,
            "height": null,
            "justify_content": null,
            "justify_items": null,
            "left": null,
            "margin": null,
            "max_height": null,
            "max_width": null,
            "min_height": null,
            "min_width": null,
            "object_fit": null,
            "object_position": null,
            "order": null,
            "overflow": null,
            "overflow_x": null,
            "overflow_y": null,
            "padding": null,
            "right": null,
            "top": null,
            "visibility": null,
            "width": null
          }
        },
        "6b613db14d8045ebacca6939c94e10d9": {
          "model_module": "@jupyter-widgets/controls",
          "model_name": "DescriptionStyleModel",
          "model_module_version": "1.5.0",
          "state": {
            "_model_module": "@jupyter-widgets/controls",
            "_model_module_version": "1.5.0",
            "_model_name": "DescriptionStyleModel",
            "_view_count": null,
            "_view_module": "@jupyter-widgets/base",
            "_view_module_version": "1.2.0",
            "_view_name": "StyleView",
            "description_width": ""
          }
        },
        "bee485cc763048b899e5f935db967c5a": {
          "model_module": "@jupyter-widgets/base",
          "model_name": "LayoutModel",
          "model_module_version": "1.2.0",
          "state": {
            "_model_module": "@jupyter-widgets/base",
            "_model_module_version": "1.2.0",
            "_model_name": "LayoutModel",
            "_view_count": null,
            "_view_module": "@jupyter-widgets/base",
            "_view_module_version": "1.2.0",
            "_view_name": "LayoutView",
            "align_content": null,
            "align_items": null,
            "align_self": null,
            "border": null,
            "bottom": null,
            "display": null,
            "flex": null,
            "flex_flow": null,
            "grid_area": null,
            "grid_auto_columns": null,
            "grid_auto_flow": null,
            "grid_auto_rows": null,
            "grid_column": null,
            "grid_gap": null,
            "grid_row": null,
            "grid_template_areas": null,
            "grid_template_columns": null,
            "grid_template_rows": null,
            "height": null,
            "justify_content": null,
            "justify_items": null,
            "left": null,
            "margin": null,
            "max_height": null,
            "max_width": null,
            "min_height": null,
            "min_width": null,
            "object_fit": null,
            "object_position": null,
            "order": null,
            "overflow": null,
            "overflow_x": null,
            "overflow_y": null,
            "padding": null,
            "right": null,
            "top": null,
            "visibility": null,
            "width": null
          }
        },
        "a774dbc9fdb54cdf8a36981bd991dd9d": {
          "model_module": "@jupyter-widgets/controls",
          "model_name": "ProgressStyleModel",
          "model_module_version": "1.5.0",
          "state": {
            "_model_module": "@jupyter-widgets/controls",
            "_model_module_version": "1.5.0",
            "_model_name": "ProgressStyleModel",
            "_view_count": null,
            "_view_module": "@jupyter-widgets/base",
            "_view_module_version": "1.2.0",
            "_view_name": "StyleView",
            "bar_color": null,
            "description_width": ""
          }
        },
        "886bfb436f444132b8226177ce2cef6a": {
          "model_module": "@jupyter-widgets/base",
          "model_name": "LayoutModel",
          "model_module_version": "1.2.0",
          "state": {
            "_model_module": "@jupyter-widgets/base",
            "_model_module_version": "1.2.0",
            "_model_name": "LayoutModel",
            "_view_count": null,
            "_view_module": "@jupyter-widgets/base",
            "_view_module_version": "1.2.0",
            "_view_name": "LayoutView",
            "align_content": null,
            "align_items": null,
            "align_self": null,
            "border": null,
            "bottom": null,
            "display": null,
            "flex": null,
            "flex_flow": null,
            "grid_area": null,
            "grid_auto_columns": null,
            "grid_auto_flow": null,
            "grid_auto_rows": null,
            "grid_column": null,
            "grid_gap": null,
            "grid_row": null,
            "grid_template_areas": null,
            "grid_template_columns": null,
            "grid_template_rows": null,
            "height": null,
            "justify_content": null,
            "justify_items": null,
            "left": null,
            "margin": null,
            "max_height": null,
            "max_width": null,
            "min_height": null,
            "min_width": null,
            "object_fit": null,
            "object_position": null,
            "order": null,
            "overflow": null,
            "overflow_x": null,
            "overflow_y": null,
            "padding": null,
            "right": null,
            "top": null,
            "visibility": null,
            "width": null
          }
        },
        "47085d51f7ef4907925232ee901e9f19": {
          "model_module": "@jupyter-widgets/controls",
          "model_name": "DescriptionStyleModel",
          "model_module_version": "1.5.0",
          "state": {
            "_model_module": "@jupyter-widgets/controls",
            "_model_module_version": "1.5.0",
            "_model_name": "DescriptionStyleModel",
            "_view_count": null,
            "_view_module": "@jupyter-widgets/base",
            "_view_module_version": "1.2.0",
            "_view_name": "StyleView",
            "description_width": ""
          }
        }
      }
    }
  },
  "cells": [
    {
      "cell_type": "markdown",
      "metadata": {
        "id": "view-in-github",
        "colab_type": "text"
      },
      "source": [
        "<a href=\"https://colab.research.google.com/github/Enzo-Damico/projet_MODIA/blob/master/ncf.ipynb\" target=\"_parent\"><img src=\"https://colab.research.google.com/assets/colab-badge.svg\" alt=\"Open In Colab\"/></a>"
      ]
    },
    {
      "cell_type": "code",
      "execution_count": 2,
      "metadata": {
        "colab": {
          "base_uri": "https://localhost:8080/"
        },
        "id": "AH8x7VvctRs1",
        "outputId": "d8102886-8975-4774-f434-a67f95d63b9b"
      },
      "outputs": [
        {
          "output_type": "stream",
          "name": "stdout",
          "text": [
            "Mounted at /content/drive\n"
          ]
        }
      ],
      "source": [
        "from google.colab import drive\n",
        "drive.mount('/content/drive')\n",
        "path = \"drive/MyDrive/Projet/\""
      ]
    },
    {
      "cell_type": "code",
      "source": [
        "import pandas as pd\n",
        "import zipfile\n",
        "\n",
        "#df_interactions_test = pd.read_csv(path + \"interactions_test.csv\")\n",
        "#df_interactions_train = pd.read_csv(path + \"interactions_train.csv.zip\")\n",
        "df_RAW_interactions = pd.read_csv(path + \"RAW_interactions.csv.zip\")\n",
        "#df_RAW_recipes = pd.read_csv(path + \"RAW_recipes.csv.zip\")\n",
        "print(df_RAW_interactions.shape)\n",
        "#print(df_RAW_recipes.shape)"
      ],
      "metadata": {
        "colab": {
          "base_uri": "https://localhost:8080/"
        },
        "id": "4Svn0wgHuk3A",
        "outputId": "cf6fc863-8491-4b33-b05e-97f1b3a356f4"
      },
      "execution_count": 32,
      "outputs": [
        {
          "output_type": "stream",
          "name": "stdout",
          "text": [
            "(1132367, 5)\n"
          ]
        }
      ]
    },
    {
      "cell_type": "code",
      "source": [
        "import ast\n",
        "\n",
        "recipes_nvote = df_RAW_interactions[\"recipe_id\"].value_counts()\n",
        "rating = df_RAW_interactions[[\"recipe_id\", \"rating\"]].groupby([\"recipe_id\"]).mean()\n",
        "df_RAW_recipes[\"vote_count\"] = df_RAW_recipes[\"id\"].apply(lambda x: recipes_nvote.loc[x])\n",
        "df_RAW_recipes[\"vote_mean\"] = df_RAW_recipes[\"id\"].apply(lambda x: rating.loc[x])\n",
        "df_RAW_recipes[\"ingredients\"] = df_RAW_recipes[\"ingredients\"].apply(lambda s: ast.literal_eval(s)) \n",
        "df_RAW_recipes[\"steps\"] = df_RAW_recipes[\"steps\"].apply(lambda s: s.strip('[]'))"
      ],
      "metadata": {
        "id": "p14ZIq1wvNlC"
      },
      "execution_count": 3,
      "outputs": []
    },
    {
      "cell_type": "code",
      "source": [
        "m = 100\n",
        "c = df_RAW_recipes.vote_mean.mean()\n",
        "\n",
        "def weighted_score(x):\n",
        "    v = x['vote_count']\n",
        "    r = x['vote_mean']\n",
        "    return (v/(v+m) * r) + (m/(m+v) * c)\n",
        "\n",
        "df_RAW_recipes[\"vote_w\"] = df_RAW_recipes[[\"vote_count\", \"vote_mean\"]].apply(lambda x: weighted_score(x), axis=1)"
      ],
      "metadata": {
        "id": "BP9bJL3uvOU7"
      },
      "execution_count": 4,
      "outputs": []
    },
    {
      "cell_type": "code",
      "source": [
        "subset = df_RAW_recipes[df_RAW_recipes['vote_count'] > 10].reset_index()"
      ],
      "metadata": {
        "id": "HlVQbUoHvKFT"
      },
      "execution_count": 5,
      "outputs": []
    },
    {
      "cell_type": "code",
      "source": [
        "df_RAW_interactions"
      ],
      "metadata": {
        "colab": {
          "base_uri": "https://localhost:8080/",
          "height": 424
        },
        "id": "XYT2xWHAOJTr",
        "outputId": "de870e4f-fe7b-4541-e96b-dc8b04003c0c"
      },
      "execution_count": 41,
      "outputs": [
        {
          "output_type": "execute_result",
          "data": {
            "text/plain": [
              "          user_id  recipe_id        date  rating  \\\n",
              "0         2445606      63828  2012-10-11       5   \n",
              "1           28846      26110  2002-10-14       5   \n",
              "2           20371      26110  2002-10-20       5   \n",
              "3           28649      26110  2002-10-27       5   \n",
              "4           49937      26110  2002-12-08       5   \n",
              "...           ...        ...         ...     ...   \n",
              "44116  2002077248     131018  2018-04-14       5   \n",
              "44117  2000023731     131018  2018-06-08       5   \n",
              "44118  2002200471     131018  2018-06-27       0   \n",
              "44119  2002276261     131018  2018-09-16       5   \n",
              "44120  2002287483     131018  2018-09-29       5   \n",
              "\n",
              "                                                  review  count  \n",
              "0      Fabulous!!!!  Yummy.. The best ever... OMG... wow      1  \n",
              "1      Luscious, melt in your mouth, buttery biscuits...      4  \n",
              "2      These biscuits were exceptional: tender and mo...     11  \n",
              "3      This were a bit hit with my family.  I used a ...     12  \n",
              "4      These turned out fabulous! I used the food pro...      3  \n",
              "...                                                  ...    ...  \n",
              "44116  This was AMAZING. I had 2 3lb partially frozen...      1  \n",
              "44117  I am a 'pulled pork' freak. I'm always looking...      1  \n",
              "44118                     No need to season pork at all?      1  \n",
              "44119  Excellent! Made the famous Dave's BBQ sauce al...      1  \n",
              "44120  Made this exactly to recipe except I make my o...      1  \n",
              "\n",
              "[44121 rows x 6 columns]"
            ],
            "text/html": [
              "\n",
              "  <div id=\"df-a6ac67ea-534c-448d-a77f-63d7b61d97af\">\n",
              "    <div class=\"colab-df-container\">\n",
              "      <div>\n",
              "<style scoped>\n",
              "    .dataframe tbody tr th:only-of-type {\n",
              "        vertical-align: middle;\n",
              "    }\n",
              "\n",
              "    .dataframe tbody tr th {\n",
              "        vertical-align: top;\n",
              "    }\n",
              "\n",
              "    .dataframe thead th {\n",
              "        text-align: right;\n",
              "    }\n",
              "</style>\n",
              "<table border=\"1\" class=\"dataframe\">\n",
              "  <thead>\n",
              "    <tr style=\"text-align: right;\">\n",
              "      <th></th>\n",
              "      <th>user_id</th>\n",
              "      <th>recipe_id</th>\n",
              "      <th>date</th>\n",
              "      <th>rating</th>\n",
              "      <th>review</th>\n",
              "      <th>count</th>\n",
              "    </tr>\n",
              "  </thead>\n",
              "  <tbody>\n",
              "    <tr>\n",
              "      <th>0</th>\n",
              "      <td>2445606</td>\n",
              "      <td>63828</td>\n",
              "      <td>2012-10-11</td>\n",
              "      <td>5</td>\n",
              "      <td>Fabulous!!!!  Yummy.. The best ever... OMG... wow</td>\n",
              "      <td>1</td>\n",
              "    </tr>\n",
              "    <tr>\n",
              "      <th>1</th>\n",
              "      <td>28846</td>\n",
              "      <td>26110</td>\n",
              "      <td>2002-10-14</td>\n",
              "      <td>5</td>\n",
              "      <td>Luscious, melt in your mouth, buttery biscuits...</td>\n",
              "      <td>4</td>\n",
              "    </tr>\n",
              "    <tr>\n",
              "      <th>2</th>\n",
              "      <td>20371</td>\n",
              "      <td>26110</td>\n",
              "      <td>2002-10-20</td>\n",
              "      <td>5</td>\n",
              "      <td>These biscuits were exceptional: tender and mo...</td>\n",
              "      <td>11</td>\n",
              "    </tr>\n",
              "    <tr>\n",
              "      <th>3</th>\n",
              "      <td>28649</td>\n",
              "      <td>26110</td>\n",
              "      <td>2002-10-27</td>\n",
              "      <td>5</td>\n",
              "      <td>This were a bit hit with my family.  I used a ...</td>\n",
              "      <td>12</td>\n",
              "    </tr>\n",
              "    <tr>\n",
              "      <th>4</th>\n",
              "      <td>49937</td>\n",
              "      <td>26110</td>\n",
              "      <td>2002-12-08</td>\n",
              "      <td>5</td>\n",
              "      <td>These turned out fabulous! I used the food pro...</td>\n",
              "      <td>3</td>\n",
              "    </tr>\n",
              "    <tr>\n",
              "      <th>...</th>\n",
              "      <td>...</td>\n",
              "      <td>...</td>\n",
              "      <td>...</td>\n",
              "      <td>...</td>\n",
              "      <td>...</td>\n",
              "      <td>...</td>\n",
              "    </tr>\n",
              "    <tr>\n",
              "      <th>44116</th>\n",
              "      <td>2002077248</td>\n",
              "      <td>131018</td>\n",
              "      <td>2018-04-14</td>\n",
              "      <td>5</td>\n",
              "      <td>This was AMAZING. I had 2 3lb partially frozen...</td>\n",
              "      <td>1</td>\n",
              "    </tr>\n",
              "    <tr>\n",
              "      <th>44117</th>\n",
              "      <td>2000023731</td>\n",
              "      <td>131018</td>\n",
              "      <td>2018-06-08</td>\n",
              "      <td>5</td>\n",
              "      <td>I am a 'pulled pork' freak. I'm always looking...</td>\n",
              "      <td>1</td>\n",
              "    </tr>\n",
              "    <tr>\n",
              "      <th>44118</th>\n",
              "      <td>2002200471</td>\n",
              "      <td>131018</td>\n",
              "      <td>2018-06-27</td>\n",
              "      <td>0</td>\n",
              "      <td>No need to season pork at all?</td>\n",
              "      <td>1</td>\n",
              "    </tr>\n",
              "    <tr>\n",
              "      <th>44119</th>\n",
              "      <td>2002276261</td>\n",
              "      <td>131018</td>\n",
              "      <td>2018-09-16</td>\n",
              "      <td>5</td>\n",
              "      <td>Excellent! Made the famous Dave's BBQ sauce al...</td>\n",
              "      <td>1</td>\n",
              "    </tr>\n",
              "    <tr>\n",
              "      <th>44120</th>\n",
              "      <td>2002287483</td>\n",
              "      <td>131018</td>\n",
              "      <td>2018-09-29</td>\n",
              "      <td>5</td>\n",
              "      <td>Made this exactly to recipe except I make my o...</td>\n",
              "      <td>1</td>\n",
              "    </tr>\n",
              "  </tbody>\n",
              "</table>\n",
              "<p>44121 rows × 6 columns</p>\n",
              "</div>\n",
              "      <button class=\"colab-df-convert\" onclick=\"convertToInteractive('df-a6ac67ea-534c-448d-a77f-63d7b61d97af')\"\n",
              "              title=\"Convert this dataframe to an interactive table.\"\n",
              "              style=\"display:none;\">\n",
              "        \n",
              "  <svg xmlns=\"http://www.w3.org/2000/svg\" height=\"24px\"viewBox=\"0 0 24 24\"\n",
              "       width=\"24px\">\n",
              "    <path d=\"M0 0h24v24H0V0z\" fill=\"none\"/>\n",
              "    <path d=\"M18.56 5.44l.94 2.06.94-2.06 2.06-.94-2.06-.94-.94-2.06-.94 2.06-2.06.94zm-11 1L8.5 8.5l.94-2.06 2.06-.94-2.06-.94L8.5 2.5l-.94 2.06-2.06.94zm10 10l.94 2.06.94-2.06 2.06-.94-2.06-.94-.94-2.06-.94 2.06-2.06.94z\"/><path d=\"M17.41 7.96l-1.37-1.37c-.4-.4-.92-.59-1.43-.59-.52 0-1.04.2-1.43.59L10.3 9.45l-7.72 7.72c-.78.78-.78 2.05 0 2.83L4 21.41c.39.39.9.59 1.41.59.51 0 1.02-.2 1.41-.59l7.78-7.78 2.81-2.81c.8-.78.8-2.07 0-2.86zM5.41 20L4 18.59l7.72-7.72 1.47 1.35L5.41 20z\"/>\n",
              "  </svg>\n",
              "      </button>\n",
              "      \n",
              "  <style>\n",
              "    .colab-df-container {\n",
              "      display:flex;\n",
              "      flex-wrap:wrap;\n",
              "      gap: 12px;\n",
              "    }\n",
              "\n",
              "    .colab-df-convert {\n",
              "      background-color: #E8F0FE;\n",
              "      border: none;\n",
              "      border-radius: 50%;\n",
              "      cursor: pointer;\n",
              "      display: none;\n",
              "      fill: #1967D2;\n",
              "      height: 32px;\n",
              "      padding: 0 0 0 0;\n",
              "      width: 32px;\n",
              "    }\n",
              "\n",
              "    .colab-df-convert:hover {\n",
              "      background-color: #E2EBFA;\n",
              "      box-shadow: 0px 1px 2px rgba(60, 64, 67, 0.3), 0px 1px 3px 1px rgba(60, 64, 67, 0.15);\n",
              "      fill: #174EA6;\n",
              "    }\n",
              "\n",
              "    [theme=dark] .colab-df-convert {\n",
              "      background-color: #3B4455;\n",
              "      fill: #D2E3FC;\n",
              "    }\n",
              "\n",
              "    [theme=dark] .colab-df-convert:hover {\n",
              "      background-color: #434B5C;\n",
              "      box-shadow: 0px 1px 3px 1px rgba(0, 0, 0, 0.15);\n",
              "      filter: drop-shadow(0px 1px 2px rgba(0, 0, 0, 0.3));\n",
              "      fill: #FFFFFF;\n",
              "    }\n",
              "  </style>\n",
              "\n",
              "      <script>\n",
              "        const buttonEl =\n",
              "          document.querySelector('#df-a6ac67ea-534c-448d-a77f-63d7b61d97af button.colab-df-convert');\n",
              "        buttonEl.style.display =\n",
              "          google.colab.kernel.accessAllowed ? 'block' : 'none';\n",
              "\n",
              "        async function convertToInteractive(key) {\n",
              "          const element = document.querySelector('#df-a6ac67ea-534c-448d-a77f-63d7b61d97af');\n",
              "          const dataTable =\n",
              "            await google.colab.kernel.invokeFunction('convertToInteractive',\n",
              "                                                     [key], {});\n",
              "          if (!dataTable) return;\n",
              "\n",
              "          const docLinkHtml = 'Like what you see? Visit the ' +\n",
              "            '<a target=\"_blank\" href=https://colab.research.google.com/notebooks/data_table.ipynb>data table notebook</a>'\n",
              "            + ' to learn more about interactive tables.';\n",
              "          element.innerHTML = '';\n",
              "          dataTable['output_type'] = 'display_data';\n",
              "          await google.colab.output.renderOutput(dataTable, element);\n",
              "          const docLink = document.createElement('div');\n",
              "          docLink.innerHTML = docLinkHtml;\n",
              "          element.appendChild(docLink);\n",
              "        }\n",
              "      </script>\n",
              "    </div>\n",
              "  </div>\n",
              "  "
            ]
          },
          "metadata": {},
          "execution_count": 41
        }
      ]
    },
    {
      "cell_type": "code",
      "source": [
        "# On garde les 100 recettes qui ont le plus de vote\n",
        "df_RAW_interactions[\"count\"] = df_RAW_interactions.groupby(\"recipe_id\").transform('count')['user_id']\n",
        "recipeId = df_RAW_interactions.drop_duplicates('recipe_id').sort_values(\n",
        "    'count', ascending=False).iloc[:100]['recipe_id']\n",
        "df_RAW_interactions = df_RAW_interactions[df_RAW_interactions['recipe_id'].isin(recipeId)].reset_index(drop=True)\n",
        "\n",
        "# On garde les 100 utilisateurs qui ont le plus voté\n",
        "df_RAW_interactions[\"count\"] = df_RAW_interactions.groupby(\"user_id\").transform('count')['recipe_id']\n",
        "userId = df_RAW_interactions.drop_duplicates('user_id').sort_values(\n",
        "    'count', ascending=False).iloc[:20001]['user_id']\n",
        "df_RAW_interactions = df_RAW_interactions[df_RAW_interactions['user_id'].isin(userId)].reset_index(drop=True)"
      ],
      "metadata": {
        "id": "6dD1TUyv5c3V"
      },
      "execution_count": 33,
      "outputs": []
    },
    {
      "cell_type": "code",
      "source": [
        "testset = df_RAW_interactions.sample(frac=0.1, replace=False)\n",
        "trainset = df_RAW_interactions[~df_RAW_interactions.index.isin(testset.index)]"
      ],
      "metadata": {
        "id": "dUMUrTdP4-b6"
      },
      "execution_count": 34,
      "outputs": []
    },
    {
      "cell_type": "code",
      "source": [
        "import torch\n",
        "from torch.utils.data import Dataset, DataLoader\n",
        "\n",
        "user_list = trainset.user_id.unique()\n",
        "item_list = trainset.recipe_id.unique()\n",
        "user2id = {w: i for i, w in enumerate(user_list)}\n",
        "item2id = {w: i for i, w in enumerate(item_list)}\n",
        "\n",
        "class Ratings_Datset(Dataset):\n",
        "    def __init__(self, df):\n",
        "        self.df = df.reset_index()\n",
        "\n",
        "    def __len__(self):\n",
        "        return len(self.df)\n",
        "  \n",
        "    def __getitem__(self, idx):\n",
        "        user = user2id[self.df['user_id'][idx]]\n",
        "        user = torch.tensor(user, dtype=torch.long)\n",
        "        item = item2id[self.df['recipe_id'][idx]]\n",
        "        item = torch.tensor(item, dtype=torch.long)\n",
        "        rating = torch.tensor(self.df['rating'][idx], dtype=torch.float)\n",
        "        return user, item, rating\n",
        "\n",
        "\n",
        "trainloader = DataLoader(Ratings_Datset(trainset), batch_size=512, shuffle=True ,num_workers=2)\n",
        "testloader = DataLoader(Ratings_Datset(testset), batch_size=64, num_workers=2)"
      ],
      "metadata": {
        "id": "8xKx8e8P4wQ6"
      },
      "execution_count": 49,
      "outputs": []
    },
    {
      "cell_type": "code",
      "source": [
        "from tqdm.notebook import tqdm\n",
        "import torch\n",
        "import torch.nn as nn\n",
        "\n",
        "class NCF(nn.Module):\n",
        "        \n",
        "    def __init__(self, n_users, n_items, n_factors=8):\n",
        "        super().__init__()\n",
        "        self.user_embeddings = torch.nn.Embedding(n_users, n_factors)\n",
        "        self.item_embeddings = torch.nn.Embedding(n_items, n_factors)\n",
        "        self.predictor = torch.nn.Sequential(\n",
        "            nn.Linear(in_features=n_factors*2, out_features=64),\n",
        "            nn.Linear(in_features=64, out_features=32),\n",
        "            nn.Linear(in_features=32, out_features=1),\n",
        "            nn.Sigmoid()\n",
        "        )\n",
        "        \n",
        "        \n",
        "    def forward(self, user, item):\n",
        "        \n",
        "\n",
        "        u = self.user_embeddings(user)\n",
        "        i = self.item_embeddings(item)\n",
        "\n",
        "        # Concat the two embedding layers\n",
        "        z = torch.cat([u, i], dim=-1)\n",
        "        return self.predictor(z)"
      ],
      "metadata": {
        "id": "bNn4rArZvYK4"
      },
      "execution_count": 36,
      "outputs": []
    },
    {
      "cell_type": "code",
      "source": [
        "from tqdm.notebook import tqdm\n",
        "import torch\n",
        "import torch.nn as nn\n",
        "from statistics import mean\n",
        "\n",
        "\n",
        "def train(model, optimizer, trainloader, epochs=30):\n",
        "    criterion = nn.MSELoss(reduction='mean')\n",
        "    t = tqdm(range(epochs))\n",
        "    for epoch in t:\n",
        "        corrects = 0\n",
        "        total = 0\n",
        "        train_loss = []\n",
        "        for users, items, r in trainloader:\n",
        "            users = users.cuda()\n",
        "            items = items.cuda()\n",
        "            r = r.cuda() / 5\n",
        "            y_hat = model(users, items)\n",
        "            loss = criterion(y_hat, r.unsqueeze(1).float())\n",
        "            train_loss.append(loss.item())\n",
        "            total += r.size(0)\n",
        "            optimizer.zero_grad()\n",
        "            loss.backward()\n",
        "            optimizer.step()\n",
        "            t.set_description(f\"loss: {mean(train_loss)}\")"
      ],
      "metadata": {
        "id": "Or4Xx_bhJuhI"
      },
      "execution_count": 37,
      "outputs": []
    },
    {
      "cell_type": "code",
      "source": [
        "n_user = trainset.user_id.nunique()\n",
        "n_items = trainset.recipe_id.nunique()\n",
        "model = NCF(n_user, n_items).cuda()\n",
        "optimizer = torch.optim.Adam(model.parameters(), lr=1e-3)\n",
        "train(model, optimizer, trainloader, epochs=5)"
      ],
      "metadata": {
        "colab": {
          "base_uri": "https://localhost:8080/",
          "height": 49,
          "referenced_widgets": [
            "f079bdb0aa724979b7725b2b59863edd",
            "d77439d5acaf42b29e51ef810c253cf5",
            "49766622ae78449297661e5f02386957",
            "ee116b4ee37c4c02848b4124885b10c1",
            "50e2e633183d4dad8564103dfc99c5a4",
            "cc1068ee725b4e6e932a2208c1c26f04",
            "6b613db14d8045ebacca6939c94e10d9",
            "bee485cc763048b899e5f935db967c5a",
            "a774dbc9fdb54cdf8a36981bd991dd9d",
            "886bfb436f444132b8226177ce2cef6a",
            "47085d51f7ef4907925232ee901e9f19"
          ]
        },
        "id": "GRZ3r5uL4lLK",
        "outputId": "33ba291f-4d34-447a-9e84-c32d3839c9bf"
      },
      "execution_count": 38,
      "outputs": [
        {
          "output_type": "display_data",
          "data": {
            "text/plain": [
              "  0%|          | 0/5 [00:00<?, ?it/s]"
            ],
            "application/vnd.jupyter.widget-view+json": {
              "version_major": 2,
              "version_minor": 0,
              "model_id": "f079bdb0aa724979b7725b2b59863edd"
            }
          },
          "metadata": {}
        }
      ]
    },
    {
      "cell_type": "code",
      "source": [
        "import math\n",
        "\n",
        "def test(model, testloader, m_eval=False):\n",
        "\n",
        "    running_mae = 0\n",
        "    with torch.no_grad():\n",
        "        corrects = 0\n",
        "        total = 0\n",
        "        for users, items, r in testloader:\n",
        "            users = users.cuda()\n",
        "            items = items.cuda()\n",
        "            y = r.cuda() / 5\n",
        "            y_hat = model(users, items).flatten()\n",
        "            error = torch.abs(y_hat - y).sum().data\n",
        "            \n",
        "            running_mae += error\n",
        "            total += y.size(0)\n",
        "    \n",
        "    mae = running_mae/total\n",
        "    return mae * 5"
      ],
      "metadata": {
        "id": "Mn0f2jWTLSsS"
      },
      "execution_count": 16,
      "outputs": []
    },
    {
      "cell_type": "code",
      "source": [
        "for key, value in user2id.items():\n",
        "  if key == 363891:\n",
        "    print('ok')"
      ],
      "metadata": {
        "id": "Vop-e2tGL1MP"
      },
      "execution_count": 30,
      "outputs": []
    },
    {
      "cell_type": "code",
      "source": [
        "# Il faut changer user2id et item2id pour que ca marche pour l'ensemble test\n",
        "test(model, testloader)"
      ],
      "metadata": {
        "colab": {
          "base_uri": "https://localhost:8080/"
        },
        "id": "Mmk2xvCvKFMR",
        "outputId": "93fe9db1-459a-457d-da2c-5fafed50619a"
      },
      "execution_count": 50,
      "outputs": [
        {
          "output_type": "execute_result",
          "data": {
            "text/plain": [
              "tensor(0.8365, device='cuda:0')"
            ]
          },
          "metadata": {},
          "execution_count": 50
        }
      ]
    },
    {
      "cell_type": "code",
      "source": [
        "users, recipes, r = next(iter(testloader))\n",
        "users = users.cuda()\n",
        "recipes = recipes.cuda()\n",
        "r = r.cuda()\n",
        "\n",
        "y = model(users, recipes)*5\n",
        "print(\"ratings\", r[:10].data)\n",
        "print(\"predictions:\", y.flatten()[:10].data)"
      ],
      "metadata": {
        "colab": {
          "base_uri": "https://localhost:8080/"
        },
        "id": "xKBATMgbNCdH",
        "outputId": "1e091709-c8f2-417d-d3bc-f6c4a7cf3ce1"
      },
      "execution_count": 51,
      "outputs": [
        {
          "output_type": "stream",
          "name": "stdout",
          "text": [
            "ratings tensor([5., 4., 5., 5., 2., 4., 5., 5., 5., 5.], device='cuda:0')\n",
            "predictions: tensor([4.4143, 4.5297, 4.4333, 4.5619, 4.4630, 4.5250, 4.4526, 4.4126, 4.3161,\n",
            "        4.5354], device='cuda:0')\n"
          ]
        }
      ]
    }
  ]
}