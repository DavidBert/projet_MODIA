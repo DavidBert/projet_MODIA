{
  "cells": [
    {
      "cell_type": "markdown",
      "source": [
        "# Recommendations de recettes les plus \"populaires\", à partir des étapes de recettes et des descriptions de recettes"
      ],
      "metadata": {
        "id": "FHMtoSrKNMJ_"
      },
      "id": "FHMtoSrKNMJ_"
    },
    {
      "cell_type": "markdown",
      "source": [
        "## Importations des données/packages"
      ],
      "metadata": {
        "id": "gWXqW3PDNXDq"
      },
      "id": "gWXqW3PDNXDq"
    },
    {
      "cell_type": "code",
      "execution_count": null,
      "id": "4b8a8c96",
      "metadata": {
        "id": "4b8a8c96"
      },
      "outputs": [],
      "source": [
        "import pandas as pd\n",
        "import numpy as np\n",
        "import matplotlib.pyplot as plt\n",
        "import sklearn\n",
        "import seaborn as sns"
      ]
    },
    {
      "cell_type": "code",
      "execution_count": null,
      "id": "7d920647",
      "metadata": {
        "colab": {
          "base_uri": "https://localhost:8080/"
        },
        "id": "7d920647",
        "outputId": "1023e871-c578-46ac-e7e5-21b857bfacf6"
      },
      "outputs": [
        {
          "output_type": "stream",
          "name": "stdout",
          "text": [
            "Downloading...\n",
            "From: https://drive.google.com/uc?id=1VKuCi2vNFZLhmyy2CdU0Lp8-Ab3re81N\n",
            "To: /content/interactions_test.csv\n",
            "100% 523k/523k [00:00<00:00, 100MB/s]\n",
            "Downloading...\n",
            "From: https://drive.google.com/uc?id=1JaF3TKLcveF2-88mzqF9EgP8928JhpCB\n",
            "To: /content/interactions_train.csv.zip\n",
            "100% 9.29M/9.29M [00:00<00:00, 121MB/s]\n",
            "Downloading...\n",
            "From: https://drive.google.com/uc?id=13ORjoqdKbALvDyVjPIq23HWleQhccafJ\n",
            "To: /content/RAW_interactions.csv.zip\n",
            "100% 131M/131M [00:00<00:00, 178MB/s]\n",
            "Downloading...\n",
            "From: https://drive.google.com/uc?id=1oijYQho6s63CjHppuJT7ERaRb81Javkt\n",
            "To: /content/RAW_recipes.csv.zip\n",
            "100% 87.3M/87.3M [00:00<00:00, 215MB/s]\n"
          ]
        }
      ],
      "source": [
        "!gdown https://drive.google.com/uc?id=1VKuCi2vNFZLhmyy2CdU0Lp8-Ab3re81N \n",
        "!gdown https://drive.google.com/uc?id=1JaF3TKLcveF2-88mzqF9EgP8928JhpCB\n",
        "!gdown https://drive.google.com/uc?id=13ORjoqdKbALvDyVjPIq23HWleQhccafJ\n",
        "!gdown https://drive.google.com/uc?id=1oijYQho6s63CjHppuJT7ERaRb81Javkt"
      ]
    },
    {
      "cell_type": "code",
      "execution_count": null,
      "id": "5c3deb66",
      "metadata": {
        "colab": {
          "base_uri": "https://localhost:8080/"
        },
        "id": "5c3deb66",
        "outputId": "da47e509-23eb-4c32-b5d9-7927daae7607"
      },
      "outputs": [
        {
          "output_type": "stream",
          "name": "stdout",
          "text": [
            "Archive:  RAW_interactions.csv.zip\n",
            "  inflating: RAW_interactions.csv    \n",
            "Archive:  RAW_recipes.csv.zip\n",
            "  inflating: RAW_recipes.csv         \n",
            "Archive:  interactions_train.csv.zip\n",
            "  inflating: interactions_train.csv  \n"
          ]
        }
      ],
      "source": [
        "! echo y | unzip RAW_interactions.csv.zip \n",
        "! echo y | unzip RAW_recipes.csv.zip\n",
        "! echo y | unzip interactions_train.csv.zip"
      ]
    },
    {
      "cell_type": "markdown",
      "source": [
        "## Créations des dataframes"
      ],
      "metadata": {
        "id": "o-qZIPA7NaqO"
      },
      "id": "o-qZIPA7NaqO"
    },
    {
      "cell_type": "code",
      "execution_count": null,
      "id": "54903004",
      "metadata": {
        "id": "54903004"
      },
      "outputs": [],
      "source": [
        "comments = pd.read_csv('RAW_interactions.csv')\n",
        "recipes = pd.read_csv('RAW_recipes.csv')"
      ]
    },
    {
      "cell_type": "code",
      "source": [
        "recipes.head()"
      ],
      "metadata": {
        "colab": {
          "base_uri": "https://localhost:8080/",
          "height": 337
        },
        "id": "GXYPKfGiBcpb",
        "outputId": "76e92287-9a2a-4b60-b59a-fe03785a10bd"
      },
      "id": "GXYPKfGiBcpb",
      "execution_count": null,
      "outputs": [
        {
          "output_type": "execute_result",
          "data": {
            "text/plain": [
              "                                         name      id  minutes  \\\n",
              "0  arriba   baked winter squash mexican style  137739       55   \n",
              "1            a bit different  breakfast pizza   31490       30   \n",
              "2                   all in the kitchen  chili  112140      130   \n",
              "3                          alouette  potatoes   59389       45   \n",
              "4          amish  tomato ketchup  for canning   44061      190   \n",
              "\n",
              "   contributor_id   submitted  \\\n",
              "0           47892  2005-09-16   \n",
              "1           26278  2002-06-17   \n",
              "2          196586  2005-02-25   \n",
              "3           68585  2003-04-14   \n",
              "4           41706  2002-10-25   \n",
              "\n",
              "                                                tags  \\\n",
              "0  ['60-minutes-or-less', 'time-to-make', 'course...   \n",
              "1  ['30-minutes-or-less', 'time-to-make', 'course...   \n",
              "2  ['time-to-make', 'course', 'preparation', 'mai...   \n",
              "3  ['60-minutes-or-less', 'time-to-make', 'course...   \n",
              "4  ['weeknight', 'time-to-make', 'course', 'main-...   \n",
              "\n",
              "                                    nutrition  n_steps  \\\n",
              "0       [51.5, 0.0, 13.0, 0.0, 2.0, 0.0, 4.0]       11   \n",
              "1   [173.4, 18.0, 0.0, 17.0, 22.0, 35.0, 1.0]        9   \n",
              "2  [269.8, 22.0, 32.0, 48.0, 39.0, 27.0, 5.0]        6   \n",
              "3   [368.1, 17.0, 10.0, 2.0, 14.0, 8.0, 20.0]       11   \n",
              "4   [352.9, 1.0, 337.0, 23.0, 3.0, 0.0, 28.0]        5   \n",
              "\n",
              "                                               steps  \\\n",
              "0  ['make a choice and proceed with recipe', 'dep...   \n",
              "1  ['preheat oven to 425 degrees f', 'press dough...   \n",
              "2  ['brown ground beef in large pot', 'add choppe...   \n",
              "3  ['place potatoes in a large pot of lightly sal...   \n",
              "4  ['mix all ingredients& boil for 2 1 / 2 hours ...   \n",
              "\n",
              "                                         description  \\\n",
              "0  autumn is my favorite time of year to cook! th...   \n",
              "1  this recipe calls for the crust to be prebaked...   \n",
              "2  this modified version of 'mom's' chili was a h...   \n",
              "3  this is a super easy, great tasting, make ahea...   \n",
              "4  my dh's amish mother raised him on this recipe...   \n",
              "\n",
              "                                         ingredients  n_ingredients  \n",
              "0  ['winter squash', 'mexican seasoning', 'mixed ...              7  \n",
              "1  ['prepared pizza crust', 'sausage patty', 'egg...              6  \n",
              "2  ['ground beef', 'yellow onions', 'diced tomato...             13  \n",
              "3  ['spreadable cheese with garlic and herbs', 'n...             11  \n",
              "4  ['tomato juice', 'apple cider vinegar', 'sugar...              8  "
            ],
            "text/html": [
              "\n",
              "  <div id=\"df-e9afeb5d-10e8-4f49-8b5d-978a76de7a33\">\n",
              "    <div class=\"colab-df-container\">\n",
              "      <div>\n",
              "<style scoped>\n",
              "    .dataframe tbody tr th:only-of-type {\n",
              "        vertical-align: middle;\n",
              "    }\n",
              "\n",
              "    .dataframe tbody tr th {\n",
              "        vertical-align: top;\n",
              "    }\n",
              "\n",
              "    .dataframe thead th {\n",
              "        text-align: right;\n",
              "    }\n",
              "</style>\n",
              "<table border=\"1\" class=\"dataframe\">\n",
              "  <thead>\n",
              "    <tr style=\"text-align: right;\">\n",
              "      <th></th>\n",
              "      <th>name</th>\n",
              "      <th>id</th>\n",
              "      <th>minutes</th>\n",
              "      <th>contributor_id</th>\n",
              "      <th>submitted</th>\n",
              "      <th>tags</th>\n",
              "      <th>nutrition</th>\n",
              "      <th>n_steps</th>\n",
              "      <th>steps</th>\n",
              "      <th>description</th>\n",
              "      <th>ingredients</th>\n",
              "      <th>n_ingredients</th>\n",
              "    </tr>\n",
              "  </thead>\n",
              "  <tbody>\n",
              "    <tr>\n",
              "      <th>0</th>\n",
              "      <td>arriba   baked winter squash mexican style</td>\n",
              "      <td>137739</td>\n",
              "      <td>55</td>\n",
              "      <td>47892</td>\n",
              "      <td>2005-09-16</td>\n",
              "      <td>['60-minutes-or-less', 'time-to-make', 'course...</td>\n",
              "      <td>[51.5, 0.0, 13.0, 0.0, 2.0, 0.0, 4.0]</td>\n",
              "      <td>11</td>\n",
              "      <td>['make a choice and proceed with recipe', 'dep...</td>\n",
              "      <td>autumn is my favorite time of year to cook! th...</td>\n",
              "      <td>['winter squash', 'mexican seasoning', 'mixed ...</td>\n",
              "      <td>7</td>\n",
              "    </tr>\n",
              "    <tr>\n",
              "      <th>1</th>\n",
              "      <td>a bit different  breakfast pizza</td>\n",
              "      <td>31490</td>\n",
              "      <td>30</td>\n",
              "      <td>26278</td>\n",
              "      <td>2002-06-17</td>\n",
              "      <td>['30-minutes-or-less', 'time-to-make', 'course...</td>\n",
              "      <td>[173.4, 18.0, 0.0, 17.0, 22.0, 35.0, 1.0]</td>\n",
              "      <td>9</td>\n",
              "      <td>['preheat oven to 425 degrees f', 'press dough...</td>\n",
              "      <td>this recipe calls for the crust to be prebaked...</td>\n",
              "      <td>['prepared pizza crust', 'sausage patty', 'egg...</td>\n",
              "      <td>6</td>\n",
              "    </tr>\n",
              "    <tr>\n",
              "      <th>2</th>\n",
              "      <td>all in the kitchen  chili</td>\n",
              "      <td>112140</td>\n",
              "      <td>130</td>\n",
              "      <td>196586</td>\n",
              "      <td>2005-02-25</td>\n",
              "      <td>['time-to-make', 'course', 'preparation', 'mai...</td>\n",
              "      <td>[269.8, 22.0, 32.0, 48.0, 39.0, 27.0, 5.0]</td>\n",
              "      <td>6</td>\n",
              "      <td>['brown ground beef in large pot', 'add choppe...</td>\n",
              "      <td>this modified version of 'mom's' chili was a h...</td>\n",
              "      <td>['ground beef', 'yellow onions', 'diced tomato...</td>\n",
              "      <td>13</td>\n",
              "    </tr>\n",
              "    <tr>\n",
              "      <th>3</th>\n",
              "      <td>alouette  potatoes</td>\n",
              "      <td>59389</td>\n",
              "      <td>45</td>\n",
              "      <td>68585</td>\n",
              "      <td>2003-04-14</td>\n",
              "      <td>['60-minutes-or-less', 'time-to-make', 'course...</td>\n",
              "      <td>[368.1, 17.0, 10.0, 2.0, 14.0, 8.0, 20.0]</td>\n",
              "      <td>11</td>\n",
              "      <td>['place potatoes in a large pot of lightly sal...</td>\n",
              "      <td>this is a super easy, great tasting, make ahea...</td>\n",
              "      <td>['spreadable cheese with garlic and herbs', 'n...</td>\n",
              "      <td>11</td>\n",
              "    </tr>\n",
              "    <tr>\n",
              "      <th>4</th>\n",
              "      <td>amish  tomato ketchup  for canning</td>\n",
              "      <td>44061</td>\n",
              "      <td>190</td>\n",
              "      <td>41706</td>\n",
              "      <td>2002-10-25</td>\n",
              "      <td>['weeknight', 'time-to-make', 'course', 'main-...</td>\n",
              "      <td>[352.9, 1.0, 337.0, 23.0, 3.0, 0.0, 28.0]</td>\n",
              "      <td>5</td>\n",
              "      <td>['mix all ingredients&amp; boil for 2 1 / 2 hours ...</td>\n",
              "      <td>my dh's amish mother raised him on this recipe...</td>\n",
              "      <td>['tomato juice', 'apple cider vinegar', 'sugar...</td>\n",
              "      <td>8</td>\n",
              "    </tr>\n",
              "  </tbody>\n",
              "</table>\n",
              "</div>\n",
              "      <button class=\"colab-df-convert\" onclick=\"convertToInteractive('df-e9afeb5d-10e8-4f49-8b5d-978a76de7a33')\"\n",
              "              title=\"Convert this dataframe to an interactive table.\"\n",
              "              style=\"display:none;\">\n",
              "        \n",
              "  <svg xmlns=\"http://www.w3.org/2000/svg\" height=\"24px\"viewBox=\"0 0 24 24\"\n",
              "       width=\"24px\">\n",
              "    <path d=\"M0 0h24v24H0V0z\" fill=\"none\"/>\n",
              "    <path d=\"M18.56 5.44l.94 2.06.94-2.06 2.06-.94-2.06-.94-.94-2.06-.94 2.06-2.06.94zm-11 1L8.5 8.5l.94-2.06 2.06-.94-2.06-.94L8.5 2.5l-.94 2.06-2.06.94zm10 10l.94 2.06.94-2.06 2.06-.94-2.06-.94-.94-2.06-.94 2.06-2.06.94z\"/><path d=\"M17.41 7.96l-1.37-1.37c-.4-.4-.92-.59-1.43-.59-.52 0-1.04.2-1.43.59L10.3 9.45l-7.72 7.72c-.78.78-.78 2.05 0 2.83L4 21.41c.39.39.9.59 1.41.59.51 0 1.02-.2 1.41-.59l7.78-7.78 2.81-2.81c.8-.78.8-2.07 0-2.86zM5.41 20L4 18.59l7.72-7.72 1.47 1.35L5.41 20z\"/>\n",
              "  </svg>\n",
              "      </button>\n",
              "      \n",
              "  <style>\n",
              "    .colab-df-container {\n",
              "      display:flex;\n",
              "      flex-wrap:wrap;\n",
              "      gap: 12px;\n",
              "    }\n",
              "\n",
              "    .colab-df-convert {\n",
              "      background-color: #E8F0FE;\n",
              "      border: none;\n",
              "      border-radius: 50%;\n",
              "      cursor: pointer;\n",
              "      display: none;\n",
              "      fill: #1967D2;\n",
              "      height: 32px;\n",
              "      padding: 0 0 0 0;\n",
              "      width: 32px;\n",
              "    }\n",
              "\n",
              "    .colab-df-convert:hover {\n",
              "      background-color: #E2EBFA;\n",
              "      box-shadow: 0px 1px 2px rgba(60, 64, 67, 0.3), 0px 1px 3px 1px rgba(60, 64, 67, 0.15);\n",
              "      fill: #174EA6;\n",
              "    }\n",
              "\n",
              "    [theme=dark] .colab-df-convert {\n",
              "      background-color: #3B4455;\n",
              "      fill: #D2E3FC;\n",
              "    }\n",
              "\n",
              "    [theme=dark] .colab-df-convert:hover {\n",
              "      background-color: #434B5C;\n",
              "      box-shadow: 0px 1px 3px 1px rgba(0, 0, 0, 0.15);\n",
              "      filter: drop-shadow(0px 1px 2px rgba(0, 0, 0, 0.3));\n",
              "      fill: #FFFFFF;\n",
              "    }\n",
              "  </style>\n",
              "\n",
              "      <script>\n",
              "        const buttonEl =\n",
              "          document.querySelector('#df-e9afeb5d-10e8-4f49-8b5d-978a76de7a33 button.colab-df-convert');\n",
              "        buttonEl.style.display =\n",
              "          google.colab.kernel.accessAllowed ? 'block' : 'none';\n",
              "\n",
              "        async function convertToInteractive(key) {\n",
              "          const element = document.querySelector('#df-e9afeb5d-10e8-4f49-8b5d-978a76de7a33');\n",
              "          const dataTable =\n",
              "            await google.colab.kernel.invokeFunction('convertToInteractive',\n",
              "                                                     [key], {});\n",
              "          if (!dataTable) return;\n",
              "\n",
              "          const docLinkHtml = 'Like what you see? Visit the ' +\n",
              "            '<a target=\"_blank\" href=https://colab.research.google.com/notebooks/data_table.ipynb>data table notebook</a>'\n",
              "            + ' to learn more about interactive tables.';\n",
              "          element.innerHTML = '';\n",
              "          dataTable['output_type'] = 'display_data';\n",
              "          await google.colab.output.renderOutput(dataTable, element);\n",
              "          const docLink = document.createElement('div');\n",
              "          docLink.innerHTML = docLinkHtml;\n",
              "          element.appendChild(docLink);\n",
              "        }\n",
              "      </script>\n",
              "    </div>\n",
              "  </div>\n",
              "  "
            ]
          },
          "metadata": {},
          "execution_count": 5
        }
      ]
    },
    {
      "cell_type": "code",
      "source": [
        "comments.head()"
      ],
      "metadata": {
        "colab": {
          "base_uri": "https://localhost:8080/",
          "height": 206
        },
        "id": "aJNlp7bgBe1J",
        "outputId": "151487d3-0f26-48aa-fd4c-978934271dc8"
      },
      "id": "aJNlp7bgBe1J",
      "execution_count": null,
      "outputs": [
        {
          "output_type": "execute_result",
          "data": {
            "text/plain": [
              "   user_id  recipe_id        date  rating  \\\n",
              "0    38094      40893  2003-02-17       4   \n",
              "1  1293707      40893  2011-12-21       5   \n",
              "2     8937      44394  2002-12-01       4   \n",
              "3   126440      85009  2010-02-27       5   \n",
              "4    57222      85009  2011-10-01       5   \n",
              "\n",
              "                                              review  \n",
              "0  Great with a salad. Cooked on top of stove for...  \n",
              "1  So simple, so delicious! Great for chilly fall...  \n",
              "2  This worked very well and is EASY.  I used not...  \n",
              "3  I made the Mexican topping and took it to bunk...  \n",
              "4  Made the cheddar bacon topping, adding a sprin...  "
            ],
            "text/html": [
              "\n",
              "  <div id=\"df-117e4977-abe9-4fc9-8364-45c1570e3afe\">\n",
              "    <div class=\"colab-df-container\">\n",
              "      <div>\n",
              "<style scoped>\n",
              "    .dataframe tbody tr th:only-of-type {\n",
              "        vertical-align: middle;\n",
              "    }\n",
              "\n",
              "    .dataframe tbody tr th {\n",
              "        vertical-align: top;\n",
              "    }\n",
              "\n",
              "    .dataframe thead th {\n",
              "        text-align: right;\n",
              "    }\n",
              "</style>\n",
              "<table border=\"1\" class=\"dataframe\">\n",
              "  <thead>\n",
              "    <tr style=\"text-align: right;\">\n",
              "      <th></th>\n",
              "      <th>user_id</th>\n",
              "      <th>recipe_id</th>\n",
              "      <th>date</th>\n",
              "      <th>rating</th>\n",
              "      <th>review</th>\n",
              "    </tr>\n",
              "  </thead>\n",
              "  <tbody>\n",
              "    <tr>\n",
              "      <th>0</th>\n",
              "      <td>38094</td>\n",
              "      <td>40893</td>\n",
              "      <td>2003-02-17</td>\n",
              "      <td>4</td>\n",
              "      <td>Great with a salad. Cooked on top of stove for...</td>\n",
              "    </tr>\n",
              "    <tr>\n",
              "      <th>1</th>\n",
              "      <td>1293707</td>\n",
              "      <td>40893</td>\n",
              "      <td>2011-12-21</td>\n",
              "      <td>5</td>\n",
              "      <td>So simple, so delicious! Great for chilly fall...</td>\n",
              "    </tr>\n",
              "    <tr>\n",
              "      <th>2</th>\n",
              "      <td>8937</td>\n",
              "      <td>44394</td>\n",
              "      <td>2002-12-01</td>\n",
              "      <td>4</td>\n",
              "      <td>This worked very well and is EASY.  I used not...</td>\n",
              "    </tr>\n",
              "    <tr>\n",
              "      <th>3</th>\n",
              "      <td>126440</td>\n",
              "      <td>85009</td>\n",
              "      <td>2010-02-27</td>\n",
              "      <td>5</td>\n",
              "      <td>I made the Mexican topping and took it to bunk...</td>\n",
              "    </tr>\n",
              "    <tr>\n",
              "      <th>4</th>\n",
              "      <td>57222</td>\n",
              "      <td>85009</td>\n",
              "      <td>2011-10-01</td>\n",
              "      <td>5</td>\n",
              "      <td>Made the cheddar bacon topping, adding a sprin...</td>\n",
              "    </tr>\n",
              "  </tbody>\n",
              "</table>\n",
              "</div>\n",
              "      <button class=\"colab-df-convert\" onclick=\"convertToInteractive('df-117e4977-abe9-4fc9-8364-45c1570e3afe')\"\n",
              "              title=\"Convert this dataframe to an interactive table.\"\n",
              "              style=\"display:none;\">\n",
              "        \n",
              "  <svg xmlns=\"http://www.w3.org/2000/svg\" height=\"24px\"viewBox=\"0 0 24 24\"\n",
              "       width=\"24px\">\n",
              "    <path d=\"M0 0h24v24H0V0z\" fill=\"none\"/>\n",
              "    <path d=\"M18.56 5.44l.94 2.06.94-2.06 2.06-.94-2.06-.94-.94-2.06-.94 2.06-2.06.94zm-11 1L8.5 8.5l.94-2.06 2.06-.94-2.06-.94L8.5 2.5l-.94 2.06-2.06.94zm10 10l.94 2.06.94-2.06 2.06-.94-2.06-.94-.94-2.06-.94 2.06-2.06.94z\"/><path d=\"M17.41 7.96l-1.37-1.37c-.4-.4-.92-.59-1.43-.59-.52 0-1.04.2-1.43.59L10.3 9.45l-7.72 7.72c-.78.78-.78 2.05 0 2.83L4 21.41c.39.39.9.59 1.41.59.51 0 1.02-.2 1.41-.59l7.78-7.78 2.81-2.81c.8-.78.8-2.07 0-2.86zM5.41 20L4 18.59l7.72-7.72 1.47 1.35L5.41 20z\"/>\n",
              "  </svg>\n",
              "      </button>\n",
              "      \n",
              "  <style>\n",
              "    .colab-df-container {\n",
              "      display:flex;\n",
              "      flex-wrap:wrap;\n",
              "      gap: 12px;\n",
              "    }\n",
              "\n",
              "    .colab-df-convert {\n",
              "      background-color: #E8F0FE;\n",
              "      border: none;\n",
              "      border-radius: 50%;\n",
              "      cursor: pointer;\n",
              "      display: none;\n",
              "      fill: #1967D2;\n",
              "      height: 32px;\n",
              "      padding: 0 0 0 0;\n",
              "      width: 32px;\n",
              "    }\n",
              "\n",
              "    .colab-df-convert:hover {\n",
              "      background-color: #E2EBFA;\n",
              "      box-shadow: 0px 1px 2px rgba(60, 64, 67, 0.3), 0px 1px 3px 1px rgba(60, 64, 67, 0.15);\n",
              "      fill: #174EA6;\n",
              "    }\n",
              "\n",
              "    [theme=dark] .colab-df-convert {\n",
              "      background-color: #3B4455;\n",
              "      fill: #D2E3FC;\n",
              "    }\n",
              "\n",
              "    [theme=dark] .colab-df-convert:hover {\n",
              "      background-color: #434B5C;\n",
              "      box-shadow: 0px 1px 3px 1px rgba(0, 0, 0, 0.15);\n",
              "      filter: drop-shadow(0px 1px 2px rgba(0, 0, 0, 0.3));\n",
              "      fill: #FFFFFF;\n",
              "    }\n",
              "  </style>\n",
              "\n",
              "      <script>\n",
              "        const buttonEl =\n",
              "          document.querySelector('#df-117e4977-abe9-4fc9-8364-45c1570e3afe button.colab-df-convert');\n",
              "        buttonEl.style.display =\n",
              "          google.colab.kernel.accessAllowed ? 'block' : 'none';\n",
              "\n",
              "        async function convertToInteractive(key) {\n",
              "          const element = document.querySelector('#df-117e4977-abe9-4fc9-8364-45c1570e3afe');\n",
              "          const dataTable =\n",
              "            await google.colab.kernel.invokeFunction('convertToInteractive',\n",
              "                                                     [key], {});\n",
              "          if (!dataTable) return;\n",
              "\n",
              "          const docLinkHtml = 'Like what you see? Visit the ' +\n",
              "            '<a target=\"_blank\" href=https://colab.research.google.com/notebooks/data_table.ipynb>data table notebook</a>'\n",
              "            + ' to learn more about interactive tables.';\n",
              "          element.innerHTML = '';\n",
              "          dataTable['output_type'] = 'display_data';\n",
              "          await google.colab.output.renderOutput(dataTable, element);\n",
              "          const docLink = document.createElement('div');\n",
              "          docLink.innerHTML = docLinkHtml;\n",
              "          element.appendChild(docLink);\n",
              "        }\n",
              "      </script>\n",
              "    </div>\n",
              "  </div>\n",
              "  "
            ]
          },
          "metadata": {},
          "execution_count": 6
        }
      ]
    },
    {
      "cell_type": "markdown",
      "id": "fd704e50",
      "metadata": {
        "id": "fd704e50"
      },
      "source": [
        "## Recommandations simples"
      ]
    },
    {
      "cell_type": "markdown",
      "id": "c8a006af",
      "metadata": {
        "id": "c8a006af"
      },
      "source": [
        "### Par popularité"
      ]
    },
    {
      "cell_type": "code",
      "execution_count": null,
      "id": "1264bb0b",
      "metadata": {
        "colab": {
          "base_uri": "https://localhost:8080/",
          "height": 337
        },
        "id": "1264bb0b",
        "outputId": "123653bc-5395-4dad-dab9-5cad865c515d"
      },
      "outputs": [
        {
          "output_type": "execute_result",
          "data": {
            "text/plain": [
              "   id  rate_count      rate                               name  minutes  \\\n",
              "0  38           4  4.250000  low fat berry blue frozen dessert     1485   \n",
              "1  39           1  3.000000                            biryani      265   \n",
              "2  40           9  4.333333                      best lemonade       35   \n",
              "3  41           2  4.500000     carina s tofu vegetable kebabs     1460   \n",
              "4  43           1  1.000000               best blackbottom pie      140   \n",
              "\n",
              "   contributor_id   submitted  \\\n",
              "0            1533  1999-08-09   \n",
              "1            1567  1999-08-29   \n",
              "2            1566  1999-09-05   \n",
              "3            1586  1999-09-03   \n",
              "4           34879  1999-08-21   \n",
              "\n",
              "                                                tags  \\\n",
              "0  ['weeknight', 'time-to-make', 'course', 'prepa...   \n",
              "1  ['weeknight', 'time-to-make', 'course', 'main-...   \n",
              "2  ['60-minutes-or-less', 'time-to-make', 'course...   \n",
              "3  ['weeknight', 'time-to-make', 'course', 'main-...   \n",
              "4  ['weeknight', 'time-to-make', 'course', 'cuisi...   \n",
              "\n",
              "                                       nutrition  n_steps  \\\n",
              "0       [170.9, 3.0, 120.0, 1.0, 6.0, 6.0, 12.0]       13   \n",
              "1  [1110.7, 90.0, 81.0, 15.0, 126.0, 82.0, 28.0]       17   \n",
              "2       [311.1, 0.0, 308.0, 0.0, 0.0, 0.0, 27.0]        8   \n",
              "3   [536.1, 36.0, 128.0, 64.0, 58.0, 19.0, 21.0]       18   \n",
              "4   [437.9, 29.0, 170.0, 11.0, 13.0, 54.0, 19.0]       35   \n",
              "\n",
              "                                               steps  \\\n",
              "0  ['toss 2 cups berries with sugar', 'let stand ...   \n",
              "1  ['soak saffron in warm milk for 5 minutes and ...   \n",
              "2  ['into a 1 quart jar with tight fitting lid , ...   \n",
              "3  ['drain the tofu , carefully squeezing out exc...   \n",
              "4  ['graham cracker crust: in small bowl , combin...   \n",
              "\n",
              "                                         description  \\\n",
              "0  this is yummy and low-fat, it always turns out...   \n",
              "1                                       delhi, india   \n",
              "2  this is from one of my  first good house keepi...   \n",
              "3  this dish is best prepared a day in advance to...   \n",
              "4                          sweet, chocolatey,  yummy   \n",
              "\n",
              "                                         ingredients  n_ingredients  \n",
              "0  ['blueberries', 'granulated sugar', 'vanilla y...              4  \n",
              "1  ['saffron', 'milk', 'hot green chili peppers',...             26  \n",
              "2  ['sugar', 'lemons, rind of', 'fresh water', 'f...              6  \n",
              "3  ['extra firm tofu', 'eggplant', 'zucchini', 'r...             15  \n",
              "4  ['graham cracker crumbs', 'sugar', 'butter', '...             15  "
            ],
            "text/html": [
              "\n",
              "  <div id=\"df-9f6c9e38-3726-481b-9243-6494355d6ed6\">\n",
              "    <div class=\"colab-df-container\">\n",
              "      <div>\n",
              "<style scoped>\n",
              "    .dataframe tbody tr th:only-of-type {\n",
              "        vertical-align: middle;\n",
              "    }\n",
              "\n",
              "    .dataframe tbody tr th {\n",
              "        vertical-align: top;\n",
              "    }\n",
              "\n",
              "    .dataframe thead th {\n",
              "        text-align: right;\n",
              "    }\n",
              "</style>\n",
              "<table border=\"1\" class=\"dataframe\">\n",
              "  <thead>\n",
              "    <tr style=\"text-align: right;\">\n",
              "      <th></th>\n",
              "      <th>id</th>\n",
              "      <th>rate_count</th>\n",
              "      <th>rate</th>\n",
              "      <th>name</th>\n",
              "      <th>minutes</th>\n",
              "      <th>contributor_id</th>\n",
              "      <th>submitted</th>\n",
              "      <th>tags</th>\n",
              "      <th>nutrition</th>\n",
              "      <th>n_steps</th>\n",
              "      <th>steps</th>\n",
              "      <th>description</th>\n",
              "      <th>ingredients</th>\n",
              "      <th>n_ingredients</th>\n",
              "    </tr>\n",
              "  </thead>\n",
              "  <tbody>\n",
              "    <tr>\n",
              "      <th>0</th>\n",
              "      <td>38</td>\n",
              "      <td>4</td>\n",
              "      <td>4.250000</td>\n",
              "      <td>low fat berry blue frozen dessert</td>\n",
              "      <td>1485</td>\n",
              "      <td>1533</td>\n",
              "      <td>1999-08-09</td>\n",
              "      <td>['weeknight', 'time-to-make', 'course', 'prepa...</td>\n",
              "      <td>[170.9, 3.0, 120.0, 1.0, 6.0, 6.0, 12.0]</td>\n",
              "      <td>13</td>\n",
              "      <td>['toss 2 cups berries with sugar', 'let stand ...</td>\n",
              "      <td>this is yummy and low-fat, it always turns out...</td>\n",
              "      <td>['blueberries', 'granulated sugar', 'vanilla y...</td>\n",
              "      <td>4</td>\n",
              "    </tr>\n",
              "    <tr>\n",
              "      <th>1</th>\n",
              "      <td>39</td>\n",
              "      <td>1</td>\n",
              "      <td>3.000000</td>\n",
              "      <td>biryani</td>\n",
              "      <td>265</td>\n",
              "      <td>1567</td>\n",
              "      <td>1999-08-29</td>\n",
              "      <td>['weeknight', 'time-to-make', 'course', 'main-...</td>\n",
              "      <td>[1110.7, 90.0, 81.0, 15.0, 126.0, 82.0, 28.0]</td>\n",
              "      <td>17</td>\n",
              "      <td>['soak saffron in warm milk for 5 minutes and ...</td>\n",
              "      <td>delhi, india</td>\n",
              "      <td>['saffron', 'milk', 'hot green chili peppers',...</td>\n",
              "      <td>26</td>\n",
              "    </tr>\n",
              "    <tr>\n",
              "      <th>2</th>\n",
              "      <td>40</td>\n",
              "      <td>9</td>\n",
              "      <td>4.333333</td>\n",
              "      <td>best lemonade</td>\n",
              "      <td>35</td>\n",
              "      <td>1566</td>\n",
              "      <td>1999-09-05</td>\n",
              "      <td>['60-minutes-or-less', 'time-to-make', 'course...</td>\n",
              "      <td>[311.1, 0.0, 308.0, 0.0, 0.0, 0.0, 27.0]</td>\n",
              "      <td>8</td>\n",
              "      <td>['into a 1 quart jar with tight fitting lid , ...</td>\n",
              "      <td>this is from one of my  first good house keepi...</td>\n",
              "      <td>['sugar', 'lemons, rind of', 'fresh water', 'f...</td>\n",
              "      <td>6</td>\n",
              "    </tr>\n",
              "    <tr>\n",
              "      <th>3</th>\n",
              "      <td>41</td>\n",
              "      <td>2</td>\n",
              "      <td>4.500000</td>\n",
              "      <td>carina s tofu vegetable kebabs</td>\n",
              "      <td>1460</td>\n",
              "      <td>1586</td>\n",
              "      <td>1999-09-03</td>\n",
              "      <td>['weeknight', 'time-to-make', 'course', 'main-...</td>\n",
              "      <td>[536.1, 36.0, 128.0, 64.0, 58.0, 19.0, 21.0]</td>\n",
              "      <td>18</td>\n",
              "      <td>['drain the tofu , carefully squeezing out exc...</td>\n",
              "      <td>this dish is best prepared a day in advance to...</td>\n",
              "      <td>['extra firm tofu', 'eggplant', 'zucchini', 'r...</td>\n",
              "      <td>15</td>\n",
              "    </tr>\n",
              "    <tr>\n",
              "      <th>4</th>\n",
              "      <td>43</td>\n",
              "      <td>1</td>\n",
              "      <td>1.000000</td>\n",
              "      <td>best blackbottom pie</td>\n",
              "      <td>140</td>\n",
              "      <td>34879</td>\n",
              "      <td>1999-08-21</td>\n",
              "      <td>['weeknight', 'time-to-make', 'course', 'cuisi...</td>\n",
              "      <td>[437.9, 29.0, 170.0, 11.0, 13.0, 54.0, 19.0]</td>\n",
              "      <td>35</td>\n",
              "      <td>['graham cracker crust: in small bowl , combin...</td>\n",
              "      <td>sweet, chocolatey,  yummy</td>\n",
              "      <td>['graham cracker crumbs', 'sugar', 'butter', '...</td>\n",
              "      <td>15</td>\n",
              "    </tr>\n",
              "  </tbody>\n",
              "</table>\n",
              "</div>\n",
              "      <button class=\"colab-df-convert\" onclick=\"convertToInteractive('df-9f6c9e38-3726-481b-9243-6494355d6ed6')\"\n",
              "              title=\"Convert this dataframe to an interactive table.\"\n",
              "              style=\"display:none;\">\n",
              "        \n",
              "  <svg xmlns=\"http://www.w3.org/2000/svg\" height=\"24px\"viewBox=\"0 0 24 24\"\n",
              "       width=\"24px\">\n",
              "    <path d=\"M0 0h24v24H0V0z\" fill=\"none\"/>\n",
              "    <path d=\"M18.56 5.44l.94 2.06.94-2.06 2.06-.94-2.06-.94-.94-2.06-.94 2.06-2.06.94zm-11 1L8.5 8.5l.94-2.06 2.06-.94-2.06-.94L8.5 2.5l-.94 2.06-2.06.94zm10 10l.94 2.06.94-2.06 2.06-.94-2.06-.94-.94-2.06-.94 2.06-2.06.94z\"/><path d=\"M17.41 7.96l-1.37-1.37c-.4-.4-.92-.59-1.43-.59-.52 0-1.04.2-1.43.59L10.3 9.45l-7.72 7.72c-.78.78-.78 2.05 0 2.83L4 21.41c.39.39.9.59 1.41.59.51 0 1.02-.2 1.41-.59l7.78-7.78 2.81-2.81c.8-.78.8-2.07 0-2.86zM5.41 20L4 18.59l7.72-7.72 1.47 1.35L5.41 20z\"/>\n",
              "  </svg>\n",
              "      </button>\n",
              "      \n",
              "  <style>\n",
              "    .colab-df-container {\n",
              "      display:flex;\n",
              "      flex-wrap:wrap;\n",
              "      gap: 12px;\n",
              "    }\n",
              "\n",
              "    .colab-df-convert {\n",
              "      background-color: #E8F0FE;\n",
              "      border: none;\n",
              "      border-radius: 50%;\n",
              "      cursor: pointer;\n",
              "      display: none;\n",
              "      fill: #1967D2;\n",
              "      height: 32px;\n",
              "      padding: 0 0 0 0;\n",
              "      width: 32px;\n",
              "    }\n",
              "\n",
              "    .colab-df-convert:hover {\n",
              "      background-color: #E2EBFA;\n",
              "      box-shadow: 0px 1px 2px rgba(60, 64, 67, 0.3), 0px 1px 3px 1px rgba(60, 64, 67, 0.15);\n",
              "      fill: #174EA6;\n",
              "    }\n",
              "\n",
              "    [theme=dark] .colab-df-convert {\n",
              "      background-color: #3B4455;\n",
              "      fill: #D2E3FC;\n",
              "    }\n",
              "\n",
              "    [theme=dark] .colab-df-convert:hover {\n",
              "      background-color: #434B5C;\n",
              "      box-shadow: 0px 1px 3px 1px rgba(0, 0, 0, 0.15);\n",
              "      filter: drop-shadow(0px 1px 2px rgba(0, 0, 0, 0.3));\n",
              "      fill: #FFFFFF;\n",
              "    }\n",
              "  </style>\n",
              "\n",
              "      <script>\n",
              "        const buttonEl =\n",
              "          document.querySelector('#df-9f6c9e38-3726-481b-9243-6494355d6ed6 button.colab-df-convert');\n",
              "        buttonEl.style.display =\n",
              "          google.colab.kernel.accessAllowed ? 'block' : 'none';\n",
              "\n",
              "        async function convertToInteractive(key) {\n",
              "          const element = document.querySelector('#df-9f6c9e38-3726-481b-9243-6494355d6ed6');\n",
              "          const dataTable =\n",
              "            await google.colab.kernel.invokeFunction('convertToInteractive',\n",
              "                                                     [key], {});\n",
              "          if (!dataTable) return;\n",
              "\n",
              "          const docLinkHtml = 'Like what you see? Visit the ' +\n",
              "            '<a target=\"_blank\" href=https://colab.research.google.com/notebooks/data_table.ipynb>data table notebook</a>'\n",
              "            + ' to learn more about interactive tables.';\n",
              "          element.innerHTML = '';\n",
              "          dataTable['output_type'] = 'display_data';\n",
              "          await google.colab.output.renderOutput(dataTable, element);\n",
              "          const docLink = document.createElement('div');\n",
              "          docLink.innerHTML = docLinkHtml;\n",
              "          element.appendChild(docLink);\n",
              "        }\n",
              "      </script>\n",
              "    </div>\n",
              "  </div>\n",
              "  "
            ]
          },
          "metadata": {},
          "execution_count": 7
        }
      ],
      "source": [
        "# Ajout du nombre de note (rate_count) et de la note moyenne (rate) pour chaque recette\n",
        "\n",
        "recipes_agmt = comments[['recipe_id','rating']].groupby(by='recipe_id', as_index=False) \\\n",
        "       .agg(rate_count=('rating', 'count'), rate=('rating', 'mean')) \\\n",
        "       .rename(columns={'recipe_id' : 'id'}) \\\n",
        "       .merge(recipes,on='id')\n",
        "\n",
        "recipes_agmt.head()"
      ]
    },
    {
      "cell_type": "code",
      "execution_count": null,
      "id": "ff608138",
      "metadata": {
        "colab": {
          "base_uri": "https://localhost:8080/",
          "height": 227
        },
        "id": "ff608138",
        "outputId": "83e62b7f-ae94-4600-f716-511291c50c1f"
      },
      "outputs": [
        {
          "output_type": "display_data",
          "data": {
            "text/plain": [
              "<Figure size 864x216 with 2 Axes>"
            ],
            "image/png": "[encoded data removed]"
          },
          "metadata": {
            "needs_background": "light"
          }
        }
      ],
      "source": [
        "figure, axis = plt.subplots(1, 2, figsize=(12,3))\n",
        "\n",
        "axis[0].hist(recipes_agmt['rate_count'])\n",
        "axis[0].set_yscale('log')\n",
        "axis[0].set_title('Rate Count')\n",
        "axis[0].grid()\n",
        "axis[1].hist(recipes_agmt['rate'], bins=5)\n",
        "axis[1].set_title('Rate')\n",
        "axis[1].set_yscale('log')\n",
        "axis[1].grid()\n",
        "\n",
        "plt.show()"
      ]
    },
    {
      "cell_type": "code",
      "execution_count": null,
      "id": "7f021be0",
      "metadata": {
        "colab": {
          "base_uri": "https://localhost:8080/",
          "height": 363
        },
        "id": "7f021be0",
        "outputId": "230cbc67-10ac-4485-e32d-156a61c7da6b"
      },
      "outputs": [
        {
          "output_type": "execute_result",
          "data": {
            "text/plain": [
              "                                                     name      rate\n",
              "224586                              mexican stack up  rsc  4.990783\n",
              "68183                     kittencal s famous caesar salad  4.793427\n",
              "50516              kittencal s extreme chocolate brownies  4.786325\n",
              "3234                                     wholly guacamole  4.771812\n",
              "59342   tsr version of t g i  friday s black bean soup...  4.762295\n",
              "61784   roasted cauliflower   16 roasted cloves of garlic  4.753501\n",
              "224644                  bacon lattice tomato muffins  rsc  4.752475\n",
              "42880                              zesty oven baked fries  4.750000\n",
              "16795                             yummy crunchy apple pie  4.746341\n",
              "24727                         tomato and basil bruschetta  4.746269"
            ],
            "text/html": [
              "\n",
              "  <div id=\"df-1cc9033a-788b-485b-b251-43302803ba43\">\n",
              "    <div class=\"colab-df-container\">\n",
              "      <div>\n",
              "<style scoped>\n",
              "    .dataframe tbody tr th:only-of-type {\n",
              "        vertical-align: middle;\n",
              "    }\n",
              "\n",
              "    .dataframe tbody tr th {\n",
              "        vertical-align: top;\n",
              "    }\n",
              "\n",
              "    .dataframe thead th {\n",
              "        text-align: right;\n",
              "    }\n",
              "</style>\n",
              "<table border=\"1\" class=\"dataframe\">\n",
              "  <thead>\n",
              "    <tr style=\"text-align: right;\">\n",
              "      <th></th>\n",
              "      <th>name</th>\n",
              "      <th>rate</th>\n",
              "    </tr>\n",
              "  </thead>\n",
              "  <tbody>\n",
              "    <tr>\n",
              "      <th>224586</th>\n",
              "      <td>mexican stack up  rsc</td>\n",
              "      <td>4.990783</td>\n",
              "    </tr>\n",
              "    <tr>\n",
              "      <th>68183</th>\n",
              "      <td>kittencal s famous caesar salad</td>\n",
              "      <td>4.793427</td>\n",
              "    </tr>\n",
              "    <tr>\n",
              "      <th>50516</th>\n",
              "      <td>kittencal s extreme chocolate brownies</td>\n",
              "      <td>4.786325</td>\n",
              "    </tr>\n",
              "    <tr>\n",
              "      <th>3234</th>\n",
              "      <td>wholly guacamole</td>\n",
              "      <td>4.771812</td>\n",
              "    </tr>\n",
              "    <tr>\n",
              "      <th>59342</th>\n",
              "      <td>tsr version of t g i  friday s black bean soup...</td>\n",
              "      <td>4.762295</td>\n",
              "    </tr>\n",
              "    <tr>\n",
              "      <th>61784</th>\n",
              "      <td>roasted cauliflower   16 roasted cloves of garlic</td>\n",
              "      <td>4.753501</td>\n",
              "    </tr>\n",
              "    <tr>\n",
              "      <th>224644</th>\n",
              "      <td>bacon lattice tomato muffins  rsc</td>\n",
              "      <td>4.752475</td>\n",
              "    </tr>\n",
              "    <tr>\n",
              "      <th>42880</th>\n",
              "      <td>zesty oven baked fries</td>\n",
              "      <td>4.750000</td>\n",
              "    </tr>\n",
              "    <tr>\n",
              "      <th>16795</th>\n",
              "      <td>yummy crunchy apple pie</td>\n",
              "      <td>4.746341</td>\n",
              "    </tr>\n",
              "    <tr>\n",
              "      <th>24727</th>\n",
              "      <td>tomato and basil bruschetta</td>\n",
              "      <td>4.746269</td>\n",
              "    </tr>\n",
              "  </tbody>\n",
              "</table>\n",
              "</div>\n",
              "      <button class=\"colab-df-convert\" onclick=\"convertToInteractive('df-1cc9033a-788b-485b-b251-43302803ba43')\"\n",
              "              title=\"Convert this dataframe to an interactive table.\"\n",
              "              style=\"display:none;\">\n",
              "        \n",
              "  <svg xmlns=\"http://www.w3.org/2000/svg\" height=\"24px\"viewBox=\"0 0 24 24\"\n",
              "       width=\"24px\">\n",
              "    <path d=\"M0 0h24v24H0V0z\" fill=\"none\"/>\n",
              "    <path d=\"M18.56 5.44l.94 2.06.94-2.06 2.06-.94-2.06-.94-.94-2.06-.94 2.06-2.06.94zm-11 1L8.5 8.5l.94-2.06 2.06-.94-2.06-.94L8.5 2.5l-.94 2.06-2.06.94zm10 10l.94 2.06.94-2.06 2.06-.94-2.06-.94-.94-2.06-.94 2.06-2.06.94z\"/><path d=\"M17.41 7.96l-1.37-1.37c-.4-.4-.92-.59-1.43-.59-.52 0-1.04.2-1.43.59L10.3 9.45l-7.72 7.72c-.78.78-.78 2.05 0 2.83L4 21.41c.39.39.9.59 1.41.59.51 0 1.02-.2 1.41-.59l7.78-7.78 2.81-2.81c.8-.78.8-2.07 0-2.86zM5.41 20L4 18.59l7.72-7.72 1.47 1.35L5.41 20z\"/>\n",
              "  </svg>\n",
              "      </button>\n",
              "      \n",
              "  <style>\n",
              "    .colab-df-container {\n",
              "      display:flex;\n",
              "      flex-wrap:wrap;\n",
              "      gap: 12px;\n",
              "    }\n",
              "\n",
              "    .colab-df-convert {\n",
              "      background-color: #E8F0FE;\n",
              "      border: none;\n",
              "      border-radius: 50%;\n",
              "      cursor: pointer;\n",
              "      display: none;\n",
              "      fill: #1967D2;\n",
              "      height: 32px;\n",
              "      padding: 0 0 0 0;\n",
              "      width: 32px;\n",
              "    }\n",
              "\n",
              "    .colab-df-convert:hover {\n",
              "      background-color: #E2EBFA;\n",
              "      box-shadow: 0px 1px 2px rgba(60, 64, 67, 0.3), 0px 1px 3px 1px rgba(60, 64, 67, 0.15);\n",
              "      fill: #174EA6;\n",
              "    }\n",
              "\n",
              "    [theme=dark] .colab-df-convert {\n",
              "      background-color: #3B4455;\n",
              "      fill: #D2E3FC;\n",
              "    }\n",
              "\n",
              "    [theme=dark] .colab-df-convert:hover {\n",
              "      background-color: #434B5C;\n",
              "      box-shadow: 0px 1px 3px 1px rgba(0, 0, 0, 0.15);\n",
              "      filter: drop-shadow(0px 1px 2px rgba(0, 0, 0, 0.3));\n",
              "      fill: #FFFFFF;\n",
              "    }\n",
              "  </style>\n",
              "\n",
              "      <script>\n",
              "        const buttonEl =\n",
              "          document.querySelector('#df-1cc9033a-788b-485b-b251-43302803ba43 button.colab-df-convert');\n",
              "        buttonEl.style.display =\n",
              "          google.colab.kernel.accessAllowed ? 'block' : 'none';\n",
              "\n",
              "        async function convertToInteractive(key) {\n",
              "          const element = document.querySelector('#df-1cc9033a-788b-485b-b251-43302803ba43');\n",
              "          const dataTable =\n",
              "            await google.colab.kernel.invokeFunction('convertToInteractive',\n",
              "                                                     [key], {});\n",
              "          if (!dataTable) return;\n",
              "\n",
              "          const docLinkHtml = 'Like what you see? Visit the ' +\n",
              "            '<a target=\"_blank\" href=https://colab.research.google.com/notebooks/data_table.ipynb>data table notebook</a>'\n",
              "            + ' to learn more about interactive tables.';\n",
              "          element.innerHTML = '';\n",
              "          dataTable['output_type'] = 'display_data';\n",
              "          await google.colab.output.renderOutput(dataTable, element);\n",
              "          const docLink = document.createElement('div');\n",
              "          docLink.innerHTML = docLinkHtml;\n",
              "          element.appendChild(docLink);\n",
              "        }\n",
              "      </script>\n",
              "    </div>\n",
              "  </div>\n",
              "  "
            ]
          },
          "metadata": {},
          "execution_count": 9
        }
      ],
      "source": [
        "best_recipes = recipes_agmt[recipes_agmt['rate_count'] > 200].sort_values('rate', ascending=False)\n",
        "best_recipes[['name','rate']].head(10)"
      ]
    },
    {
      "cell_type": "markdown",
      "id": "93f5d5f4",
      "metadata": {
        "id": "93f5d5f4"
      },
      "source": [
        "### Recommendations par étapes"
      ]
    },
    {
      "cell_type": "markdown",
      "source": [
        "### Création d'un score en fonction des notes obtenues et du nombre de notes"
      ],
      "metadata": {
        "id": "wO3wsAiRNgai"
      },
      "id": "wO3wsAiRNgai"
    },
    {
      "cell_type": "code",
      "source": [
        "m = 50\n",
        "c = recipes_agmt.rate.mean()\n",
        "\n",
        "def imdb_score(x):\n",
        "    v = x['rate_count']\n",
        "    r= x['rate']\n",
        "    return (v/(v+m) * r) + (m/(m+v) * c)"
      ],
      "metadata": {
        "id": "UILVR9qpQSW6"
      },
      "id": "UILVR9qpQSW6",
      "execution_count": null,
      "outputs": []
    },
    {
      "cell_type": "code",
      "source": [
        "recipes_agmt['rate_average'] = recipes_agmt.apply(imdb_score, axis=1)"
      ],
      "metadata": {
        "id": "B82P7IATOC7R"
      },
      "id": "B82P7IATOC7R",
      "execution_count": null,
      "outputs": []
    },
    {
      "cell_type": "code",
      "source": [
        "recipes_steps = recipes_agmt.sort_values('rate_average', ascending=False)"
      ],
      "metadata": {
        "id": "Y1Bl87fORZv6"
      },
      "id": "Y1Bl87fORZv6",
      "execution_count": null,
      "outputs": []
    },
    {
      "cell_type": "markdown",
      "source": [
        "On extrait les 10 000 recettes ayant un rate average élevé"
      ],
      "metadata": {
        "id": "CnyV2jGNSPqt"
      },
      "id": "CnyV2jGNSPqt"
    },
    {
      "cell_type": "code",
      "source": [
        "recipes_steps = recipes_steps[:10000]"
      ],
      "metadata": {
        "id": "az_UU-kvSlkR"
      },
      "id": "az_UU-kvSlkR",
      "execution_count": null,
      "outputs": []
    },
    {
      "cell_type": "code",
      "source": [
        "recipes_steps=recipes_steps.reset_index(drop=True)"
      ],
      "metadata": {
        "id": "OsL22kocSvEa"
      },
      "id": "OsL22kocSvEa",
      "execution_count": null,
      "outputs": []
    },
    {
      "cell_type": "code",
      "execution_count": null,
      "id": "e0926ef3",
      "metadata": {
        "id": "e0926ef3",
        "colab": {
          "base_uri": "https://localhost:8080/"
        },
        "outputId": "3687b463-ec98-4faa-d025-447ce8083319"
      },
      "outputs": [
        {
          "output_type": "stream",
          "name": "stderr",
          "text": [
            "[nltk_data] Downloading package punkt to /root/nltk_data...\n",
            "[nltk_data]   Unzipping tokenizers/punkt.zip.\n",
            "[nltk_data] Downloading package stopwords to /root/nltk_data...\n",
            "[nltk_data]   Unzipping corpora/stopwords.zip.\n"
          ]
        }
      ],
      "source": [
        "from nltk import word_tokenize          \n",
        "from nltk.stem import SnowballStemmer\n",
        "import nltk\n",
        "from nltk.corpus import stopwords\n",
        "\n",
        "nltk.download('punkt')\n",
        "nltk.download('stopwords')\n",
        "# Download stopwords list\n",
        "\n",
        "stop_words = set(stopwords.words('english')) \n",
        "\n",
        "# Interface lemma tokenizer from nltk with sklearn\n",
        "class StemTokenizer:\n",
        "    ignore_tokens = [',','\\'', '.', ';', ':', '\"', '``', \"''\", '`',']','[']\n",
        "    def __init__(self):\n",
        "        self.stemmer = SnowballStemmer('english')\n",
        "    def __call__(self, doc):\n",
        "        return [self.stemmer.stem(t) for t in word_tokenize(doc) if t not in self.ignore_tokens]\n",
        "\n",
        "tokenizer=StemTokenizer()"
      ]
    },
    {
      "cell_type": "code",
      "source": [
        "from sklearn.feature_extraction.text import TfidfVectorizer\n",
        "from sklearn.metrics.pairwise import cosine_distances\n",
        "\n",
        "# Lemmatize the stop words\n",
        "token_stop = tokenizer(' '.join(stop_words))\n",
        "\n",
        "# Create TF-idf model\n",
        "tfidf = TfidfVectorizer(stop_words=token_stop, tokenizer=tokenizer, max_features=4000)\n",
        "\n",
        "#Construct the required TF-IDF matrix by fitting and transforming the recipes steps\n",
        "tfidf_matrix = tfidf.fit_transform(recipes_steps['steps'])\n",
        "\n",
        "cosine_sim = cosine_distances(tfidf_matrix, tfidf_matrix)"
      ],
      "metadata": {
        "id": "muEMnH-kU1Pr"
      },
      "id": "muEMnH-kU1Pr",
      "execution_count": null,
      "outputs": []
    },
    {
      "cell_type": "code",
      "source": [
        "names = recipes_steps['name']\n",
        "indices = pd.Series(recipes_steps.index, index=recipes_steps['name'])"
      ],
      "metadata": {
        "id": "Mmzz-Iv_Ve7M"
      },
      "id": "Mmzz-Iv_Ve7M",
      "execution_count": null,
      "outputs": []
    },
    {
      "cell_type": "code",
      "source": [
        "indices"
      ],
      "metadata": {
        "colab": {
          "base_uri": "https://localhost:8080/"
        },
        "id": "TJbZ1sBmXkKp",
        "outputId": "7f304ba9-14db-4f81-ea5c-814cb3d06f1d"
      },
      "id": "TJbZ1sBmXkKp",
      "execution_count": null,
      "outputs": [
        {
          "output_type": "execute_result",
          "data": {
            "text/plain": [
              "name\n",
              "mexican stack up  rsc                   0\n",
              "brown sugar bundt cake                  1\n",
              "monterey chicken rolls                  2\n",
              "sweet  creamy coleslaw                  3\n",
              "mango salsa  1                          4\n",
              "                                     ... \n",
              "pumpkin pancakes with cider sauce    9995\n",
              "mixed fruit and spinach smoothie     9996\n",
              "strawberry ice  cream                9997\n",
              "new orleans buck                     9998\n",
              "easy  asian chicken lettuce wraps    9999\n",
              "Length: 10000, dtype: int64"
            ]
          },
          "metadata": {},
          "execution_count": 18
        }
      ]
    },
    {
      "cell_type": "code",
      "source": [
        "def get_reco(recipe_name, sim_matrix):\n",
        "  idx = indices[recipe_name]\n",
        "  #print(f'original: {names}')\n",
        "  recos = sim_matrix[idx].argsort()[1:6]\n",
        "  recos = names.iloc[recos]\n",
        "  print(recos)\n",
        "\n",
        "name = 'strawberry ice  cream'\n",
        "get_reco(name, cosine_sim)"
      ],
      "metadata": {
        "id": "HFnY8ILfDYbg",
        "colab": {
          "base_uri": "https://localhost:8080/"
        },
        "outputId": "e7ed8204-b606-4279-b884-1f9e39811968"
      },
      "id": "HFnY8ILfDYbg",
      "execution_count": null,
      "outputs": [
        {
          "output_type": "stream",
          "name": "stdout",
          "text": [
            "3466               instant fruit ice cream\n",
            "631     blueberry blast breakfast smoothie\n",
            "3156                 val s cranberry salsa\n",
            "4907               cran raspberry smoothie\n",
            "92            paige s buttercream frosting\n",
            "Name: name, dtype: object\n"
          ]
        }
      ]
    },
    {
      "cell_type": "markdown",
      "source": [
        "### Recommendations par descriptions de la recette"
      ],
      "metadata": {
        "id": "GLCLP24qYeSf"
      },
      "id": "GLCLP24qYeSf"
    },
    {
      "cell_type": "code",
      "source": [
        "recipes_desc= recipes_steps.dropna(subset=['description'])"
      ],
      "metadata": {
        "id": "oLYQntLvZBHV"
      },
      "id": "oLYQntLvZBHV",
      "execution_count": null,
      "outputs": []
    },
    {
      "cell_type": "code",
      "source": [
        "recipes_desc = recipes_desc.reset_index(drop=True)"
      ],
      "metadata": {
        "id": "Kv_RzMfzZhoA"
      },
      "id": "Kv_RzMfzZhoA",
      "execution_count": null,
      "outputs": []
    },
    {
      "cell_type": "code",
      "execution_count": null,
      "id": "6d835a18",
      "metadata": {
        "id": "6d835a18"
      },
      "outputs": [],
      "source": [
        "# Lemmatize the stop words\n",
        "token_stop = tokenizer(' '.join(stop_words))\n",
        "\n",
        "# Create TF-idf model\n",
        "tfidf = TfidfVectorizer(stop_words=token_stop, tokenizer=tokenizer, max_features=4000)\n",
        "\n",
        "#Construct the required TF-IDF matrix by fitting and transforming the recipes steps\n",
        "tfidf_matrix = tfidf.fit_transform(recipes_desc['description'])\n",
        "\n",
        "cosine_sim = cosine_distances(tfidf_matrix, tfidf_matrix)"
      ]
    },
    {
      "cell_type": "code",
      "source": [
        "names = recipes_desc['name']\n",
        "indices = pd.Series(recipes_desc.index, index=recipes_desc['name'])"
      ],
      "metadata": {
        "id": "LZBGC3-TZ451"
      },
      "id": "LZBGC3-TZ451",
      "execution_count": null,
      "outputs": []
    },
    {
      "cell_type": "code",
      "execution_count": null,
      "id": "1697209c",
      "metadata": {
        "id": "1697209c",
        "colab": {
          "base_uri": "https://localhost:8080/",
          "height": 435
        },
        "outputId": "41a1a642-4444-40a2-dc0e-9c0941644946"
      },
      "outputs": [
        {
          "output_type": "error",
          "ename": "KeyError",
          "evalue": "ignored",
          "traceback": [
            "\u001b[0;31m---------------------------------------------------------------------------\u001b[0m",
            "\u001b[0;31mKeyError\u001b[0m                                  Traceback (most recent call last)",
            "\u001b[0;32m/usr/local/lib/python3.7/dist-packages/pandas/core/indexes/base.py\u001b[0m in \u001b[0;36mget_loc\u001b[0;34m(self, key, method, tolerance)\u001b[0m\n\u001b[1;32m   3360\u001b[0m             \u001b[0;32mtry\u001b[0m\u001b[0;34m:\u001b[0m\u001b[0;34m\u001b[0m\u001b[0;34m\u001b[0m\u001b[0m\n\u001b[0;32m-> 3361\u001b[0;31m                 \u001b[0;32mreturn\u001b[0m \u001b[0mself\u001b[0m\u001b[0;34m.\u001b[0m\u001b[0m_engine\u001b[0m\u001b[0;34m.\u001b[0m\u001b[0mget_loc\u001b[0m\u001b[0;34m(\u001b[0m\u001b[0mcasted_key\u001b[0m\u001b[0;34m)\u001b[0m\u001b[0;34m\u001b[0m\u001b[0;34m\u001b[0m\u001b[0m\n\u001b[0m\u001b[1;32m   3362\u001b[0m             \u001b[0;32mexcept\u001b[0m \u001b[0mKeyError\u001b[0m \u001b[0;32mas\u001b[0m \u001b[0merr\u001b[0m\u001b[0;34m:\u001b[0m\u001b[0;34m\u001b[0m\u001b[0;34m\u001b[0m\u001b[0m\n",
            "\u001b[0;32m/usr/local/lib/python3.7/dist-packages/pandas/_libs/index.pyx\u001b[0m in \u001b[0;36mpandas._libs.index.IndexEngine.get_loc\u001b[0;34m()\u001b[0m\n",
            "\u001b[0;32m/usr/local/lib/python3.7/dist-packages/pandas/_libs/index.pyx\u001b[0m in \u001b[0;36mpandas._libs.index.IndexEngine.get_loc\u001b[0;34m()\u001b[0m\n",
            "\u001b[0;32m/usr/local/lib/python3.7/dist-packages/pandas/_libs/index.pyx\u001b[0m in \u001b[0;36mpandas._libs.index.IndexEngine._get_loc_duplicates\u001b[0;34m()\u001b[0m\n",
            "\u001b[0;32m/usr/local/lib/python3.7/dist-packages/pandas/_libs/index.pyx\u001b[0m in \u001b[0;36mpandas._libs.index.IndexEngine._maybe_get_bool_indexer\u001b[0;34m()\u001b[0m\n",
            "\u001b[0;32m/usr/local/lib/python3.7/dist-packages/pandas/_libs/index.pyx\u001b[0m in \u001b[0;36mpandas._libs.index.IndexEngine._unpack_bool_indexer\u001b[0;34m()\u001b[0m\n",
            "\u001b[0;31mKeyError\u001b[0m: 'nutella'",
            "\nThe above exception was the direct cause of the following exception:\n",
            "\u001b[0;31mKeyError\u001b[0m                                  Traceback (most recent call last)",
            "\u001b[0;32m<ipython-input-25-616e02785472>\u001b[0m in \u001b[0;36m<module>\u001b[0;34m()\u001b[0m\n\u001b[1;32m      1\u001b[0m \u001b[0mname\u001b[0m \u001b[0;34m=\u001b[0m \u001b[0;34m'nutella'\u001b[0m\u001b[0;34m\u001b[0m\u001b[0;34m\u001b[0m\u001b[0m\n\u001b[0;32m----> 2\u001b[0;31m \u001b[0mget_reco\u001b[0m\u001b[0;34m(\u001b[0m\u001b[0mname\u001b[0m\u001b[0;34m,\u001b[0m \u001b[0mcosine_sim\u001b[0m\u001b[0;34m)\u001b[0m\u001b[0;34m\u001b[0m\u001b[0;34m\u001b[0m\u001b[0m\n\u001b[0m",
            "\u001b[0;32m<ipython-input-19-0381510dd307>\u001b[0m in \u001b[0;36mget_reco\u001b[0;34m(recipe_name, sim_matrix)\u001b[0m\n\u001b[1;32m      1\u001b[0m \u001b[0;32mdef\u001b[0m \u001b[0mget_reco\u001b[0m\u001b[0;34m(\u001b[0m\u001b[0mrecipe_name\u001b[0m\u001b[0;34m,\u001b[0m \u001b[0msim_matrix\u001b[0m\u001b[0;34m)\u001b[0m\u001b[0;34m:\u001b[0m\u001b[0;34m\u001b[0m\u001b[0;34m\u001b[0m\u001b[0m\n\u001b[0;32m----> 2\u001b[0;31m   \u001b[0midx\u001b[0m \u001b[0;34m=\u001b[0m \u001b[0mindices\u001b[0m\u001b[0;34m[\u001b[0m\u001b[0mrecipe_name\u001b[0m\u001b[0;34m]\u001b[0m\u001b[0;34m\u001b[0m\u001b[0;34m\u001b[0m\u001b[0m\n\u001b[0m\u001b[1;32m      3\u001b[0m   \u001b[0;31m#print(f'original: {names}')\u001b[0m\u001b[0;34m\u001b[0m\u001b[0;34m\u001b[0m\u001b[0;34m\u001b[0m\u001b[0m\n\u001b[1;32m      4\u001b[0m   \u001b[0mrecos\u001b[0m \u001b[0;34m=\u001b[0m \u001b[0msim_matrix\u001b[0m\u001b[0;34m[\u001b[0m\u001b[0midx\u001b[0m\u001b[0;34m]\u001b[0m\u001b[0;34m.\u001b[0m\u001b[0margsort\u001b[0m\u001b[0;34m(\u001b[0m\u001b[0;34m)\u001b[0m\u001b[0;34m[\u001b[0m\u001b[0;36m1\u001b[0m\u001b[0;34m:\u001b[0m\u001b[0;36m6\u001b[0m\u001b[0;34m]\u001b[0m\u001b[0;34m\u001b[0m\u001b[0;34m\u001b[0m\u001b[0m\n\u001b[1;32m      5\u001b[0m   \u001b[0mrecos\u001b[0m \u001b[0;34m=\u001b[0m \u001b[0mnames\u001b[0m\u001b[0;34m.\u001b[0m\u001b[0miloc\u001b[0m\u001b[0;34m[\u001b[0m\u001b[0mrecos\u001b[0m\u001b[0;34m]\u001b[0m\u001b[0;34m\u001b[0m\u001b[0;34m\u001b[0m\u001b[0m\n",
            "\u001b[0;32m/usr/local/lib/python3.7/dist-packages/pandas/core/series.py\u001b[0m in \u001b[0;36m__getitem__\u001b[0;34m(self, key)\u001b[0m\n\u001b[1;32m    940\u001b[0m \u001b[0;34m\u001b[0m\u001b[0m\n\u001b[1;32m    941\u001b[0m         \u001b[0;32melif\u001b[0m \u001b[0mkey_is_scalar\u001b[0m\u001b[0;34m:\u001b[0m\u001b[0;34m\u001b[0m\u001b[0;34m\u001b[0m\u001b[0m\n\u001b[0;32m--> 942\u001b[0;31m             \u001b[0;32mreturn\u001b[0m \u001b[0mself\u001b[0m\u001b[0;34m.\u001b[0m\u001b[0m_get_value\u001b[0m\u001b[0;34m(\u001b[0m\u001b[0mkey\u001b[0m\u001b[0;34m)\u001b[0m\u001b[0;34m\u001b[0m\u001b[0;34m\u001b[0m\u001b[0m\n\u001b[0m\u001b[1;32m    943\u001b[0m \u001b[0;34m\u001b[0m\u001b[0m\n\u001b[1;32m    944\u001b[0m         \u001b[0;32mif\u001b[0m \u001b[0mis_hashable\u001b[0m\u001b[0;34m(\u001b[0m\u001b[0mkey\u001b[0m\u001b[0;34m)\u001b[0m\u001b[0;34m:\u001b[0m\u001b[0;34m\u001b[0m\u001b[0;34m\u001b[0m\u001b[0m\n",
            "\u001b[0;32m/usr/local/lib/python3.7/dist-packages/pandas/core/series.py\u001b[0m in \u001b[0;36m_get_value\u001b[0;34m(self, label, takeable)\u001b[0m\n\u001b[1;32m   1049\u001b[0m \u001b[0;34m\u001b[0m\u001b[0m\n\u001b[1;32m   1050\u001b[0m         \u001b[0;31m# Similar to Index.get_value, but we do not fall back to positional\u001b[0m\u001b[0;34m\u001b[0m\u001b[0;34m\u001b[0m\u001b[0;34m\u001b[0m\u001b[0m\n\u001b[0;32m-> 1051\u001b[0;31m         \u001b[0mloc\u001b[0m \u001b[0;34m=\u001b[0m \u001b[0mself\u001b[0m\u001b[0;34m.\u001b[0m\u001b[0mindex\u001b[0m\u001b[0;34m.\u001b[0m\u001b[0mget_loc\u001b[0m\u001b[0;34m(\u001b[0m\u001b[0mlabel\u001b[0m\u001b[0;34m)\u001b[0m\u001b[0;34m\u001b[0m\u001b[0;34m\u001b[0m\u001b[0m\n\u001b[0m\u001b[1;32m   1052\u001b[0m         \u001b[0;32mreturn\u001b[0m \u001b[0mself\u001b[0m\u001b[0;34m.\u001b[0m\u001b[0mindex\u001b[0m\u001b[0;34m.\u001b[0m\u001b[0m_get_values_for_loc\u001b[0m\u001b[0;34m(\u001b[0m\u001b[0mself\u001b[0m\u001b[0;34m,\u001b[0m \u001b[0mloc\u001b[0m\u001b[0;34m,\u001b[0m \u001b[0mlabel\u001b[0m\u001b[0;34m)\u001b[0m\u001b[0;34m\u001b[0m\u001b[0;34m\u001b[0m\u001b[0m\n\u001b[1;32m   1053\u001b[0m \u001b[0;34m\u001b[0m\u001b[0m\n",
            "\u001b[0;32m/usr/local/lib/python3.7/dist-packages/pandas/core/indexes/base.py\u001b[0m in \u001b[0;36mget_loc\u001b[0;34m(self, key, method, tolerance)\u001b[0m\n\u001b[1;32m   3361\u001b[0m                 \u001b[0;32mreturn\u001b[0m \u001b[0mself\u001b[0m\u001b[0;34m.\u001b[0m\u001b[0m_engine\u001b[0m\u001b[0;34m.\u001b[0m\u001b[0mget_loc\u001b[0m\u001b[0;34m(\u001b[0m\u001b[0mcasted_key\u001b[0m\u001b[0;34m)\u001b[0m\u001b[0;34m\u001b[0m\u001b[0;34m\u001b[0m\u001b[0m\n\u001b[1;32m   3362\u001b[0m             \u001b[0;32mexcept\u001b[0m \u001b[0mKeyError\u001b[0m \u001b[0;32mas\u001b[0m \u001b[0merr\u001b[0m\u001b[0;34m:\u001b[0m\u001b[0;34m\u001b[0m\u001b[0;34m\u001b[0m\u001b[0m\n\u001b[0;32m-> 3363\u001b[0;31m                 \u001b[0;32mraise\u001b[0m \u001b[0mKeyError\u001b[0m\u001b[0;34m(\u001b[0m\u001b[0mkey\u001b[0m\u001b[0;34m)\u001b[0m \u001b[0;32mfrom\u001b[0m \u001b[0merr\u001b[0m\u001b[0;34m\u001b[0m\u001b[0;34m\u001b[0m\u001b[0m\n\u001b[0m\u001b[1;32m   3364\u001b[0m \u001b[0;34m\u001b[0m\u001b[0m\n\u001b[1;32m   3365\u001b[0m         \u001b[0;32mif\u001b[0m \u001b[0mis_scalar\u001b[0m\u001b[0;34m(\u001b[0m\u001b[0mkey\u001b[0m\u001b[0;34m)\u001b[0m \u001b[0;32mand\u001b[0m \u001b[0misna\u001b[0m\u001b[0;34m(\u001b[0m\u001b[0mkey\u001b[0m\u001b[0;34m)\u001b[0m \u001b[0;32mand\u001b[0m \u001b[0;32mnot\u001b[0m \u001b[0mself\u001b[0m\u001b[0;34m.\u001b[0m\u001b[0mhasnans\u001b[0m\u001b[0;34m:\u001b[0m\u001b[0;34m\u001b[0m\u001b[0;34m\u001b[0m\u001b[0m\n",
            "\u001b[0;31mKeyError\u001b[0m: 'nutella'"
          ]
        }
      ],
      "source": [
        "name = 'nutella'\n",
        "get_reco(name, cosine_sim)"
      ]
    },
    {
      "cell_type": "markdown",
      "source": [
        "## Conclusion\n",
        "\n"
      ],
      "metadata": {
        "id": "oW65fapbacGo"
      },
      "id": "oW65fapbacGo"
    }
  ],
  "metadata": {
    "kernelspec": {
      "display_name": "Python 3 (ipykernel)",
      "language": "python",
      "name": "python3"
    },
    "language_info": {
      "codemirror_mode": {
        "name": "ipython",
        "version": 3
      },
      "file_extension": ".py",
      "mimetype": "text/x-python",
      "name": "python",
      "nbconvert_exporter": "python",
      "pygments_lexer": "ipython3",
      "version": "3.8.10"
    },
    "colab": {
      "name": "Recommendation.ipynb",
      "provenance": []
    },
    "accelerator": "GPU",
    "gpuClass": "standard"
  },
  "nbformat": 4,
  "nbformat_minor": 5
}