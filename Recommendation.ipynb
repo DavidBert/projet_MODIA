{
  "cells": [
    {
      "cell_type": "markdown",
      "id": "FHMtoSrKNMJ_",
      "metadata": {
        "id": "FHMtoSrKNMJ_"
      },
      "source": [
        "# Recommendations de recettes les plus \"populaires\""
      ]
    },
    {
      "cell_type": "markdown",
      "id": "gWXqW3PDNXDq",
      "metadata": {
        "id": "gWXqW3PDNXDq"
      },
      "source": [
        "## Importations des données/packages"
      ]
    },
    {
      "cell_type": "code",
      "execution_count": 180,
      "id": "4b8a8c96",
      "metadata": {
        "id": "4b8a8c96"
      },
      "outputs": [],
      "source": [
        "import pandas as pd\n",
        "import numpy as np\n",
        "import matplotlib.pyplot as plt\n",
        "import sklearn\n",
        "import seaborn as sns"
      ]
    },
    {
      "cell_type": "code",
      "execution_count": 2,
      "id": "7d920647",
      "metadata": {
        "colab": {
          "base_uri": "https://localhost:8080/"
        },
        "id": "7d920647",
        "outputId": "1023e871-c578-46ac-e7e5-21b857bfacf6"
      },
      "outputs": [
        {
          "name": "stdout",
          "output_type": "stream",
          "text": [
            "Downloading...\n",
            "From: https://drive.google.com/uc?id=1VKuCi2vNFZLhmyy2CdU0Lp8-Ab3re81N\n",
            "To: /home/jsalvado/repository_github/projet_MODIA_gr4/interactions_test.csv\n",
            "100%|████████████████████████████████████████| 523k/523k [00:00<00:00, 3.13MB/s]\n",
            "Downloading...\n",
            "From: https://drive.google.com/uc?id=1JaF3TKLcveF2-88mzqF9EgP8928JhpCB\n",
            "To: /home/jsalvado/repository_github/projet_MODIA_gr4/interactions_train.csv.zip\n",
            "100%|██████████████████████████████████████| 9.29M/9.29M [00:03<00:00, 2.53MB/s]\n",
            "Downloading...\n",
            "From: https://drive.google.com/uc?id=13ORjoqdKbALvDyVjPIq23HWleQhccafJ\n",
            "To: /home/jsalvado/repository_github/projet_MODIA_gr4/RAW_interactions.csv.zip\n",
            "100%|████████████████████████████████████████| 131M/131M [00:50<00:00, 2.60MB/s]\n",
            "Downloading...\n",
            "From: https://drive.google.com/uc?id=1oijYQho6s63CjHppuJT7ERaRb81Javkt\n",
            "To: /home/jsalvado/repository_github/projet_MODIA_gr4/RAW_recipes.csv.zip\n",
            "100%|██████████████████████████████████████| 87.3M/87.3M [00:33<00:00, 2.62MB/s]\n"
          ]
        }
      ],
      "source": [
        "!gdown https://drive.google.com/uc?id=1VKuCi2vNFZLhmyy2CdU0Lp8-Ab3re81N \n",
        "!gdown https://drive.google.com/uc?id=1JaF3TKLcveF2-88mzqF9EgP8928JhpCB\n",
        "!gdown https://drive.google.com/uc?id=13ORjoqdKbALvDyVjPIq23HWleQhccafJ\n",
        "!gdown https://drive.google.com/uc?id=1oijYQho6s63CjHppuJT7ERaRb81Javkt"
      ]
    },
    {
      "cell_type": "code",
      "execution_count": 3,
      "id": "5c3deb66",
      "metadata": {
        "colab": {
          "base_uri": "https://localhost:8080/"
        },
        "id": "5c3deb66",
        "outputId": "da47e509-23eb-4c32-b5d9-7927daae7607"
      },
      "outputs": [
        {
          "name": "stdout",
          "output_type": "stream",
          "text": [
            "Archive:  RAW_interactions.csv.zip\n",
            "  inflating: RAW_interactions.csv    \n",
            "Archive:  RAW_recipes.csv.zip\n",
            "  inflating: RAW_recipes.csv         \n",
            "Archive:  interactions_train.csv.zip\n",
            "  inflating: interactions_train.csv  \n"
          ]
        }
      ],
      "source": [
        "! echo y | unzip RAW_interactions.csv.zip \n",
        "! echo y | unzip RAW_recipes.csv.zip\n",
        "! echo y | unzip interactions_train.csv.zip"
      ]
    },
    {
      "cell_type": "markdown",
      "id": "o-qZIPA7NaqO",
      "metadata": {
        "id": "o-qZIPA7NaqO"
      },
      "source": [
        "## Créations des dataframes"
      ]
    },
    {
      "cell_type": "code",
      "execution_count": 181,
      "id": "54903004",
      "metadata": {
        "id": "54903004"
      },
      "outputs": [],
      "source": [
        "comments = pd.read_csv('RAW_interactions.csv')\n",
        "recipes = pd.read_csv('RAW_recipes.csv')"
      ]
    },
    {
      "cell_type": "code",
      "execution_count": 182,
      "id": "GXYPKfGiBcpb",
      "metadata": {
        "colab": {
          "base_uri": "https://localhost:8080/",
          "height": 337
        },
        "id": "GXYPKfGiBcpb",
        "outputId": "76e92287-9a2a-4b60-b59a-fe03785a10bd"
      },
      "outputs": [
        {
          "data": {
            "text/html": [
              "<div>\n",
              "<style scoped>\n",
              "    .dataframe tbody tr th:only-of-type {\n",
              "        vertical-align: middle;\n",
              "    }\n",
              "\n",
              "    .dataframe tbody tr th {\n",
              "        vertical-align: top;\n",
              "    }\n",
              "\n",
              "    .dataframe thead th {\n",
              "        text-align: right;\n",
              "    }\n",
              "</style>\n",
              "<table border=\"1\" class=\"dataframe\">\n",
              "  <thead>\n",
              "    <tr style=\"text-align: right;\">\n",
              "      <th></th>\n",
              "      <th>name</th>\n",
              "      <th>id</th>\n",
              "      <th>minutes</th>\n",
              "      <th>contributor_id</th>\n",
              "      <th>submitted</th>\n",
              "      <th>tags</th>\n",
              "      <th>nutrition</th>\n",
              "      <th>n_steps</th>\n",
              "      <th>steps</th>\n",
              "      <th>description</th>\n",
              "      <th>ingredients</th>\n",
              "      <th>n_ingredients</th>\n",
              "    </tr>\n",
              "  </thead>\n",
              "  <tbody>\n",
              "    <tr>\n",
              "      <th>0</th>\n",
              "      <td>arriba   baked winter squash mexican style</td>\n",
              "      <td>137739</td>\n",
              "      <td>55</td>\n",
              "      <td>47892</td>\n",
              "      <td>2005-09-16</td>\n",
              "      <td>['60-minutes-or-less', 'time-to-make', 'course...</td>\n",
              "      <td>[51.5, 0.0, 13.0, 0.0, 2.0, 0.0, 4.0]</td>\n",
              "      <td>11</td>\n",
              "      <td>['make a choice and proceed with recipe', 'dep...</td>\n",
              "      <td>autumn is my favorite time of year to cook! th...</td>\n",
              "      <td>['winter squash', 'mexican seasoning', 'mixed ...</td>\n",
              "      <td>7</td>\n",
              "    </tr>\n",
              "    <tr>\n",
              "      <th>1</th>\n",
              "      <td>a bit different  breakfast pizza</td>\n",
              "      <td>31490</td>\n",
              "      <td>30</td>\n",
              "      <td>26278</td>\n",
              "      <td>2002-06-17</td>\n",
              "      <td>['30-minutes-or-less', 'time-to-make', 'course...</td>\n",
              "      <td>[173.4, 18.0, 0.0, 17.0, 22.0, 35.0, 1.0]</td>\n",
              "      <td>9</td>\n",
              "      <td>['preheat oven to 425 degrees f', 'press dough...</td>\n",
              "      <td>this recipe calls for the crust to be prebaked...</td>\n",
              "      <td>['prepared pizza crust', 'sausage patty', 'egg...</td>\n",
              "      <td>6</td>\n",
              "    </tr>\n",
              "    <tr>\n",
              "      <th>2</th>\n",
              "      <td>all in the kitchen  chili</td>\n",
              "      <td>112140</td>\n",
              "      <td>130</td>\n",
              "      <td>196586</td>\n",
              "      <td>2005-02-25</td>\n",
              "      <td>['time-to-make', 'course', 'preparation', 'mai...</td>\n",
              "      <td>[269.8, 22.0, 32.0, 48.0, 39.0, 27.0, 5.0]</td>\n",
              "      <td>6</td>\n",
              "      <td>['brown ground beef in large pot', 'add choppe...</td>\n",
              "      <td>this modified version of 'mom's' chili was a h...</td>\n",
              "      <td>['ground beef', 'yellow onions', 'diced tomato...</td>\n",
              "      <td>13</td>\n",
              "    </tr>\n",
              "    <tr>\n",
              "      <th>3</th>\n",
              "      <td>alouette  potatoes</td>\n",
              "      <td>59389</td>\n",
              "      <td>45</td>\n",
              "      <td>68585</td>\n",
              "      <td>2003-04-14</td>\n",
              "      <td>['60-minutes-or-less', 'time-to-make', 'course...</td>\n",
              "      <td>[368.1, 17.0, 10.0, 2.0, 14.0, 8.0, 20.0]</td>\n",
              "      <td>11</td>\n",
              "      <td>['place potatoes in a large pot of lightly sal...</td>\n",
              "      <td>this is a super easy, great tasting, make ahea...</td>\n",
              "      <td>['spreadable cheese with garlic and herbs', 'n...</td>\n",
              "      <td>11</td>\n",
              "    </tr>\n",
              "    <tr>\n",
              "      <th>4</th>\n",
              "      <td>amish  tomato ketchup  for canning</td>\n",
              "      <td>44061</td>\n",
              "      <td>190</td>\n",
              "      <td>41706</td>\n",
              "      <td>2002-10-25</td>\n",
              "      <td>['weeknight', 'time-to-make', 'course', 'main-...</td>\n",
              "      <td>[352.9, 1.0, 337.0, 23.0, 3.0, 0.0, 28.0]</td>\n",
              "      <td>5</td>\n",
              "      <td>['mix all ingredients&amp; boil for 2 1 / 2 hours ...</td>\n",
              "      <td>my dh's amish mother raised him on this recipe...</td>\n",
              "      <td>['tomato juice', 'apple cider vinegar', 'sugar...</td>\n",
              "      <td>8</td>\n",
              "    </tr>\n",
              "  </tbody>\n",
              "</table>\n",
              "</div>"
            ],
            "text/plain": [
              "                                         name      id  minutes  \\\n",
              "0  arriba   baked winter squash mexican style  137739       55   \n",
              "1            a bit different  breakfast pizza   31490       30   \n",
              "2                   all in the kitchen  chili  112140      130   \n",
              "3                          alouette  potatoes   59389       45   \n",
              "4          amish  tomato ketchup  for canning   44061      190   \n",
              "\n",
              "   contributor_id   submitted  \\\n",
              "0           47892  2005-09-16   \n",
              "1           26278  2002-06-17   \n",
              "2          196586  2005-02-25   \n",
              "3           68585  2003-04-14   \n",
              "4           41706  2002-10-25   \n",
              "\n",
              "                                                tags  \\\n",
              "0  ['60-minutes-or-less', 'time-to-make', 'course...   \n",
              "1  ['30-minutes-or-less', 'time-to-make', 'course...   \n",
              "2  ['time-to-make', 'course', 'preparation', 'mai...   \n",
              "3  ['60-minutes-or-less', 'time-to-make', 'course...   \n",
              "4  ['weeknight', 'time-to-make', 'course', 'main-...   \n",
              "\n",
              "                                    nutrition  n_steps  \\\n",
              "0       [51.5, 0.0, 13.0, 0.0, 2.0, 0.0, 4.0]       11   \n",
              "1   [173.4, 18.0, 0.0, 17.0, 22.0, 35.0, 1.0]        9   \n",
              "2  [269.8, 22.0, 32.0, 48.0, 39.0, 27.0, 5.0]        6   \n",
              "3   [368.1, 17.0, 10.0, 2.0, 14.0, 8.0, 20.0]       11   \n",
              "4   [352.9, 1.0, 337.0, 23.0, 3.0, 0.0, 28.0]        5   \n",
              "\n",
              "                                               steps  \\\n",
              "0  ['make a choice and proceed with recipe', 'dep...   \n",
              "1  ['preheat oven to 425 degrees f', 'press dough...   \n",
              "2  ['brown ground beef in large pot', 'add choppe...   \n",
              "3  ['place potatoes in a large pot of lightly sal...   \n",
              "4  ['mix all ingredients& boil for 2 1 / 2 hours ...   \n",
              "\n",
              "                                         description  \\\n",
              "0  autumn is my favorite time of year to cook! th...   \n",
              "1  this recipe calls for the crust to be prebaked...   \n",
              "2  this modified version of 'mom's' chili was a h...   \n",
              "3  this is a super easy, great tasting, make ahea...   \n",
              "4  my dh's amish mother raised him on this recipe...   \n",
              "\n",
              "                                         ingredients  n_ingredients  \n",
              "0  ['winter squash', 'mexican seasoning', 'mixed ...              7  \n",
              "1  ['prepared pizza crust', 'sausage patty', 'egg...              6  \n",
              "2  ['ground beef', 'yellow onions', 'diced tomato...             13  \n",
              "3  ['spreadable cheese with garlic and herbs', 'n...             11  \n",
              "4  ['tomato juice', 'apple cider vinegar', 'sugar...              8  "
            ]
          },
          "execution_count": 182,
          "metadata": {},
          "output_type": "execute_result"
        }
      ],
      "source": [
        "recipes.head()"
      ]
    },
    {
      "cell_type": "code",
      "execution_count": 183,
      "id": "aJNlp7bgBe1J",
      "metadata": {
        "colab": {
          "base_uri": "https://localhost:8080/",
          "height": 206
        },
        "id": "aJNlp7bgBe1J",
        "outputId": "151487d3-0f26-48aa-fd4c-978934271dc8"
      },
      "outputs": [
        {
          "data": {
            "text/html": [
              "<div>\n",
              "<style scoped>\n",
              "    .dataframe tbody tr th:only-of-type {\n",
              "        vertical-align: middle;\n",
              "    }\n",
              "\n",
              "    .dataframe tbody tr th {\n",
              "        vertical-align: top;\n",
              "    }\n",
              "\n",
              "    .dataframe thead th {\n",
              "        text-align: right;\n",
              "    }\n",
              "</style>\n",
              "<table border=\"1\" class=\"dataframe\">\n",
              "  <thead>\n",
              "    <tr style=\"text-align: right;\">\n",
              "      <th></th>\n",
              "      <th>user_id</th>\n",
              "      <th>recipe_id</th>\n",
              "      <th>date</th>\n",
              "      <th>rating</th>\n",
              "      <th>review</th>\n",
              "    </tr>\n",
              "  </thead>\n",
              "  <tbody>\n",
              "    <tr>\n",
              "      <th>0</th>\n",
              "      <td>38094</td>\n",
              "      <td>40893</td>\n",
              "      <td>2003-02-17</td>\n",
              "      <td>4</td>\n",
              "      <td>Great with a salad. Cooked on top of stove for...</td>\n",
              "    </tr>\n",
              "    <tr>\n",
              "      <th>1</th>\n",
              "      <td>1293707</td>\n",
              "      <td>40893</td>\n",
              "      <td>2011-12-21</td>\n",
              "      <td>5</td>\n",
              "      <td>So simple, so delicious! Great for chilly fall...</td>\n",
              "    </tr>\n",
              "    <tr>\n",
              "      <th>2</th>\n",
              "      <td>8937</td>\n",
              "      <td>44394</td>\n",
              "      <td>2002-12-01</td>\n",
              "      <td>4</td>\n",
              "      <td>This worked very well and is EASY.  I used not...</td>\n",
              "    </tr>\n",
              "    <tr>\n",
              "      <th>3</th>\n",
              "      <td>126440</td>\n",
              "      <td>85009</td>\n",
              "      <td>2010-02-27</td>\n",
              "      <td>5</td>\n",
              "      <td>I made the Mexican topping and took it to bunk...</td>\n",
              "    </tr>\n",
              "    <tr>\n",
              "      <th>4</th>\n",
              "      <td>57222</td>\n",
              "      <td>85009</td>\n",
              "      <td>2011-10-01</td>\n",
              "      <td>5</td>\n",
              "      <td>Made the cheddar bacon topping, adding a sprin...</td>\n",
              "    </tr>\n",
              "  </tbody>\n",
              "</table>\n",
              "</div>"
            ],
            "text/plain": [
              "   user_id  recipe_id        date  rating  \\\n",
              "0    38094      40893  2003-02-17       4   \n",
              "1  1293707      40893  2011-12-21       5   \n",
              "2     8937      44394  2002-12-01       4   \n",
              "3   126440      85009  2010-02-27       5   \n",
              "4    57222      85009  2011-10-01       5   \n",
              "\n",
              "                                              review  \n",
              "0  Great with a salad. Cooked on top of stove for...  \n",
              "1  So simple, so delicious! Great for chilly fall...  \n",
              "2  This worked very well and is EASY.  I used not...  \n",
              "3  I made the Mexican topping and took it to bunk...  \n",
              "4  Made the cheddar bacon topping, adding a sprin...  "
            ]
          },
          "execution_count": 183,
          "metadata": {},
          "output_type": "execute_result"
        }
      ],
      "source": [
        "comments.head()"
      ]
    },
    {
      "cell_type": "markdown",
      "id": "fd704e50",
      "metadata": {
        "id": "fd704e50"
      },
      "source": [
        "## Recommandations simples"
      ]
    },
    {
      "cell_type": "markdown",
      "id": "c8a006af",
      "metadata": {
        "id": "c8a006af"
      },
      "source": [
        "### Par popularité"
      ]
    },
    {
      "cell_type": "markdown",
      "id": "6b3e7c06",
      "metadata": {},
      "source": [
        "Ajout du nombre de note (rate_count) et de la note moyenne (rate) pour chaque recette\n"
      ]
    },
    {
      "cell_type": "code",
      "execution_count": 184,
      "id": "1264bb0b",
      "metadata": {
        "colab": {
          "base_uri": "https://localhost:8080/",
          "height": 337
        },
        "id": "1264bb0b",
        "outputId": "123653bc-5395-4dad-dab9-5cad865c515d"
      },
      "outputs": [
        {
          "data": {
            "text/html": [
              "<div>\n",
              "<style scoped>\n",
              "    .dataframe tbody tr th:only-of-type {\n",
              "        vertical-align: middle;\n",
              "    }\n",
              "\n",
              "    .dataframe tbody tr th {\n",
              "        vertical-align: top;\n",
              "    }\n",
              "\n",
              "    .dataframe thead th {\n",
              "        text-align: right;\n",
              "    }\n",
              "</style>\n",
              "<table border=\"1\" class=\"dataframe\">\n",
              "  <thead>\n",
              "    <tr style=\"text-align: right;\">\n",
              "      <th></th>\n",
              "      <th>id</th>\n",
              "      <th>rate_count</th>\n",
              "      <th>rate</th>\n",
              "      <th>name</th>\n",
              "      <th>minutes</th>\n",
              "      <th>contributor_id</th>\n",
              "      <th>submitted</th>\n",
              "      <th>tags</th>\n",
              "      <th>nutrition</th>\n",
              "      <th>n_steps</th>\n",
              "      <th>steps</th>\n",
              "      <th>description</th>\n",
              "      <th>ingredients</th>\n",
              "      <th>n_ingredients</th>\n",
              "    </tr>\n",
              "  </thead>\n",
              "  <tbody>\n",
              "    <tr>\n",
              "      <th>0</th>\n",
              "      <td>38</td>\n",
              "      <td>4</td>\n",
              "      <td>4.250000</td>\n",
              "      <td>low fat berry blue frozen dessert</td>\n",
              "      <td>1485</td>\n",
              "      <td>1533</td>\n",
              "      <td>1999-08-09</td>\n",
              "      <td>['weeknight', 'time-to-make', 'course', 'prepa...</td>\n",
              "      <td>[170.9, 3.0, 120.0, 1.0, 6.0, 6.0, 12.0]</td>\n",
              "      <td>13</td>\n",
              "      <td>['toss 2 cups berries with sugar', 'let stand ...</td>\n",
              "      <td>this is yummy and low-fat, it always turns out...</td>\n",
              "      <td>['blueberries', 'granulated sugar', 'vanilla y...</td>\n",
              "      <td>4</td>\n",
              "    </tr>\n",
              "    <tr>\n",
              "      <th>1</th>\n",
              "      <td>39</td>\n",
              "      <td>1</td>\n",
              "      <td>3.000000</td>\n",
              "      <td>biryani</td>\n",
              "      <td>265</td>\n",
              "      <td>1567</td>\n",
              "      <td>1999-08-29</td>\n",
              "      <td>['weeknight', 'time-to-make', 'course', 'main-...</td>\n",
              "      <td>[1110.7, 90.0, 81.0, 15.0, 126.0, 82.0, 28.0]</td>\n",
              "      <td>17</td>\n",
              "      <td>['soak saffron in warm milk for 5 minutes and ...</td>\n",
              "      <td>delhi, india</td>\n",
              "      <td>['saffron', 'milk', 'hot green chili peppers',...</td>\n",
              "      <td>26</td>\n",
              "    </tr>\n",
              "    <tr>\n",
              "      <th>2</th>\n",
              "      <td>40</td>\n",
              "      <td>9</td>\n",
              "      <td>4.333333</td>\n",
              "      <td>best lemonade</td>\n",
              "      <td>35</td>\n",
              "      <td>1566</td>\n",
              "      <td>1999-09-05</td>\n",
              "      <td>['60-minutes-or-less', 'time-to-make', 'course...</td>\n",
              "      <td>[311.1, 0.0, 308.0, 0.0, 0.0, 0.0, 27.0]</td>\n",
              "      <td>8</td>\n",
              "      <td>['into a 1 quart jar with tight fitting lid , ...</td>\n",
              "      <td>this is from one of my  first good house keepi...</td>\n",
              "      <td>['sugar', 'lemons, rind of', 'fresh water', 'f...</td>\n",
              "      <td>6</td>\n",
              "    </tr>\n",
              "    <tr>\n",
              "      <th>3</th>\n",
              "      <td>41</td>\n",
              "      <td>2</td>\n",
              "      <td>4.500000</td>\n",
              "      <td>carina s tofu vegetable kebabs</td>\n",
              "      <td>1460</td>\n",
              "      <td>1586</td>\n",
              "      <td>1999-09-03</td>\n",
              "      <td>['weeknight', 'time-to-make', 'course', 'main-...</td>\n",
              "      <td>[536.1, 36.0, 128.0, 64.0, 58.0, 19.0, 21.0]</td>\n",
              "      <td>18</td>\n",
              "      <td>['drain the tofu , carefully squeezing out exc...</td>\n",
              "      <td>this dish is best prepared a day in advance to...</td>\n",
              "      <td>['extra firm tofu', 'eggplant', 'zucchini', 'r...</td>\n",
              "      <td>15</td>\n",
              "    </tr>\n",
              "    <tr>\n",
              "      <th>4</th>\n",
              "      <td>43</td>\n",
              "      <td>1</td>\n",
              "      <td>1.000000</td>\n",
              "      <td>best blackbottom pie</td>\n",
              "      <td>140</td>\n",
              "      <td>34879</td>\n",
              "      <td>1999-08-21</td>\n",
              "      <td>['weeknight', 'time-to-make', 'course', 'cuisi...</td>\n",
              "      <td>[437.9, 29.0, 170.0, 11.0, 13.0, 54.0, 19.0]</td>\n",
              "      <td>35</td>\n",
              "      <td>['graham cracker crust: in small bowl , combin...</td>\n",
              "      <td>sweet, chocolatey,  yummy</td>\n",
              "      <td>['graham cracker crumbs', 'sugar', 'butter', '...</td>\n",
              "      <td>15</td>\n",
              "    </tr>\n",
              "  </tbody>\n",
              "</table>\n",
              "</div>"
            ],
            "text/plain": [
              "   id  rate_count      rate                               name  minutes  \\\n",
              "0  38           4  4.250000  low fat berry blue frozen dessert     1485   \n",
              "1  39           1  3.000000                            biryani      265   \n",
              "2  40           9  4.333333                      best lemonade       35   \n",
              "3  41           2  4.500000     carina s tofu vegetable kebabs     1460   \n",
              "4  43           1  1.000000               best blackbottom pie      140   \n",
              "\n",
              "   contributor_id   submitted  \\\n",
              "0            1533  1999-08-09   \n",
              "1            1567  1999-08-29   \n",
              "2            1566  1999-09-05   \n",
              "3            1586  1999-09-03   \n",
              "4           34879  1999-08-21   \n",
              "\n",
              "                                                tags  \\\n",
              "0  ['weeknight', 'time-to-make', 'course', 'prepa...   \n",
              "1  ['weeknight', 'time-to-make', 'course', 'main-...   \n",
              "2  ['60-minutes-or-less', 'time-to-make', 'course...   \n",
              "3  ['weeknight', 'time-to-make', 'course', 'main-...   \n",
              "4  ['weeknight', 'time-to-make', 'course', 'cuisi...   \n",
              "\n",
              "                                       nutrition  n_steps  \\\n",
              "0       [170.9, 3.0, 120.0, 1.0, 6.0, 6.0, 12.0]       13   \n",
              "1  [1110.7, 90.0, 81.0, 15.0, 126.0, 82.0, 28.0]       17   \n",
              "2       [311.1, 0.0, 308.0, 0.0, 0.0, 0.0, 27.0]        8   \n",
              "3   [536.1, 36.0, 128.0, 64.0, 58.0, 19.0, 21.0]       18   \n",
              "4   [437.9, 29.0, 170.0, 11.0, 13.0, 54.0, 19.0]       35   \n",
              "\n",
              "                                               steps  \\\n",
              "0  ['toss 2 cups berries with sugar', 'let stand ...   \n",
              "1  ['soak saffron in warm milk for 5 minutes and ...   \n",
              "2  ['into a 1 quart jar with tight fitting lid , ...   \n",
              "3  ['drain the tofu , carefully squeezing out exc...   \n",
              "4  ['graham cracker crust: in small bowl , combin...   \n",
              "\n",
              "                                         description  \\\n",
              "0  this is yummy and low-fat, it always turns out...   \n",
              "1                                       delhi, india   \n",
              "2  this is from one of my  first good house keepi...   \n",
              "3  this dish is best prepared a day in advance to...   \n",
              "4                          sweet, chocolatey,  yummy   \n",
              "\n",
              "                                         ingredients  n_ingredients  \n",
              "0  ['blueberries', 'granulated sugar', 'vanilla y...              4  \n",
              "1  ['saffron', 'milk', 'hot green chili peppers',...             26  \n",
              "2  ['sugar', 'lemons, rind of', 'fresh water', 'f...              6  \n",
              "3  ['extra firm tofu', 'eggplant', 'zucchini', 'r...             15  \n",
              "4  ['graham cracker crumbs', 'sugar', 'butter', '...             15  "
            ]
          },
          "execution_count": 184,
          "metadata": {},
          "output_type": "execute_result"
        }
      ],
      "source": [
        "recipes_agmt = comments[['recipe_id','rating']].groupby(by='recipe_id', as_index=False) \\\n",
        "       .agg(rate_count=('rating', 'count'), rate=('rating', 'mean')) \\\n",
        "       .rename(columns={'recipe_id' : 'id'}) \\\n",
        "       .merge(recipes,on='id')\n",
        "\n",
        "recipes_agmt.head()"
      ]
    },
    {
      "cell_type": "code",
      "execution_count": 185,
      "id": "ff608138",
      "metadata": {
        "colab": {
          "base_uri": "https://localhost:8080/",
          "height": 227
        },
        "id": "ff608138",
        "outputId": "83e62b7f-ae94-4600-f716-511291c50c1f"
      },
      "outputs": [
        {
          "data": {
            "image/png": "[encoded data removed]",
            "text/plain": [
              "<Figure size 864x216 with 2 Axes>"
            ]
          },
          "metadata": {
            "needs_background": "light"
          },
          "output_type": "display_data"
        }
      ],
      "source": [
        "figure, axis = plt.subplots(1, 2, figsize=(12,3))\n",
        "\n",
        "axis[0].hist(recipes_agmt['rate_count'])\n",
        "axis[0].axvline(x=100,linestyle='--',color='r')\n",
        "axis[0].set_yscale('log')\n",
        "axis[0].set_title('Rate Count')\n",
        "axis[0].grid()\n",
        "axis[1].hist(recipes_agmt['rate'], bins=5)\n",
        "axis[1].set_title('Rate')\n",
        "axis[1].set_yscale('log')\n",
        "axis[1].grid()\n",
        "\n",
        "plt.show()"
      ]
    },
    {
      "cell_type": "markdown",
      "id": "85888ddc",
      "metadata": {},
      "source": [
        "On décide de ne prendre en compte seulement les recettes avec plus de 100 notes"
      ]
    },
    {
      "cell_type": "markdown",
      "id": "392f88e6",
      "metadata": {},
      "source": [
        "Exemple de recommandations par note "
      ]
    },
    {
      "cell_type": "code",
      "execution_count": 186,
      "id": "7f021be0",
      "metadata": {
        "colab": {
          "base_uri": "https://localhost:8080/",
          "height": 363
        },
        "id": "7f021be0",
        "outputId": "230cbc67-10ac-4485-e32d-156a61c7da6b"
      },
      "outputs": [
        {
          "data": {
            "text/html": [
              "<div>\n",
              "<style scoped>\n",
              "    .dataframe tbody tr th:only-of-type {\n",
              "        vertical-align: middle;\n",
              "    }\n",
              "\n",
              "    .dataframe tbody tr th {\n",
              "        vertical-align: top;\n",
              "    }\n",
              "\n",
              "    .dataframe thead th {\n",
              "        text-align: right;\n",
              "    }\n",
              "</style>\n",
              "<table border=\"1\" class=\"dataframe\">\n",
              "  <thead>\n",
              "    <tr style=\"text-align: right;\">\n",
              "      <th></th>\n",
              "      <th>name</th>\n",
              "      <th>rate</th>\n",
              "    </tr>\n",
              "  </thead>\n",
              "  <tbody>\n",
              "    <tr>\n",
              "      <th>224586</th>\n",
              "      <td>mexican stack up  rsc</td>\n",
              "      <td>4.990783</td>\n",
              "    </tr>\n",
              "    <tr>\n",
              "      <th>23999</th>\n",
              "      <td>brown sugar bundt cake</td>\n",
              "      <td>4.915254</td>\n",
              "    </tr>\n",
              "    <tr>\n",
              "      <th>53087</th>\n",
              "      <td>monterey chicken rolls</td>\n",
              "      <td>4.865672</td>\n",
              "    </tr>\n",
              "    <tr>\n",
              "      <th>58291</th>\n",
              "      <td>sweet  creamy coleslaw</td>\n",
              "      <td>4.848921</td>\n",
              "    </tr>\n",
              "    <tr>\n",
              "      <th>120377</th>\n",
              "      <td>linda s cheesecake stuffed strawberries</td>\n",
              "      <td>4.847328</td>\n",
              "    </tr>\n",
              "    <tr>\n",
              "      <th>21497</th>\n",
              "      <td>spiced sweet roasted red pepper   feta hummus</td>\n",
              "      <td>4.846154</td>\n",
              "    </tr>\n",
              "    <tr>\n",
              "      <th>42195</th>\n",
              "      <td>individual cream cheese danish</td>\n",
              "      <td>4.844444</td>\n",
              "    </tr>\n",
              "    <tr>\n",
              "      <th>61037</th>\n",
              "      <td>easy  festive chocolate holiday pretzels</td>\n",
              "      <td>4.836066</td>\n",
              "    </tr>\n",
              "    <tr>\n",
              "      <th>4556</th>\n",
              "      <td>master brine recipe for meats</td>\n",
              "      <td>4.818182</td>\n",
              "    </tr>\n",
              "    <tr>\n",
              "      <th>43438</th>\n",
              "      <td>kittencal s beef or pork marinade and tenderizer</td>\n",
              "      <td>4.814159</td>\n",
              "    </tr>\n",
              "  </tbody>\n",
              "</table>\n",
              "</div>"
            ],
            "text/plain": [
              "                                                    name      rate\n",
              "224586                             mexican stack up  rsc  4.990783\n",
              "23999                             brown sugar bundt cake  4.915254\n",
              "53087                             monterey chicken rolls  4.865672\n",
              "58291                             sweet  creamy coleslaw  4.848921\n",
              "120377           linda s cheesecake stuffed strawberries  4.847328\n",
              "21497      spiced sweet roasted red pepper   feta hummus  4.846154\n",
              "42195                     individual cream cheese danish  4.844444\n",
              "61037           easy  festive chocolate holiday pretzels  4.836066\n",
              "4556                       master brine recipe for meats  4.818182\n",
              "43438   kittencal s beef or pork marinade and tenderizer  4.814159"
            ]
          },
          "execution_count": 186,
          "metadata": {},
          "output_type": "execute_result"
        }
      ],
      "source": [
        "best_recipes = recipes_agmt[recipes_agmt['rate_count'] > 100].sort_values('rate', ascending=False)\n",
        "best_recipes[['name','rate']].head(10)"
      ]
    },
    {
      "cell_type": "markdown",
      "id": "671d1559",
      "metadata": {},
      "source": [
        "Exemple de recommandations par note IMDB"
      ]
    },
    {
      "cell_type": "code",
      "execution_count": 187,
      "id": "b7eca1a9",
      "metadata": {},
      "outputs": [
        {
          "data": {
            "text/html": [
              "<div>\n",
              "<style scoped>\n",
              "    .dataframe tbody tr th:only-of-type {\n",
              "        vertical-align: middle;\n",
              "    }\n",
              "\n",
              "    .dataframe tbody tr th {\n",
              "        vertical-align: top;\n",
              "    }\n",
              "\n",
              "    .dataframe thead th {\n",
              "        text-align: right;\n",
              "    }\n",
              "</style>\n",
              "<table border=\"1\" class=\"dataframe\">\n",
              "  <thead>\n",
              "    <tr style=\"text-align: right;\">\n",
              "      <th></th>\n",
              "      <th>name</th>\n",
              "      <th>rate_imdb</th>\n",
              "    </tr>\n",
              "  </thead>\n",
              "  <tbody>\n",
              "    <tr>\n",
              "      <th>224586</th>\n",
              "      <td>mexican stack up  rsc</td>\n",
              "      <td>4.870084</td>\n",
              "    </tr>\n",
              "    <tr>\n",
              "      <th>23999</th>\n",
              "      <td>brown sugar bundt cake</td>\n",
              "      <td>4.745907</td>\n",
              "    </tr>\n",
              "    <tr>\n",
              "      <th>53087</th>\n",
              "      <td>monterey chicken rolls</td>\n",
              "      <td>4.724523</td>\n",
              "    </tr>\n",
              "    <tr>\n",
              "      <th>58291</th>\n",
              "      <td>sweet  creamy coleslaw</td>\n",
              "      <td>4.715938</td>\n",
              "    </tr>\n",
              "    <tr>\n",
              "      <th>13495</th>\n",
              "      <td>tiny cinnamon rolls</td>\n",
              "      <td>4.711396</td>\n",
              "    </tr>\n",
              "    <tr>\n",
              "      <th>3234</th>\n",
              "      <td>wholly guacamole</td>\n",
              "      <td>4.710668</td>\n",
              "    </tr>\n",
              "    <tr>\n",
              "      <th>42195</th>\n",
              "      <td>individual cream cheese danish</td>\n",
              "      <td>4.709796</td>\n",
              "    </tr>\n",
              "    <tr>\n",
              "      <th>120377</th>\n",
              "      <td>linda s cheesecake stuffed strawberries</td>\n",
              "      <td>4.708908</td>\n",
              "    </tr>\n",
              "    <tr>\n",
              "      <th>50516</th>\n",
              "      <td>kittencal s extreme chocolate brownies</td>\n",
              "      <td>4.708846</td>\n",
              "    </tr>\n",
              "    <tr>\n",
              "      <th>68183</th>\n",
              "      <td>kittencal s famous caesar salad</td>\n",
              "      <td>4.708412</td>\n",
              "    </tr>\n",
              "  </tbody>\n",
              "</table>\n",
              "</div>"
            ],
            "text/plain": [
              "                                           name  rate_imdb\n",
              "224586                    mexican stack up  rsc   4.870084\n",
              "23999                    brown sugar bundt cake   4.745907\n",
              "53087                    monterey chicken rolls   4.724523\n",
              "58291                    sweet  creamy coleslaw   4.715938\n",
              "13495                       tiny cinnamon rolls   4.711396\n",
              "3234                           wholly guacamole   4.710668\n",
              "42195            individual cream cheese danish   4.709796\n",
              "120377  linda s cheesecake stuffed strawberries   4.708908\n",
              "50516    kittencal s extreme chocolate brownies   4.708846\n",
              "68183           kittencal s famous caesar salad   4.708412"
            ]
          },
          "execution_count": 187,
          "metadata": {},
          "output_type": "execute_result"
        }
      ],
      "source": [
        "m = 50\n",
        "c = recipes_agmt.rate.mean()\n",
        "\n",
        "def imdb_score(x):\n",
        "    v = x['rate_count']\n",
        "    r= x['rate']\n",
        "    return (v/(v+m) * r) + (m/(m+v) * c)\n",
        "\n",
        "recipes_agmt['rate_imdb'] = recipes_agmt.apply(imdb_score, axis=1)\n",
        "best_recipes = recipes_agmt[recipes_agmt['rate_count'] > 100].sort_values('rate_imdb', ascending=False)\n",
        "best_recipes[['name','rate_imdb']].head(10)"
      ]
    },
    {
      "cell_type": "markdown",
      "id": "93f5d5f4",
      "metadata": {
        "id": "93f5d5f4"
      },
      "source": [
        "### Recommendations par étapes"
      ]
    },
    {
      "cell_type": "markdown",
      "id": "acb901c0",
      "metadata": {},
      "source": [
        "On extrait les 10 000 recettes ayant un rate imdb élevé"
      ]
    },
    {
      "cell_type": "code",
      "execution_count": 215,
      "id": "Y1Bl87fORZv6",
      "metadata": {
        "id": "Y1Bl87fORZv6"
      },
      "outputs": [],
      "source": [
        "MAX_NB_RECIPES = 10000\n",
        "subset_steps = recipes_agmt.dropna(subset=['steps']).sort_values('rate_imdb', ascending=False)[:MAX_NB_RECIPES]"
      ]
    },
    {
      "cell_type": "code",
      "execution_count": 216,
      "id": "e0926ef3",
      "metadata": {
        "colab": {
          "base_uri": "https://localhost:8080/"
        },
        "id": "e0926ef3",
        "outputId": "3687b463-ec98-4faa-d025-447ce8083319"
      },
      "outputs": [
        {
          "name": "stderr",
          "output_type": "stream",
          "text": [
            "[nltk_data] Downloading package punkt to /home/jsalvado/nltk_data...\n",
            "[nltk_data]   Package punkt is already up-to-date!\n",
            "[nltk_data] Downloading package stopwords to\n",
            "[nltk_data]     /home/jsalvado/nltk_data...\n",
            "[nltk_data]   Package stopwords is already up-to-date!\n"
          ]
        }
      ],
      "source": [
        "from nltk import word_tokenize          \n",
        "from nltk.stem import SnowballStemmer\n",
        "import nltk\n",
        "from nltk.corpus import stopwords\n",
        "\n",
        "nltk.download('punkt')\n",
        "nltk.download('stopwords')\n",
        "# Download stopwords list\n",
        "\n",
        "stop_words = set(stopwords.words('english')) \n",
        "\n",
        "# Interface lemma tokenizer from nltk with sklearn\n",
        "class StemTokenizer:\n",
        "    ignore_tokens = [',','\\'', '.', ';', ':', '\"', '``', \"''\", '`',']','[']\n",
        "    def __init__(self):\n",
        "        self.stemmer = SnowballStemmer('english')\n",
        "    def __call__(self, doc):\n",
        "        return [self.stemmer.stem(t) for t in word_tokenize(doc) if t not in self.ignore_tokens]\n",
        "\n",
        "tokenizer=StemTokenizer()"
      ]
    },
    {
      "cell_type": "code",
      "execution_count": 217,
      "id": "muEMnH-kU1Pr",
      "metadata": {
        "id": "muEMnH-kU1Pr"
      },
      "outputs": [],
      "source": [
        "from sklearn.feature_extraction.text import TfidfVectorizer\n",
        "from sklearn.metrics.pairwise import cosine_distances\n",
        "\n",
        "# Lemmatize the stop words\n",
        "token_stop = tokenizer(' '.join(stop_words))\n",
        "\n",
        "# Create TF-idf model\n",
        "tfidf = TfidfVectorizer(stop_words=token_stop, tokenizer=tokenizer, max_features=4000)\n",
        "\n",
        "#Construct the required TF-IDF matrix by fitting and transforming the recipes steps\n",
        "tfidf_matrix = tfidf.fit_transform(subset_steps['steps'])\n",
        "\n",
        "cosine_sim = cosine_distances(tfidf_matrix, tfidf_matrix)"
      ]
    },
    {
      "cell_type": "code",
      "execution_count": 218,
      "id": "HFnY8ILfDYbg",
      "metadata": {
        "colab": {
          "base_uri": "https://localhost:8080/"
        },
        "id": "HFnY8ILfDYbg",
        "outputId": "e7ed8204-b606-4279-b884-1f9e39811968"
      },
      "outputs": [],
      "source": [
        "names = subset_steps['name'].reset_index(drop=True)\n",
        "indices = pd.Series(names.index, index=subset_steps['name'].reset_index(drop=True))\n",
        "\n",
        "def get_reco(recipe_name, indices, sim_matrix):\n",
        "  idx = indices[recipe_name]\n",
        "  #print(f'original: {names}')\n",
        "  recos = sim_matrix[idx].argsort()[1:6]\n",
        "  recos = names.iloc[recos]\n",
        "  return recos"
      ]
    },
    {
      "cell_type": "markdown",
      "id": "3048b9e1",
      "metadata": {},
      "source": [
        "Recommandation en fonction des étapes"
      ]
    },
    {
      "cell_type": "code",
      "execution_count": 219,
      "id": "2181aec3",
      "metadata": {},
      "outputs": [
        {
          "name": "stdout",
          "output_type": "stream",
          "text": [
            "RECIPES NAMES :  belgian meatloaf \n",
            "\n",
            "RECOMMENDATIONS \n",
            " 6713                              bethie s eggs\n",
            "8340    sweet red pepper   mushroom quesadillas\n",
            "6545                      taco macaroni skillet\n",
            "5972                   roasted red pepper sauce\n",
            "4163               garlic and thyme green beans\n",
            "Name: name, dtype: object\n"
          ]
        }
      ],
      "source": [
        "name = names[np.random.randint(MAX_NB_RECIPES)]\n",
        "recos = get_reco(name, indices, cosine_sim)\n",
        "\n",
        "print('RECIPES NAMES : ', name, '\\n')\n",
        "print('RECOMMENDATIONS \\n', recos)"
      ]
    },
    {
      "cell_type": "markdown",
      "id": "GLCLP24qYeSf",
      "metadata": {
        "id": "GLCLP24qYeSf"
      },
      "source": [
        "### Recommendations par descriptions de la recette"
      ]
    },
    {
      "cell_type": "markdown",
      "id": "4ba99f9f",
      "metadata": {},
      "source": [
        "On extrait les 10 000 recettes ayant un rate imdb élevé"
      ]
    },
    {
      "cell_type": "code",
      "execution_count": 220,
      "id": "e6a1b005",
      "metadata": {},
      "outputs": [],
      "source": [
        "MAX_NB_RECIPES = 10000\n",
        "subset_desc = recipes_agmt.dropna(subset=['description']).sort_values('rate_imdb', ascending=False)[:MAX_NB_RECIPES]"
      ]
    },
    {
      "cell_type": "code",
      "execution_count": 221,
      "id": "6d835a18",
      "metadata": {
        "id": "6d835a18"
      },
      "outputs": [],
      "source": [
        "# Lemmatize the stop words\n",
        "token_stop = tokenizer(' '.join(stop_words))\n",
        "\n",
        "# Create TF-idf model\n",
        "tfidf = TfidfVectorizer(stop_words=token_stop, tokenizer=tokenizer, max_features=4000)\n",
        "\n",
        "#Construct the required TF-IDF matrix by fitting and transforming the recipes steps\n",
        "tfidf_matrix = tfidf.fit_transform(subset_desc.description)\n",
        "\n",
        "cosine_sim = cosine_distances(tfidf_matrix, tfidf_matrix)"
      ]
    },
    {
      "cell_type": "code",
      "execution_count": 222,
      "id": "LZBGC3-TZ451",
      "metadata": {
        "id": "LZBGC3-TZ451"
      },
      "outputs": [
        {
          "name": "stdout",
          "output_type": "stream",
          "text": [
            "0                          mexican stack up  rsc\n",
            "1                         brown sugar bundt cake\n",
            "2                         monterey chicken rolls\n",
            "3                         sweet  creamy coleslaw\n",
            "4                                 mango salsa  1\n",
            "                          ...                   \n",
            "9995    pepperoni bread  using refrigerator loaf\n",
            "9996                       exotic chicken kebabs\n",
            "9997                            tomato treat   3\n",
            "9998        chicken with shitakes and artichokes\n",
            "9999              herbed trout with lemon butter\n",
            "Name: name, Length: 10000, dtype: object\n"
          ]
        }
      ],
      "source": [
        "names = subset_desc['name'].reset_index(drop=True)\n",
        "indices = pd.Series(names.index, index=subset_desc['name'].reset_index(drop=True))\n",
        "print(names)"
      ]
    },
    {
      "cell_type": "markdown",
      "id": "87645581",
      "metadata": {},
      "source": [
        "Recommandation en fonction des étapes"
      ]
    },
    {
      "cell_type": "code",
      "execution_count": 223,
      "id": "1697209c",
      "metadata": {
        "colab": {
          "base_uri": "https://localhost:8080/",
          "height": 435
        },
        "id": "1697209c",
        "outputId": "41a1a642-4444-40a2-dc0e-9c0941644946"
      },
      "outputs": [
        {
          "name": "stdout",
          "output_type": "stream",
          "text": [
            "RECIPES NAMES :  gatorbek s cuban pork  black beans  and yellow rice \n",
            "\n",
            "RECOMMENDATIONS \n",
            " 2606            imitation crab  surimi  and avocado salad\n",
            "4391                                   tex mex pork chops\n",
            "6766    white corn on the cob seasoned with chipotle p...\n",
            "8148                                   quick spanish rice\n",
            "7732                roasted red bell pepper   tomato soup\n",
            "Name: name, dtype: object\n"
          ]
        }
      ],
      "source": [
        "name = names[np.random.randint(MAX_NB_RECIPES)]\n",
        "recos = get_reco(name, indices, cosine_sim)\n",
        "\n",
        "print('RECIPES NAMES : ', name, '\\n')\n",
        "print('RECOMMENDATIONS \\n', recos)"
      ]
    },
    {
      "cell_type": "markdown",
      "id": "oW65fapbacGo",
      "metadata": {
        "id": "oW65fapbacGo"
      },
      "source": [
        "## Conclusion\n",
        "\n",
        "En se basant sur la cosine distance on remarque que la plupart des recommendations sont faites en fonctions des aliments présent dans la recette. \n"
      ]
    }
  ],
  "metadata": {
    "accelerator": "GPU",
    "colab": {
      "name": "Recommendation.ipynb",
      "provenance": []
    },
    "gpuClass": "standard",
    "kernelspec": {
      "display_name": "Python 3 (ipykernel)",
      "language": "python",
      "name": "python3"
    },
    "language_info": {
      "codemirror_mode": {
        "name": "ipython",
        "version": 3
      },
      "file_extension": ".py",
      "mimetype": "text/x-python",
      "name": "python",
      "nbconvert_exporter": "python",
      "pygments_lexer": "ipython3",
      "version": "3.9.7"
    }
  },
  "nbformat": 4,
  "nbformat_minor": 5
}
